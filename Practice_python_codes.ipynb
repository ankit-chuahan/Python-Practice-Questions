{
  "nbformat": 4,
  "nbformat_minor": 0,
  "metadata": {
    "colab": {
      "provenance": [],
      "authorship_tag": "ABX9TyOqJg30nW/2m6leGfsWtKv5",
      "include_colab_link": true
    },
    "kernelspec": {
      "name": "python3",
      "display_name": "Python 3"
    },
    "language_info": {
      "name": "python"
    }
  },
  "cells": [
    {
      "cell_type": "markdown",
      "metadata": {
        "id": "view-in-github",
        "colab_type": "text"
      },
      "source": [
        "<a href=\"https://colab.research.google.com/github/ankit-chuahan/Python-Practice-Questions/blob/main/Practice_python_codes.ipynb\" target=\"_parent\"><img src=\"https://colab.research.google.com/assets/colab-badge.svg\" alt=\"Open In Colab\"/></a>"
      ]
    },
    {
      "cell_type": "markdown",
      "source": [
        "Write a Python program to find the area of a triangle.\n",
        "\n",
        "Area of triangle is 1/2 * Base * height"
      ],
      "metadata": {
        "id": "IhQcOK1rICp5"
      }
    },
    {
      "cell_type": "code",
      "execution_count": 5,
      "metadata": {
        "colab": {
          "base_uri": "https://localhost:8080/"
        },
        "id": "iwtj2aTYHEai",
        "outputId": "9e61f6f4-5b84-4168-c33e-753451d2b4d2"
      },
      "outputs": [
        {
          "output_type": "stream",
          "name": "stdout",
          "text": [
            "Enter the Base of Triangle\n",
            "15\n",
            "Enter the Height of Triangle\n",
            "12\n",
            "The Area of Triangle of Base 15  And Height 12 is : -->90.0\n"
          ]
        }
      ],
      "source": [
        "# Taking user input for both base and height and type cast it to int\n",
        "Base =int(input(\"Enter the Base of Triangle\\n\"))\n",
        "Height = int(input(\"Enter the Height of Triangle\\n\"))\n",
        "Area = (1/2 * Base * Height)\n",
        "print(f\"The Area of Triangle of Base {Base}  And Height {Height} is : -->{Area}\")"
      ]
    },
    {
      "cell_type": "markdown",
      "source": [
        "Write a Python program to swap two variables."
      ],
      "metadata": {
        "id": "DbV8pR0kJnuW"
      }
    },
    {
      "cell_type": "code",
      "source": [
        "a = int(input(\"enter first number\\n\"))\n",
        "b = int(input(\"enter second number\\n\"))\n",
        "# a,b = b,a\n",
        "# print(a,b)\n",
        "print(f\"original value of A is {a} and b is {b}\")\n",
        "temp = a\n",
        "a=b\n",
        "b=temp\n",
        "print(f\"after swapping value of A is {a} and b is {b}\")"
      ],
      "metadata": {
        "colab": {
          "base_uri": "https://localhost:8080/"
        },
        "id": "OTPNm-GnJG3y",
        "outputId": "4cb286c5-9f02-4eb8-ddc4-8005195ee24a"
      },
      "execution_count": 9,
      "outputs": [
        {
          "output_type": "stream",
          "name": "stdout",
          "text": [
            "enter first number\n",
            "1\n",
            "enter second number\n",
            "100\n",
            "original value of A is 1 and b is 100\n",
            "after swapping value of A is 100 and b is 1\n"
          ]
        }
      ]
    },
    {
      "cell_type": "markdown",
      "source": [],
      "metadata": {
        "id": "6LGqdieDLEzz"
      }
    },
    {
      "cell_type": "code",
      "source": [
        "import random\n",
        "print(random.randint(1,100))"
      ],
      "metadata": {
        "colab": {
          "base_uri": "https://localhost:8080/"
        },
        "id": "ue3nwPi7KnBW",
        "outputId": "a321ff3c-f11d-4118-b319-fcc271403be8"
      },
      "execution_count": 10,
      "outputs": [
        {
          "output_type": "stream",
          "name": "stdout",
          "text": [
            "67\n"
          ]
        }
      ]
    }
  ]
}
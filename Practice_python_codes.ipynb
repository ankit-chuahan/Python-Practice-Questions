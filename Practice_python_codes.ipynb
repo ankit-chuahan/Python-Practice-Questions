{
  "nbformat": 4,
  "nbformat_minor": 0,
  "metadata": {
    "colab": {
      "provenance": [],
      "authorship_tag": "ABX9TyNbtd2xiYrQ7e2zQaxN8M+c",
      "include_colab_link": true
    },
    "kernelspec": {
      "name": "python3",
      "display_name": "Python 3"
    },
    "language_info": {
      "name": "python"
    }
  },
  "cells": [
    {
      "cell_type": "markdown",
      "metadata": {
        "id": "view-in-github",
        "colab_type": "text"
      },
      "source": [
        "<a href=\"https://colab.research.google.com/github/ankit-chuahan/Python-Practice-Questions/blob/main/Practice_python_codes.ipynb\" target=\"_parent\"><img src=\"https://colab.research.google.com/assets/colab-badge.svg\" alt=\"Open In Colab\"/></a>"
      ]
    },
    {
      "cell_type": "markdown",
      "source": [
        "1. Write a Python program to find the area of a triangle.\n",
        "-Area of triangle is 1/2 * Base * height"
      ],
      "metadata": {
        "id": "1uylTtD1pYXK"
      }
    },
    {
      "cell_type": "code",
      "execution_count": null,
      "metadata": {
        "colab": {
          "base_uri": "https://localhost:8080/"
        },
        "id": "iwtj2aTYHEai",
        "outputId": "9e61f6f4-5b84-4168-c33e-753451d2b4d2"
      },
      "outputs": [
        {
          "output_type": "stream",
          "name": "stdout",
          "text": [
            "Enter the Base of Triangle\n",
            "15\n",
            "Enter the Height of Triangle\n",
            "12\n",
            "The Area of Triangle of Base 15  And Height 12 is : -->90.0\n"
          ]
        }
      ],
      "source": [
        "# ARea of Triangle\n",
        "# Taking user input for both base and height and type cast it to int\n",
        "Base =int(input(\"Enter the Base of Triangle\\n\"))\n",
        "Height = int(input(\"Enter the Height of Triangle\\n\"))\n",
        "Area = (1/2 * Base * Height)\n",
        "print(f\"The Area of Triangle of Base {Base}  And Height {Height} is : -->{Area}\")"
      ]
    },
    {
      "cell_type": "markdown",
      "source": [
        "2.  Write a program that calculates the area & perimeter of a circle from the\n",
        "radius\n",
        "\n",
        "using the formula A = πr², P =2πr"
      ],
      "metadata": {
        "id": "h9rGNqNWQWnh"
      }
    },
    {
      "cell_type": "code",
      "source": [
        "# perimter of circle\n",
        "import math\n",
        "radius = float(input(\"enter the radius\"))\n",
        "perimter = 2*math.pi*radius\n",
        "print(f\"perimeter of circle of radius {radius} is :-->{perimter}\")\n",
        "\n",
        "Area = math.pi * radius**2\n",
        "print(f\"Area of circle of radius {radius} is ----->{Area}\")"
      ],
      "metadata": {
        "colab": {
          "base_uri": "https://localhost:8080/"
        },
        "id": "coHMpH2hQZif",
        "outputId": "e9714f42-3969-40f8-df95-b50ea7000657"
      },
      "execution_count": null,
      "outputs": [
        {
          "output_type": "stream",
          "name": "stdout",
          "text": [
            "enter the radius14\n",
            "perimeter of circle of radius 14.0 is :-->87.96459430051421\n",
            "Area of circle is ----->615.7521601035994\n"
          ]
        }
      ]
    },
    {
      "cell_type": "markdown",
      "source": [
        "3. Write a Python program to swap two variables."
      ],
      "metadata": {
        "id": "DbV8pR0kJnuW"
      }
    },
    {
      "cell_type": "code",
      "source": [
        "a = int(input(\"enter first number\\n\"))\n",
        "b = int(input(\"enter second number\\n\"))\n",
        "# a,b = b,a\n",
        "# print(a,b)  #swaping without temperory variable\n",
        "print(f\"original value of A is {a} and b is {b}\")\n",
        "temp = a # we store value of a in temp variable\n",
        "a=b\n",
        "b=temp\n",
        "print(f\"after swapping value of A is {a} and b is {b}\")"
      ],
      "metadata": {
        "colab": {
          "base_uri": "https://localhost:8080/"
        },
        "id": "OTPNm-GnJG3y",
        "outputId": "4cb286c5-9f02-4eb8-ddc4-8005195ee24a"
      },
      "execution_count": null,
      "outputs": [
        {
          "output_type": "stream",
          "name": "stdout",
          "text": [
            "enter first number\n",
            "1\n",
            "enter second number\n",
            "100\n",
            "original value of A is 1 and b is 100\n",
            "after swapping value of A is 100 and b is 1\n"
          ]
        }
      ]
    },
    {
      "cell_type": "markdown",
      "source": [
        "4. Write a Python Program to Check Leap Year"
      ],
      "metadata": {
        "id": "6LGqdieDLEzz"
      }
    },
    {
      "cell_type": "code",
      "source": [
        "year = int(input(\"enter the year \\n\"))\n",
        "if (year % 100 ==0 ) and (year % 400 ==0):\n",
        "# divide by 100 means century years and divide by 400 means leap year like 2000,4000)\n",
        "  print(\"{} is a leap year\".format(year))\n",
        "elif (year % 4 ==0)  and (year %100 !=0) :\n",
        "  # if not divide by 100 means not a centuary year and divide by 4 is leap year\n",
        "  print(\"{} is a leap year\".format(year))\n",
        "else:\n",
        "  print(\"{} is not a leap year\" .format(year))"
      ],
      "metadata": {
        "id": "txtjadU-jm2P",
        "outputId": "66a54808-85ec-46a7-8378-04e45a8d64c8",
        "colab": {
          "base_uri": "https://localhost:8080/"
        }
      },
      "execution_count": null,
      "outputs": [
        {
          "output_type": "stream",
          "name": "stdout",
          "text": [
            "enter the year \n",
            "1567\n",
            "1567 is not a leap year\n"
          ]
        }
      ]
    },
    {
      "cell_type": "markdown",
      "source": [
        "5.Write a program that reads the x and y position of two\n",
        "points in the Cartesian plane, and calculates the distance\n",
        "between them.\n",
        "\n"
      ],
      "metadata": {
        "id": "2eFrCpSzlKW1"
      }
    },
    {
      "cell_type": "code",
      "source": [
        "x1= int(input(\"enter the first point of x cordinate\"))\n",
        "x2 =int(input(\"enter the second point of x cordinate\"))\n",
        "y1 =int(input(\"enter the first point of Y cordinate\"))\n",
        "y2 =int(input(\"enter the Second point of Y cordinate\"))\n",
        "\n",
        "distance = math.sqrt((x2-x1)**2-(y2-y1)**2)\n",
        "print(f\"The cartesian distance between two point is {distance}\")"
      ],
      "metadata": {
        "colab": {
          "base_uri": "https://localhost:8080/"
        },
        "id": "pkFVKSRllMkB",
        "outputId": "0a5f6ff6-bcc4-40dd-82e3-9c2b2bce8bb7"
      },
      "execution_count": null,
      "outputs": [
        {
          "output_type": "stream",
          "name": "stdout",
          "text": [
            "enter the first point of x cordinate9\n",
            "enter the second point of x cordinate2\n",
            "enter the first point of Y cordinate8\n",
            "enter the Second point of Y cordinate3\n",
            "The cartesian distance between two point is 4.898979485566356\n"
          ]
        }
      ]
    },
    {
      "cell_type": "markdown",
      "source": [
        "6. Write a Python Program to Find the Factorial of a Number."
      ],
      "metadata": {
        "id": "ezefZJiY7gJB"
      }
    },
    {
      "cell_type": "code",
      "source": [
        "num = int(input(\"enter the number \\n\"))\n",
        "factorial = 1\n",
        "if num ==0 or num==1:\n",
        "  print(\"factorial of number {} is 1\".format(num))\n",
        "elif num <0 :\n",
        "  print(\"factorial of number {} does not exist as the number is negative\".format(num))\n",
        "else:\n",
        "  for i in range(1,num+1):\n",
        "    factorial = factorial *i\n",
        "  print(\"factorial of number {} is {}\".format(num,factorial))"
      ],
      "metadata": {
        "id": "k2BDhSk27pFu",
        "outputId": "8adb8689-02b4-4b7b-9c2b-e4d32f1aa291",
        "colab": {
          "base_uri": "https://localhost:8080/"
        }
      },
      "execution_count": null,
      "outputs": [
        {
          "output_type": "stream",
          "name": "stdout",
          "text": [
            "enter the number \n",
            "5\n",
            "factorial of number 5 is 120\n"
          ]
        }
      ]
    },
    {
      "cell_type": "code",
      "source": [
        "# Using recursion\n",
        "number = int(input(\"enter the number \\n\"))\n",
        "def factorial(number):\n",
        "  if number==0 or number==1:\n",
        "    return 1\n",
        "  elif number >1:\n",
        "    return number * factorial(number-1)\n",
        "  else:\n",
        "    return \"cant find the factorial as number is negative\"\n",
        "end_ = factorial(number)\n",
        "print(\"The factorial of number {} is {}\".format(number,end_))"
      ],
      "metadata": {
        "id": "btckZHFo-Hwr",
        "outputId": "ffe251f0-f2b6-4fd0-9df3-191b4ddb2694",
        "colab": {
          "base_uri": "https://localhost:8080/"
        }
      },
      "execution_count": null,
      "outputs": [
        {
          "output_type": "stream",
          "name": "stdout",
          "text": [
            "enter the number \n",
            "7\n",
            "The factorial of number 7 is 5040\n"
          ]
        }
      ]
    },
    {
      "cell_type": "markdown",
      "source": [
        "7. Write a Python Program to Print the Fibonacci sequence.\n",
        "\n",
        "    0, 1, 1, 2, 3, 5, 8, 13, 21, 34, 55, 89, 144, and so on."
      ],
      "metadata": {
        "id": "sFwZS23mA6Vb"
      }
    },
    {
      "cell_type": "code",
      "source": [
        "# fibbonachi series\n",
        "a,b = 0,1\n",
        "for i in range(6):\n",
        "  a,b = b,a+b\n",
        "  print(a,end=',')"
      ],
      "metadata": {
        "id": "CwQC-zNSD1EQ",
        "outputId": "5cebbec8-b350-4000-fea0-3b17b1efc17b",
        "colab": {
          "base_uri": "https://localhost:8080/"
        }
      },
      "execution_count": null,
      "outputs": [
        {
          "output_type": "stream",
          "name": "stdout",
          "text": [
            "1,1,2,3,5,8,"
          ]
        }
      ]
    },
    {
      "cell_type": "code",
      "source": [
        "def fibonacci(n):\n",
        "    if n <= 1:\n",
        "        return n\n",
        "    else:\n",
        "        return fibonacci(n-1) + fibonacci(n-2)\n",
        "\n",
        "# Test the function\n",
        "num = int(input(\"Enter the number of terms in Fibonacci series: \"))\n",
        "\n",
        "if num <= 0:\n",
        "    print(\"Please enter a positive integer.\")\n",
        "else:\n",
        "    print(\"Fibonacci series:\")\n",
        "    for i in range(num):\n",
        "        print(fibonacci(i), end=\" \")\n"
      ],
      "metadata": {
        "id": "zL2qM7hqEZAS",
        "outputId": "2228f468-2c2f-4032-bb71-94f6ad60e24a",
        "colab": {
          "base_uri": "https://localhost:8080/"
        }
      },
      "execution_count": null,
      "outputs": [
        {
          "output_type": "stream",
          "name": "stdout",
          "text": [
            "Enter the number of terms in Fibonacci series: 5\n",
            "Fibonacci series:\n",
            "0 1 1 2 3 "
          ]
        }
      ]
    },
    {
      "cell_type": "markdown",
      "source": [
        "8. Write a program that reads two numbers and tells you which one is\n",
        "bigger"
      ],
      "metadata": {
        "id": "eGdo35v-Rnav"
      }
    },
    {
      "cell_type": "code",
      "source": [
        "num1 = int(input(\"enter the first number \\n \"))\n",
        "num2 = int(input(\"enter the Second number \\n \"))\n",
        "\n",
        "if num1==num2:\n",
        "  print(\"Both numbers are equal\")\n",
        "elif num1>num2:\n",
        "  print(\"{} is greater then the {} \".format(num1,num2))\n",
        "else:\n",
        "  print(\"{} is greater then the {} \".format(num2,num1))"
      ],
      "metadata": {
        "id": "SD_ZkE9ZPyPP",
        "outputId": "047df6d8-59f7-4dc2-f87d-90f4644adc26",
        "colab": {
          "base_uri": "https://localhost:8080/"
        }
      },
      "execution_count": null,
      "outputs": [
        {
          "output_type": "stream",
          "name": "stdout",
          "text": [
            "enter the first number \n",
            " 98\n",
            "enter the Second number \n",
            " 21\n",
            "98 is greater then the 21 \n"
          ]
        }
      ]
    },
    {
      "cell_type": "markdown",
      "source": [
        "9. Write a program that asks the user for three numbers and displays the\n",
        "largest one."
      ],
      "metadata": {
        "id": "lGuYb_TyTZVQ"
      }
    },
    {
      "cell_type": "code",
      "source": [
        "num1 = int(input(\"enter the first  number \\n\"))\n",
        "num2 = int(input(\"enter the second  number \\n\"))\n",
        "num3 = int(input(\"enter the Third  number \\n\"))\n",
        "\n",
        "if num1 >num2 and num1>num3:\n",
        "  print(\"{} is Largest of the three numbers\".format(num1))\n",
        "elif num2>num1 and num2>num3:\n",
        "  print(\"{} is Largest of the three numbers\".format(num2))\n",
        "else:\n",
        "  print(\"{} is largest of three numbers\".format(num3))"
      ],
      "metadata": {
        "id": "X-gajha0Tk0w",
        "outputId": "8103d200-bc73-4948-f49b-e7cbdc256a36",
        "colab": {
          "base_uri": "https://localhost:8080/"
        }
      },
      "execution_count": null,
      "outputs": [
        {
          "output_type": "stream",
          "name": "stdout",
          "text": [
            "enter the first  number \n",
            "12\n",
            "enter the second  number \n",
            "45\n",
            "enter the Third  number \n",
            "64\n",
            "64 is largest of three numbers\n"
          ]
        }
      ]
    },
    {
      "cell_type": "markdown",
      "source": [
        "10.  Write a program that reads a number and reports whether it is positive,\n",
        "negative or zero."
      ],
      "metadata": {
        "id": "snC5aJiZVDyK"
      }
    },
    {
      "cell_type": "code",
      "source": [
        "num = int(input(\"Enter the number \\n\"))\n",
        "if num==0:\n",
        "  print(\"The above number is equal to zero\")\n",
        "elif num>0:\n",
        "  print(\"The above number is postive \")\n",
        "else:\n",
        "  print(\"The above number is negative\")\n"
      ],
      "metadata": {
        "id": "Kgnp64ZpVFzt",
        "outputId": "6b7a6671-a0f1-4e8f-89ba-dec116577e4d",
        "colab": {
          "base_uri": "https://localhost:8080/"
        }
      },
      "execution_count": null,
      "outputs": [
        {
          "output_type": "stream",
          "name": "stdout",
          "text": [
            "Enter the number \n",
            "54\n",
            "The above number is postive \n"
          ]
        }
      ]
    },
    {
      "cell_type": "markdown",
      "source": [
        "11 .  Write a program that reads three numbers and tells you if they can be the\n",
        "sides of a triangle (the sum of two sides must always be greater than the third\n",
        "side) ."
      ],
      "metadata": {
        "id": "Z698KDwJXW3U"
      }
    },
    {
      "cell_type": "code",
      "source": [
        "side1 = int(input(\"enter the first  number \\n\"))\n",
        "side2 = int(input(\"enter the second  number \\n\"))\n",
        "side3 = int(input(\"enter the Third  number \\n\"))\n",
        "\n",
        "# cheking condition\n",
        "if side1 + side2 >=side3 and side2 + side3 >=side2 and side1 + side3 >= side2:\n",
        "  print(\"These 3 side {},{},{} can form a triangle\" .format(side1,side2,side3))\n",
        "else:\n",
        "  print(\"These 3 side {},{},{} cant form a triangle\" .format(side1,side2,side3))\n"
      ],
      "metadata": {
        "id": "52cQY1eMXY6w",
        "outputId": "c403b933-00d7-4b80-8a6a-fd94a38bd709",
        "colab": {
          "base_uri": "https://localhost:8080/"
        }
      },
      "execution_count": null,
      "outputs": [
        {
          "output_type": "stream",
          "name": "stdout",
          "text": [
            "enter the first  number \n",
            "12\n",
            "enter the second  number \n",
            "65\n",
            "enter the Third  number \n",
            "12\n",
            "These 3 side 12,65,12 cant form a triangle\n"
          ]
        }
      ]
    },
    {
      "cell_type": "markdown",
      "source": [
        "12.Print the number from 1 to using both for and while loop"
      ],
      "metadata": {
        "id": "PBTOv56aqLq7"
      }
    },
    {
      "cell_type": "code",
      "source": [
        "# While Loop\n",
        "\n",
        "num=1  #initiating variable starting\n",
        "while num <11:   #checking for the condition\n",
        "  print(num,end =' ' )\n",
        "  num+=1   # incrementing the initial value"
      ],
      "metadata": {
        "id": "FxqIXdvBqiz8",
        "outputId": "28834588-a159-429f-ce3d-d534fd05a844",
        "colab": {
          "base_uri": "https://localhost:8080/"
        }
      },
      "execution_count": null,
      "outputs": [
        {
          "output_type": "stream",
          "name": "stdout",
          "text": [
            "1 2 3 4 5 6 7 8 9 10 "
          ]
        }
      ]
    },
    {
      "cell_type": "code",
      "source": [
        "# For Loop\n",
        "\n",
        "for num in range(1,11):\n",
        "  print(num , end=' ')"
      ],
      "metadata": {
        "id": "hYJpcAyisYBP",
        "outputId": "454d4c39-a8cf-4cd5-fc2a-c7d24c159992",
        "colab": {
          "base_uri": "https://localhost:8080/"
        }
      },
      "execution_count": null,
      "outputs": [
        {
          "output_type": "stream",
          "name": "stdout",
          "text": [
            "1 2 3 4 5 6 7 8 9 10 "
          ]
        }
      ]
    },
    {
      "cell_type": "markdown",
      "source": [
        "13. Write a program that displays even numbers 1 to 50 and\n",
        "odd numbers 51 to 100 using a repeating loop."
      ],
      "metadata": {
        "id": "fk8-z_5wuB-B"
      }
    },
    {
      "cell_type": "code",
      "source": [
        "num = 1\n",
        "while num <100:\n",
        "  if num%2!=0:\n",
        "    while num<50:\n",
        "      if num%2==0:\n",
        "        print(num,end=' ')\n",
        "      num+=1\n",
        "    print(num,end=' ')\n",
        "  num+=1\n"
      ],
      "metadata": {
        "id": "zh8Av8SCst5v",
        "outputId": "ac333fae-d1d8-41bf-b3eb-83d96890882b",
        "colab": {
          "base_uri": "https://localhost:8080/"
        }
      },
      "execution_count": null,
      "outputs": [
        {
          "output_type": "stream",
          "name": "stdout",
          "text": [
            "2 4 6 8 10 12 14 16 18 20 22 24 26 28 30 32 34 36 38 40 42 44 46 48 50 51 53 55 57 59 61 63 65 67 69 71 73 75 77 79 81 83 85 87 89 91 93 95 97 99 "
          ]
        }
      ]
    },
    {
      "cell_type": "markdown",
      "source": [
        "14. Create a program that prompts the user for a number and\n",
        "displays the table of that number using a loop"
      ],
      "metadata": {
        "id": "8yrshbj2w3ME"
      }
    },
    {
      "cell_type": "code",
      "source": [
        "# using for loops\n",
        "number = int(input(\"enter the number  \\n\"))\n",
        "for i in range(1,11):\n",
        "  print(f\"{i} x = {i*number}\")\n",
        "print('-'*20 )\n",
        "# using while Loops\n",
        "i=1 #initiating counter var\n",
        "while i <=10:\n",
        "  print(f\"{i} x = {i*number}\")\n",
        "  i+=1\n",
        "\n",
        "# Table from 1 to 10 withput user prompt\n",
        "for i in range(1,11):\n",
        "  for j in range(1,11):\n",
        "    print(f'{i} x {j} = {i*j}')\n",
        "  print('-'*30)"
      ],
      "metadata": {
        "id": "oYBgBmFQwCBc",
        "outputId": "25b9f03e-b070-4e3a-b23a-b1b26ccc8483",
        "colab": {
          "base_uri": "https://localhost:8080/"
        }
      },
      "execution_count": null,
      "outputs": [
        {
          "output_type": "stream",
          "name": "stdout",
          "text": [
            "enter the number  \n",
            "5\n",
            "1 x = 5\n",
            "2 x = 10\n",
            "3 x = 15\n",
            "4 x = 20\n",
            "5 x = 25\n",
            "6 x = 30\n",
            "7 x = 35\n",
            "8 x = 40\n",
            "9 x = 45\n",
            "10 x = 50\n",
            "--------------------\n",
            "1 x = 5\n",
            "2 x = 10\n",
            "3 x = 15\n",
            "4 x = 20\n",
            "5 x = 25\n",
            "6 x = 30\n",
            "7 x = 35\n",
            "8 x = 40\n",
            "9 x = 45\n",
            "10 x = 50\n"
          ]
        }
      ]
    },
    {
      "cell_type": "markdown",
      "source": [
        "15. Write a program that calculates and displays the sum of\n",
        "even numbers from 1 to 100 using a repeating loop."
      ],
      "metadata": {
        "id": "dDrBBLk21Lw1"
      }
    },
    {
      "cell_type": "code",
      "source": [
        "\n",
        "sum_= 0\n",
        "i=1\n",
        "while i <=100:\n",
        "  if i%2==0:\n",
        "    sum_+=i\n",
        "  i+=1\n",
        "print(\"The sum of even number between 1 and 100 is---->\",sum_)"
      ],
      "metadata": {
        "id": "O1o_SUDK0Uf8",
        "outputId": "7d22df43-c803-45fb-faf2-562e7a9232b9",
        "colab": {
          "base_uri": "https://localhost:8080/"
        }
      },
      "execution_count": null,
      "outputs": [
        {
          "output_type": "stream",
          "name": "stdout",
          "text": [
            "The sum of even number between 1 and 100 is----> 2550\n"
          ]
        }
      ]
    },
    {
      "cell_type": "markdown",
      "source": [
        "16. Write a program that prompts the user for two numbers A\n",
        "and B and displays all numbers between A and B."
      ],
      "metadata": {
        "id": "mpi7iYu66zv1"
      }
    },
    {
      "cell_type": "code",
      "source": [
        "num1 = int(input(\"enter the first number \\n\"))\n",
        "num2 = int(input(\"enter the second  number \\n\"))\n",
        "\n",
        "start = min(num1,num2)\n",
        "end_ = max(num1,num2)\n",
        "for i in range(start+1,end_):\n",
        "  print(i,end=' ')\n"
      ],
      "metadata": {
        "id": "uBJ-abhs61mV",
        "outputId": "c48d54a1-6f37-44a0-dc09-18b269c30178",
        "colab": {
          "base_uri": "https://localhost:8080/"
        }
      },
      "execution_count": null,
      "outputs": [
        {
          "output_type": "stream",
          "name": "stdout",
          "text": [
            "enter the first number \n",
            "45\n",
            "enter the second  number \n",
            "32\n",
            "33 34 35 36 37 38 39 40 41 42 43 44 "
          ]
        }
      ]
    },
    {
      "cell_type": "markdown",
      "source": [
        "17. Write a Python Program to Check Armstrong Number?\n",
        "\n",
        "For example, let's consider the number 153:\n",
        "It has three digits (1, 5, and 3).\n",
        "\n",
        "If we calculate 1^3 + 5^3 +3^3  , we get , which is equal to .\n",
        "\n",
        "So, 153 is an Armstrong number because it equals the sum of its digits raised to the power\n",
        "of the number of digits in the number"
      ],
      "metadata": {
        "id": "EaMsA7p6zCOC"
      }
    },
    {
      "cell_type": "code",
      "source": [
        "number=int(input(\"enter the number \\n\"))   #153\n",
        "total = 0       #initiate Total\n",
        "temp = number     #temp=153  Store the original number in a temporary variable\n",
        "while temp>0:       #checking the condition\n",
        "  digit = temp%10   #153%10 = 3  Extract the last digit of temp\n",
        "  cube= digit**3       #3^3=27\n",
        "  total+=cube           #0+27=27\n",
        "  temp = temp//10        #updating temp variable  temp = 153/10 = 15 Remove the last digit from temp\n",
        "if total==number:\n",
        "  print(\"Its an Armstrong Number\")\n",
        "else:\n",
        "  print(\"Its not an Armstrong Number\")"
      ],
      "metadata": {
        "id": "5EfZqTCRzSMT",
        "outputId": "5a70c883-c043-40e2-bf43-b29daea90e1f",
        "colab": {
          "base_uri": "https://localhost:8080/"
        }
      },
      "execution_count": 9,
      "outputs": [
        {
          "output_type": "stream",
          "name": "stdout",
          "text": [
            "enter the number \n",
            "370\n",
            "Its an Armstrong Number\n"
          ]
        }
      ]
    },
    {
      "cell_type": "markdown",
      "source": [
        "18. Write a Python Program to Find Armstrong Number in an Interval."
      ],
      "metadata": {
        "id": "bMb8yf_M7C3A"
      }
    },
    {
      "cell_type": "code",
      "source": [
        "lower = int(input(\"Enter the lower limit of the interval: \"))\n",
        "upper = int(input(\"Enter the upper limit of the interval: \"))\n",
        "for num in range(lower, upper + 1):  # Iterate through the numbers in the given interval\n",
        "    temp_num = num\n",
        "    total = 0\n",
        "    while temp_num > 0:            # Loop through each digit of the number\n",
        "        digit = temp_num % 10         # Extract the last digit of temp_num\n",
        "        cube = digit ** 3                # Calculate the cube of the digit\n",
        "        total += cube                      # Add the cube of the digit to the total\n",
        "        temp_num //= 10                      # Remove the last digit from temp_num\n",
        "    if total == num:                           # Check if the number is an Armstrong number\n",
        "        print(num)\n"
      ],
      "metadata": {
        "id": "lSkvc-Ug7oyT",
        "outputId": "9d6d27eb-6ac9-4e2e-b1c2-050e92a20c4b",
        "colab": {
          "base_uri": "https://localhost:8080/"
        }
      },
      "execution_count": 15,
      "outputs": [
        {
          "output_type": "stream",
          "name": "stdout",
          "text": [
            "Enter the lower limit of the interval: 1\n",
            "Enter the upper limit of the interval: 500\n",
            "1\n",
            "153\n",
            "370\n",
            "371\n",
            "407\n"
          ]
        },
        {
          "output_type": "execute_result",
          "data": {
            "text/plain": [
              "5"
            ]
          },
          "metadata": {},
          "execution_count": 15
        }
      ]
    },
    {
      "cell_type": "code",
      "source": [],
      "metadata": {
        "id": "Eupdycl89hop"
      },
      "execution_count": null,
      "outputs": []
    }
  ]
}
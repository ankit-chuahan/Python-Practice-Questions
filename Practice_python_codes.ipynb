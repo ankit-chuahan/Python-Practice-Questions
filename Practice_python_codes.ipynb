{
  "nbformat": 4,
  "nbformat_minor": 0,
  "metadata": {
    "colab": {
      "provenance": [],
      "authorship_tag": "ABX9TyNW65JkepJvam05QXqCaf7D",
      "include_colab_link": true
    },
    "kernelspec": {
      "name": "python3",
      "display_name": "Python 3"
    },
    "language_info": {
      "name": "python"
    }
  },
  "cells": [
    {
      "cell_type": "markdown",
      "metadata": {
        "id": "view-in-github",
        "colab_type": "text"
      },
      "source": [
        "<a href=\"https://colab.research.google.com/github/ankit-chuahan/Python-Practice-Questions/blob/main/Practice_python_codes.ipynb\" target=\"_parent\"><img src=\"https://colab.research.google.com/assets/colab-badge.svg\" alt=\"Open In Colab\"/></a>"
      ]
    },
    {
      "cell_type": "markdown",
      "source": [
        "# **Python Coding**"
      ],
      "metadata": {
        "id": "1PiAK3Faa_7i"
      }
    },
    {
      "cell_type": "markdown",
      "source": [
        "1. Write a Python program to find the area of a triangle.\n",
        "-Area of triangle is 1/2 * Base * height"
      ],
      "metadata": {
        "id": "1uylTtD1pYXK"
      }
    },
    {
      "cell_type": "code",
      "execution_count": null,
      "metadata": {
        "colab": {
          "base_uri": "https://localhost:8080/"
        },
        "id": "iwtj2aTYHEai",
        "outputId": "c2bf2a8c-4ed2-4a0c-d6d3-d101850bafd5"
      },
      "outputs": [
        {
          "output_type": "stream",
          "name": "stdout",
          "text": [
            "Enter the Base of Triangle\n",
            "6\n",
            "Enter the Height of Triangle\n",
            "9\n",
            "The Area of Triangle of Base 6  And Height 9 is : -->27.0\n"
          ]
        }
      ],
      "source": [
        "# ARea of Triangle\n",
        "# Taking user input for both base and height and type cast it to int\n",
        "Base =int(input(\"Enter the Base of Triangle\\n\"))\n",
        "Height = int(input(\"Enter the Height of Triangle\\n\"))\n",
        "Area = (1/2 * Base * Height)\n",
        "print(f\"The Area of Triangle of Base {Base}  And Height {Height} is : -->{Area}\")"
      ]
    },
    {
      "cell_type": "markdown",
      "source": [
        "2.  Write a program that calculates the area & perimeter of a circle from the\n",
        "radius\n",
        "\n",
        "using the formula A = πr², P =2πr"
      ],
      "metadata": {
        "id": "h9rGNqNWQWnh"
      }
    },
    {
      "cell_type": "code",
      "source": [
        "# perimter of circle\n",
        "import math\n",
        "radius = float(input(\"enter the radius\"))\n",
        "perimter = 2*math.pi*radius\n",
        "print(f\"perimeter of circle of radius {radius} is :-->{perimter}\")\n",
        "\n",
        "Area = math.pi * radius**2\n",
        "print(f\"Area of circle of radius {radius} is ----->{Area}\")"
      ],
      "metadata": {
        "colab": {
          "base_uri": "https://localhost:8080/"
        },
        "id": "coHMpH2hQZif",
        "outputId": "d345dfaf-3b3b-4f05-942f-1e29e724bfe7"
      },
      "execution_count": null,
      "outputs": [
        {
          "output_type": "stream",
          "name": "stdout",
          "text": [
            "enter the radius8.9\n",
            "perimeter of circle of radius 8.9 is :-->55.92034923389832\n",
            "Area of circle of radius 8.9 is ----->248.84555409084754\n"
          ]
        }
      ]
    },
    {
      "cell_type": "markdown",
      "source": [
        "3. Write a Python program to swap two variables."
      ],
      "metadata": {
        "id": "DbV8pR0kJnuW"
      }
    },
    {
      "cell_type": "code",
      "source": [
        "a = int(input(\"enter first number\\n\"))\n",
        "b = int(input(\"enter second number\\n\"))\n",
        "# a,b = b,a\n",
        "# print(a,b)  #swaping without temperory variable\n",
        "print(f\"original value of A is {a} and b is {b}\")\n",
        "temp = a # we store value of a in temp variable\n",
        "a=b\n",
        "b=temp\n",
        "print(f\"after swapping value of A is {a} and b is {b}\")"
      ],
      "metadata": {
        "colab": {
          "base_uri": "https://localhost:8080/"
        },
        "id": "OTPNm-GnJG3y",
        "outputId": "00396186-c7bf-4533-f932-9e267a954abf"
      },
      "execution_count": null,
      "outputs": [
        {
          "output_type": "stream",
          "name": "stdout",
          "text": [
            "enter first number\n",
            "50\n",
            "enter second number\n",
            "80\n",
            "original value of A is 50 and b is 80\n",
            "after swapping value of A is 80 and b is 50\n"
          ]
        }
      ]
    },
    {
      "cell_type": "markdown",
      "source": [
        "4. Write a Python Program to Check Leap Year"
      ],
      "metadata": {
        "id": "6LGqdieDLEzz"
      }
    },
    {
      "cell_type": "code",
      "source": [
        "year = int(input(\"enter the year \\n\"))\n",
        "if (year % 100 ==0 ) and (year % 400 ==0):\n",
        "# divide by 100 means century years and divide by 400 means leap year like 2000,4000)\n",
        "  print(\"{} is a leap year\".format(year))\n",
        "elif (year % 4 ==0)  and (year %100 !=0) :\n",
        "  # if not divide by 100 means not a centuary year and divide by 4 is leap year\n",
        "  print(\"{} is a leap year\".format(year))\n",
        "else:\n",
        "  print(\"{} is not a leap year\" .format(year))"
      ],
      "metadata": {
        "id": "txtjadU-jm2P",
        "outputId": "b8f8068a-ef05-4aba-cdfb-af26e93626a6",
        "colab": {
          "base_uri": "https://localhost:8080/"
        }
      },
      "execution_count": null,
      "outputs": [
        {
          "output_type": "stream",
          "name": "stdout",
          "text": [
            "enter the year \n",
            "512\n",
            "512 is a leap year\n"
          ]
        }
      ]
    },
    {
      "cell_type": "markdown",
      "source": [
        "5.Write a program that reads the x and y position of two\n",
        "points in the Cartesian plane, and calculates the distance\n",
        "between them.\n",
        "\n"
      ],
      "metadata": {
        "id": "2eFrCpSzlKW1"
      }
    },
    {
      "cell_type": "code",
      "source": [
        "x1= int(input(\"enter the first point of x cordinate\"))\n",
        "x2 =int(input(\"enter the second point of x cordinate\"))\n",
        "y1 =int(input(\"enter the first point of Y cordinate\"))\n",
        "y2 =int(input(\"enter the Second point of Y cordinate\"))\n",
        "\n",
        "distance = math.sqrt((x2-x1)**2-(y2-y1)**2)\n",
        "print(f\"The cartesian distance between two point is {distance}\")"
      ],
      "metadata": {
        "colab": {
          "base_uri": "https://localhost:8080/"
        },
        "id": "pkFVKSRllMkB",
        "outputId": "0a5f6ff6-bcc4-40dd-82e3-9c2b2bce8bb7"
      },
      "execution_count": null,
      "outputs": [
        {
          "output_type": "stream",
          "name": "stdout",
          "text": [
            "enter the first point of x cordinate9\n",
            "enter the second point of x cordinate2\n",
            "enter the first point of Y cordinate8\n",
            "enter the Second point of Y cordinate3\n",
            "The cartesian distance between two point is 4.898979485566356\n"
          ]
        }
      ]
    },
    {
      "cell_type": "markdown",
      "source": [
        "6. Write a Python Program to Find the Factorial of a Number."
      ],
      "metadata": {
        "id": "ezefZJiY7gJB"
      }
    },
    {
      "cell_type": "code",
      "source": [
        "num = int(input(\"enter the number \\n\"))\n",
        "factorial = 1\n",
        "if num ==0 or num==1:\n",
        "  print(\"factorial of number {} is 1\".format(num))\n",
        "elif num <0 :\n",
        "  print(\"factorial of number {} does not exist as the number is negative\".format(num))\n",
        "else:\n",
        "  for i in range(1,num+1):\n",
        "    factorial = factorial * i\n",
        "  print(\"factorial of number {} is {}\".format(num,factorial))"
      ],
      "metadata": {
        "id": "k2BDhSk27pFu",
        "outputId": "53900b6c-8990-4443-cb26-e0c09f01dbb2",
        "colab": {
          "base_uri": "https://localhost:8080/"
        }
      },
      "execution_count": null,
      "outputs": [
        {
          "output_type": "stream",
          "name": "stdout",
          "text": [
            "enter the number \n",
            "0\n",
            "factorial of number 0 is 1\n"
          ]
        }
      ]
    },
    {
      "cell_type": "code",
      "source": [
        "# Using recursion\n",
        "number = int(input(\"enter the number \\n\"))\n",
        "def factorial(number):\n",
        "  if number==0 or number==1:\n",
        "    return 1\n",
        "  elif number >1:\n",
        "    return number * factorial(number-1)\n",
        "  else:\n",
        "    return \"cant find the factorial as number is negative\"\n",
        "end_ = factorial(number)\n",
        "print(\"The factorial of number {} is {}\".format(number,end_))"
      ],
      "metadata": {
        "id": "btckZHFo-Hwr",
        "outputId": "ffe251f0-f2b6-4fd0-9df3-191b4ddb2694",
        "colab": {
          "base_uri": "https://localhost:8080/"
        }
      },
      "execution_count": null,
      "outputs": [
        {
          "output_type": "stream",
          "name": "stdout",
          "text": [
            "enter the number \n",
            "7\n",
            "The factorial of number 7 is 5040\n"
          ]
        }
      ]
    },
    {
      "cell_type": "markdown",
      "source": [
        "7. Write a Python Program to Print the Fibonacci sequence.\n",
        "\n",
        "    0, 1, 1, 2, 3, 5, 8, 13, 21, 34, 55, 89, 144, and so on."
      ],
      "metadata": {
        "id": "sFwZS23mA6Vb"
      }
    },
    {
      "cell_type": "code",
      "source": [
        "# fibbonachi series\n",
        "a,b = 0,1\n",
        "for i in range(6):\n",
        "  a,b = b,a+b\n",
        "  print(a,end=',')"
      ],
      "metadata": {
        "id": "CwQC-zNSD1EQ",
        "outputId": "5cebbec8-b350-4000-fea0-3b17b1efc17b",
        "colab": {
          "base_uri": "https://localhost:8080/"
        }
      },
      "execution_count": null,
      "outputs": [
        {
          "output_type": "stream",
          "name": "stdout",
          "text": [
            "1,1,2,3,5,8,"
          ]
        }
      ]
    },
    {
      "cell_type": "code",
      "source": [
        "def fibonacci(n):\n",
        "    if n <= 1:\n",
        "        return n\n",
        "    else:\n",
        "        return fibonacci(n-1) + fibonacci(n-2)\n",
        "\n",
        "# Test the function\n",
        "num = int(input(\"Enter the number of terms in Fibonacci series: \"))\n",
        "\n",
        "if num <= 0:\n",
        "    print(\"Please enter a positive integer.\")\n",
        "else:\n",
        "    print(\"Fibonacci series:\")\n",
        "    for i in range(num):\n",
        "        print(fibonacci(i), end=\" \")\n"
      ],
      "metadata": {
        "id": "zL2qM7hqEZAS",
        "outputId": "2228f468-2c2f-4032-bb71-94f6ad60e24a",
        "colab": {
          "base_uri": "https://localhost:8080/"
        }
      },
      "execution_count": null,
      "outputs": [
        {
          "output_type": "stream",
          "name": "stdout",
          "text": [
            "Enter the number of terms in Fibonacci series: 5\n",
            "Fibonacci series:\n",
            "0 1 1 2 3 "
          ]
        }
      ]
    },
    {
      "cell_type": "markdown",
      "source": [
        "8. Write a program that reads two numbers and tells you which one is\n",
        "bigger"
      ],
      "metadata": {
        "id": "eGdo35v-Rnav"
      }
    },
    {
      "cell_type": "code",
      "source": [
        "num1 = int(input(\"enter the first number \\n \"))\n",
        "num2 = int(input(\"enter the Second number \\n \"))\n",
        "\n",
        "if num1==num2:\n",
        "  print(\"Both numbers are equal\")\n",
        "elif num1>num2:\n",
        "  print(\"{} is greater then the {} \".format(num1,num2))\n",
        "else:\n",
        "  print(\"{} is greater then the {} \".format(num2,num1))"
      ],
      "metadata": {
        "id": "SD_ZkE9ZPyPP",
        "outputId": "047df6d8-59f7-4dc2-f87d-90f4644adc26",
        "colab": {
          "base_uri": "https://localhost:8080/"
        }
      },
      "execution_count": null,
      "outputs": [
        {
          "output_type": "stream",
          "name": "stdout",
          "text": [
            "enter the first number \n",
            " 98\n",
            "enter the Second number \n",
            " 21\n",
            "98 is greater then the 21 \n"
          ]
        }
      ]
    },
    {
      "cell_type": "markdown",
      "source": [
        "9. Write a program that asks the user for three numbers and displays the\n",
        "largest one."
      ],
      "metadata": {
        "id": "lGuYb_TyTZVQ"
      }
    },
    {
      "cell_type": "code",
      "source": [
        "num1 = int(input(\"enter the first  number \\n\"))\n",
        "num2 = int(input(\"enter the second  number \\n\"))\n",
        "num3 = int(input(\"enter the Third  number \\n\"))\n",
        "\n",
        "if num1 >num2 and num1>num3:\n",
        "  print(\"{} is Largest of the three numbers\".format(num1))\n",
        "elif num2>num1 and num2>num3:\n",
        "  print(\"{} is Largest of the three numbers\".format(num2))\n",
        "else:\n",
        "  print(\"{} is largest of three numbers\".format(num3))"
      ],
      "metadata": {
        "id": "X-gajha0Tk0w",
        "outputId": "8103d200-bc73-4948-f49b-e7cbdc256a36",
        "colab": {
          "base_uri": "https://localhost:8080/"
        }
      },
      "execution_count": null,
      "outputs": [
        {
          "output_type": "stream",
          "name": "stdout",
          "text": [
            "enter the first  number \n",
            "12\n",
            "enter the second  number \n",
            "45\n",
            "enter the Third  number \n",
            "64\n",
            "64 is largest of three numbers\n"
          ]
        }
      ]
    },
    {
      "cell_type": "markdown",
      "source": [
        "10.  Write a program that reads a number and reports whether it is positive,\n",
        "negative or zero."
      ],
      "metadata": {
        "id": "snC5aJiZVDyK"
      }
    },
    {
      "cell_type": "code",
      "source": [
        "num = int(input(\"Enter the number \\n\"))\n",
        "if num==0:\n",
        "  print(\"The above number is equal to zero\")\n",
        "elif num>0:\n",
        "  print(\"The above number is postive \")\n",
        "else:\n",
        "  print(\"The above number is negative\")\n"
      ],
      "metadata": {
        "id": "Kgnp64ZpVFzt",
        "outputId": "6b7a6671-a0f1-4e8f-89ba-dec116577e4d",
        "colab": {
          "base_uri": "https://localhost:8080/"
        }
      },
      "execution_count": null,
      "outputs": [
        {
          "output_type": "stream",
          "name": "stdout",
          "text": [
            "Enter the number \n",
            "54\n",
            "The above number is postive \n"
          ]
        }
      ]
    },
    {
      "cell_type": "markdown",
      "source": [
        "11 .  Write a program that reads three numbers and tells you if they can be the\n",
        "sides of a triangle (the sum of two sides must always be greater than the third\n",
        "side) ."
      ],
      "metadata": {
        "id": "Z698KDwJXW3U"
      }
    },
    {
      "cell_type": "code",
      "source": [
        "side1 = int(input(\"enter the first  number \\n\"))\n",
        "side2 = int(input(\"enter the second  number \\n\"))\n",
        "side3 = int(input(\"enter the Third  number \\n\"))\n",
        "\n",
        "# cheking condition\n",
        "if side1 + side2 >=side3 and side2 + side3 >=side2 and side1 + side3 >= side2:\n",
        "  print(\"These 3 side {},{},{} can form a triangle\" .format(side1,side2,side3))\n",
        "else:\n",
        "  print(\"These 3 side {},{},{} cant form a triangle\" .format(side1,side2,side3))\n"
      ],
      "metadata": {
        "id": "52cQY1eMXY6w",
        "outputId": "19f062a5-1185-40fa-9a42-73b4d29918e5",
        "colab": {
          "base_uri": "https://localhost:8080/"
        }
      },
      "execution_count": null,
      "outputs": [
        {
          "output_type": "stream",
          "name": "stdout",
          "text": [
            "enter the first  number \n",
            "12\n",
            "enter the second  number \n",
            "35\n",
            "enter the Third  number \n",
            "45\n",
            "These 3 side 12,35,45 can form a triangle\n"
          ]
        }
      ]
    },
    {
      "cell_type": "markdown",
      "source": [
        "12.Print the number from 1 to using both for and while loop"
      ],
      "metadata": {
        "id": "PBTOv56aqLq7"
      }
    },
    {
      "cell_type": "code",
      "source": [
        "# While Loop\n",
        "\n",
        "num=1  #initiating variable starting\n",
        "while num <11:   #checking for the condition\n",
        "  print(num,end =' ' )\n",
        "  num+=1   # incrementing the initial value"
      ],
      "metadata": {
        "id": "FxqIXdvBqiz8",
        "outputId": "28834588-a159-429f-ce3d-d534fd05a844",
        "colab": {
          "base_uri": "https://localhost:8080/"
        }
      },
      "execution_count": null,
      "outputs": [
        {
          "output_type": "stream",
          "name": "stdout",
          "text": [
            "1 2 3 4 5 6 7 8 9 10 "
          ]
        }
      ]
    },
    {
      "cell_type": "code",
      "source": [
        "# For Loop\n",
        "\n",
        "for num in range(1,11):\n",
        "  print(num , end=' ')"
      ],
      "metadata": {
        "id": "hYJpcAyisYBP",
        "outputId": "454d4c39-a8cf-4cd5-fc2a-c7d24c159992",
        "colab": {
          "base_uri": "https://localhost:8080/"
        }
      },
      "execution_count": null,
      "outputs": [
        {
          "output_type": "stream",
          "name": "stdout",
          "text": [
            "1 2 3 4 5 6 7 8 9 10 "
          ]
        }
      ]
    },
    {
      "cell_type": "markdown",
      "source": [
        "13. Write a program that displays even numbers 1 to 50 and\n",
        "odd numbers 51 to 100 using a repeating loop."
      ],
      "metadata": {
        "id": "fk8-z_5wuB-B"
      }
    },
    {
      "cell_type": "code",
      "source": [
        "num = 1\n",
        "while num <100:\n",
        "  if num%2!=0:\n",
        "    while num<50:\n",
        "      if num%2==0:\n",
        "        print(num,end=' ')\n",
        "      num+=1\n",
        "    print(num,end=' ')\n",
        "  num+=1\n"
      ],
      "metadata": {
        "id": "zh8Av8SCst5v",
        "outputId": "ac333fae-d1d8-41bf-b3eb-83d96890882b",
        "colab": {
          "base_uri": "https://localhost:8080/"
        }
      },
      "execution_count": null,
      "outputs": [
        {
          "output_type": "stream",
          "name": "stdout",
          "text": [
            "2 4 6 8 10 12 14 16 18 20 22 24 26 28 30 32 34 36 38 40 42 44 46 48 50 51 53 55 57 59 61 63 65 67 69 71 73 75 77 79 81 83 85 87 89 91 93 95 97 99 "
          ]
        }
      ]
    },
    {
      "cell_type": "code",
      "source": [
        "num = 1\n",
        "while num<100:\n",
        "  if num<50:\n",
        "    if num %2!=0:\n",
        "      print(num,end=' ')\n",
        "  else:\n",
        "    if num%2==0:\n",
        "      print(num,end=' ')\n",
        "\n",
        "\n",
        "  num+=1"
      ],
      "metadata": {
        "id": "7Bp8OrN1OWKz",
        "outputId": "1fdab389-8634-4555-99e5-7adb4bf8c058",
        "colab": {
          "base_uri": "https://localhost:8080/"
        }
      },
      "execution_count": null,
      "outputs": [
        {
          "output_type": "stream",
          "name": "stdout",
          "text": [
            "1 3 5 7 9 11 13 15 17 19 21 23 25 27 29 31 33 35 37 39 41 43 45 47 49 50 52 54 56 58 60 62 64 66 68 70 72 74 76 78 80 82 84 86 88 90 92 94 96 98 "
          ]
        }
      ]
    },
    {
      "cell_type": "markdown",
      "source": [
        "14. Create a program that prompts the user for a number and\n",
        "displays the table of that number using a loop"
      ],
      "metadata": {
        "id": "8yrshbj2w3ME"
      }
    },
    {
      "cell_type": "code",
      "source": [
        "# using for loops\n",
        "number = int(input(\"enter the number  \\n\"))\n",
        "for i in range(1,11):\n",
        "  print(f\"{i} x = {i*number}\")\n",
        "print('-'*20 )\n",
        "# using while Loops\n",
        "i=1 #initiating counter var\n",
        "while i <=10:\n",
        "  print(f\"{i} x = {i*number}\")\n",
        "  i+=1\n",
        "\n",
        "# Table from 1 to 10 withput user prompt\n",
        "for i in range(1,11):\n",
        "  for j in range(1,11):\n",
        "    print(f'{i} x {j} = {i*j}')\n",
        "  print('-'*30)"
      ],
      "metadata": {
        "id": "oYBgBmFQwCBc",
        "outputId": "25b9f03e-b070-4e3a-b23a-b1b26ccc8483",
        "colab": {
          "base_uri": "https://localhost:8080/"
        }
      },
      "execution_count": null,
      "outputs": [
        {
          "output_type": "stream",
          "name": "stdout",
          "text": [
            "enter the number  \n",
            "5\n",
            "1 x = 5\n",
            "2 x = 10\n",
            "3 x = 15\n",
            "4 x = 20\n",
            "5 x = 25\n",
            "6 x = 30\n",
            "7 x = 35\n",
            "8 x = 40\n",
            "9 x = 45\n",
            "10 x = 50\n",
            "--------------------\n",
            "1 x = 5\n",
            "2 x = 10\n",
            "3 x = 15\n",
            "4 x = 20\n",
            "5 x = 25\n",
            "6 x = 30\n",
            "7 x = 35\n",
            "8 x = 40\n",
            "9 x = 45\n",
            "10 x = 50\n"
          ]
        }
      ]
    },
    {
      "cell_type": "markdown",
      "source": [
        "15. Write a program that calculates and displays the sum of\n",
        "even numbers from 1 to 100 using a repeating loop."
      ],
      "metadata": {
        "id": "dDrBBLk21Lw1"
      }
    },
    {
      "cell_type": "code",
      "source": [
        "\n",
        "sum_= 0\n",
        "i=1\n",
        "while i <=100:\n",
        "  if i%2==0:\n",
        "    sum_+=i\n",
        "  i+=1\n",
        "print(\"The sum of even number between 1 and 100 is---->\",sum_)"
      ],
      "metadata": {
        "id": "O1o_SUDK0Uf8",
        "outputId": "7d22df43-c803-45fb-faf2-562e7a9232b9",
        "colab": {
          "base_uri": "https://localhost:8080/"
        }
      },
      "execution_count": null,
      "outputs": [
        {
          "output_type": "stream",
          "name": "stdout",
          "text": [
            "The sum of even number between 1 and 100 is----> 2550\n"
          ]
        }
      ]
    },
    {
      "cell_type": "markdown",
      "source": [
        "16. Write a program that prompts the user for two numbers A\n",
        "and B and displays all numbers between A and B."
      ],
      "metadata": {
        "id": "mpi7iYu66zv1"
      }
    },
    {
      "cell_type": "code",
      "source": [
        "num1 = int(input(\"enter the first number \\n\"))\n",
        "num2 = int(input(\"enter the second  number \\n\"))\n",
        "\n",
        "start = min(num1,num2)\n",
        "end_ = max(num1,num2)\n",
        "for i in range(start+1,end_):\n",
        "  print(i,end=' ')\n"
      ],
      "metadata": {
        "id": "uBJ-abhs61mV",
        "outputId": "c48d54a1-6f37-44a0-dc09-18b269c30178",
        "colab": {
          "base_uri": "https://localhost:8080/"
        }
      },
      "execution_count": null,
      "outputs": [
        {
          "output_type": "stream",
          "name": "stdout",
          "text": [
            "enter the first number \n",
            "45\n",
            "enter the second  number \n",
            "32\n",
            "33 34 35 36 37 38 39 40 41 42 43 44 "
          ]
        }
      ]
    },
    {
      "cell_type": "markdown",
      "source": [
        "17. Write a Python Program to Check Armstrong Number?\n",
        "\n",
        "For example, let's consider the number 153:\n",
        "It has three digits (1, 5, and 3).\n",
        "\n",
        "If we calculate 1^3 + 5^3 +3^3  , we get , which is equal to .\n",
        "\n",
        "So, 153 is an Armstrong number because it equals the sum of its digits raised to the power\n",
        "of the number of digits in the number"
      ],
      "metadata": {
        "id": "EaMsA7p6zCOC"
      }
    },
    {
      "cell_type": "code",
      "source": [
        "number=int(input(\"enter the number \\n\"))   #153\n",
        "total = 0       #initiate Total\n",
        "temp = number     #temp=153  Store the original number in a temporary variable\n",
        "while temp>0:       #checking the condition\n",
        "  digit = temp%10   #153%10 = 3  Extract the last digit of temp\n",
        "  cube= digit**3       #3^3=27\n",
        "  total+=cube           #0+27=27\n",
        "  temp = temp//10        #updating temp variable  temp = 153/10 = 15 Remove the last digit from temp\n",
        "if total==number:\n",
        "  print(\"Its an Armstrong Number\")\n",
        "else:\n",
        "  print(\"Its not an Armstrong Number\")"
      ],
      "metadata": {
        "id": "5EfZqTCRzSMT",
        "outputId": "5a70c883-c043-40e2-bf43-b29daea90e1f",
        "colab": {
          "base_uri": "https://localhost:8080/"
        }
      },
      "execution_count": null,
      "outputs": [
        {
          "output_type": "stream",
          "name": "stdout",
          "text": [
            "enter the number \n",
            "370\n",
            "Its an Armstrong Number\n"
          ]
        }
      ]
    },
    {
      "cell_type": "code",
      "source": [
        "num = int(input())\n",
        "sum_of_cubes = sum(map(lambda x: int(x)**3, str(num)))\n",
        "\n",
        "if sum_of_cubes == num:\n",
        "    print('It is an Armstrong Number')\n",
        "else:\n",
        "    print(\"It is not an Armstrong number\")"
      ],
      "metadata": {
        "id": "h9DEAK8F4SpW"
      },
      "execution_count": null,
      "outputs": []
    },
    {
      "cell_type": "markdown",
      "source": [
        "18. Write a Python Program to Find Armstrong Number in an Interval."
      ],
      "metadata": {
        "id": "bMb8yf_M7C3A"
      }
    },
    {
      "cell_type": "code",
      "source": [
        "lower = int(input(\"Enter the lower limit of the interval: \"))\n",
        "upper = int(input(\"Enter the upper limit of the interval: \"))\n",
        "for num in range(lower, upper + 1):  # Iterate through the numbers in the given interval\n",
        "    temp_num = num\n",
        "    total = 0\n",
        "    while temp_num > 0:            # Loop through each digit of the number\n",
        "        digit = temp_num % 10         # Extract the last digit of temp_num\n",
        "        cube = digit ** 3                # Calculate the cube of the digit\n",
        "        total += cube                      # Add the cube of the digit to the total\n",
        "        temp_num //= 10                      # Remove the last digit from temp_num\n",
        "    if total == num:                           # Check if the number is an Armstrong number\n",
        "        print(num)\n"
      ],
      "metadata": {
        "id": "lSkvc-Ug7oyT",
        "outputId": "9d6d27eb-6ac9-4e2e-b1c2-050e92a20c4b",
        "colab": {
          "base_uri": "https://localhost:8080/"
        }
      },
      "execution_count": null,
      "outputs": [
        {
          "output_type": "stream",
          "name": "stdout",
          "text": [
            "Enter the lower limit of the interval: 1\n",
            "Enter the upper limit of the interval: 500\n",
            "1\n",
            "153\n",
            "370\n",
            "371\n",
            "407\n"
          ]
        },
        {
          "output_type": "execute_result",
          "data": {
            "text/plain": [
              "5"
            ]
          },
          "metadata": {},
          "execution_count": 15
        }
      ]
    },
    {
      "cell_type": "markdown",
      "source": [
        "19. Write a Python Program to find largest element in an array."
      ],
      "metadata": {
        "id": "5X8L_pvgHjxs"
      }
    },
    {
      "cell_type": "code",
      "source": [
        "my_array = [10, 20, 30, 99]\n",
        "\n",
        "def largest_num():\n",
        "  for num in my_array:\n",
        "    return max(my_array)\n",
        "print(largest_num())\n"
      ],
      "metadata": {
        "id": "Eupdycl89hop",
        "outputId": "5d4672d3-fa78-4d52-816d-2a4715ec5c5d",
        "colab": {
          "base_uri": "https://localhost:8080/"
        }
      },
      "execution_count": null,
      "outputs": [
        {
          "output_type": "stream",
          "name": "stdout",
          "text": [
            "99\n"
          ]
        }
      ]
    },
    {
      "cell_type": "code",
      "source": [
        "my_array = ['ankit' ,'amit' ,'sumt' ,'Abcdes']\n",
        "\n",
        "def largest_num():\n",
        "  for num in my_array:\n",
        "    return max(my_array ,key=len)\n",
        "print(largest_num())"
      ],
      "metadata": {
        "id": "13TxxgjcQlHl",
        "outputId": "de96bdd2-c078-4f66-bbfd-f3005bbb0357",
        "colab": {
          "base_uri": "https://localhost:8080/"
        }
      },
      "execution_count": null,
      "outputs": [
        {
          "output_type": "stream",
          "name": "stdout",
          "text": [
            "Abcdes\n"
          ]
        }
      ]
    },
    {
      "cell_type": "code",
      "source": [
        "my_array = [10, 20, 30, 99]\n",
        "largest_ = my_array[0]\n",
        "def largest_number():\n",
        "  largest_ = my_array[0]\n",
        "  for num in my_array:\n",
        "    if num>largest_:\n",
        "        largest_ =num\n",
        "    else:\n",
        "        largest_=largest_\n",
        "  return largest_\n",
        "print(largest_number())"
      ],
      "metadata": {
        "id": "hu6xAZYIIaPc",
        "outputId": "fe889dfe-cd6b-4bda-aadf-39b7e48e5b15",
        "colab": {
          "base_uri": "https://localhost:8080/"
        }
      },
      "execution_count": null,
      "outputs": [
        {
          "output_type": "stream",
          "name": "stdout",
          "text": [
            "99\n"
          ]
        }
      ]
    },
    {
      "cell_type": "markdown",
      "source": [
        "20. Write a Python Program for array rotation."
      ],
      "metadata": {
        "id": "gALchHYKJjzD"
      }
    },
    {
      "cell_type": "code",
      "source": [
        "arr = [1, 2, 3, 4, 5]\n",
        "d = 2\n",
        "def rotate_array(arr, d):\n",
        "    n = len(arr)\n",
        "\n",
        "    # Check if 'd' is valid, it should be within the range of array length\n",
        "    if d < 0 or d >= n:\n",
        "        print(\"Invalid rotation value\")\n",
        "\n",
        "    return arr[-d:] + arr[:-d]\n",
        "\n",
        "\n",
        "rotated_arr = rotate_array(arr, d)\n",
        "print(\"Original array:\", arr)\n",
        "print(\"Rotated array:\", rotated_arr)"
      ],
      "metadata": {
        "id": "ylbfpcy_JnEA",
        "outputId": "824b4827-8129-448c-a850-135830a2df7b",
        "colab": {
          "base_uri": "https://localhost:8080/"
        }
      },
      "execution_count": null,
      "outputs": [
        {
          "output_type": "stream",
          "name": "stdout",
          "text": [
            "Original array: [1, 2, 3, 4, 5]\n",
            "Rotated array: [4, 5, 1, 2, 3]\n"
          ]
        }
      ]
    },
    {
      "cell_type": "markdown",
      "source": [
        "21. Write a Python Program to Split the array and add the first part to the end?"
      ],
      "metadata": {
        "id": "rZWvxjp1NeZa"
      }
    },
    {
      "cell_type": "code",
      "source": [
        "arr = list(range(7))\n",
        "n=len(arr)\n",
        "k = int(input())\n",
        "def first_last(arr,k):\n",
        "  if k<=0 or k> n:\n",
        "    return arr\n",
        "  first=arr[:k]\n",
        "  last = arr[k:]\n",
        "  return last + first\n",
        "final =(first_last(arr,k))\n",
        "print(\"initial array\",arr)\n",
        "print('Final Array',final)"
      ],
      "metadata": {
        "id": "08CnEFasNgfQ",
        "outputId": "331346f6-40b9-4c4b-8361-d42867a1f737",
        "colab": {
          "base_uri": "https://localhost:8080/"
        }
      },
      "execution_count": null,
      "outputs": [
        {
          "output_type": "stream",
          "name": "stdout",
          "text": [
            "87\n",
            "initial array [0, 1, 2, 3, 4, 5, 6]\n",
            "Final Array [0, 1, 2, 3, 4, 5, 6]\n"
          ]
        }
      ]
    },
    {
      "cell_type": "markdown",
      "source": [
        "22. Write a program that asks the user for a number N and\n",
        "says whether it is prime or not."
      ],
      "metadata": {
        "id": "LvlUou_wVKAZ"
      }
    },
    {
      "cell_type": "code",
      "source": [
        "num = int(input(\"enter the number \\n\"))\n",
        "if num==1:\n",
        "  print(\"Its not a prime Number\")\n",
        "elif num==2:\n",
        "  print(\"Its prime Number\")\n",
        "else:\n",
        "  for i in range(2,num):\n",
        "    if num%i==0:\n",
        "      print('Its not prime')\n",
        "      break\n",
        "  else:\n",
        "      print('Its prime')"
      ],
      "metadata": {
        "id": "zawEBKOTWFeQ",
        "outputId": "62e9a8ad-98ed-4837-bd6e-ca492ba7900b",
        "colab": {
          "base_uri": "https://localhost:8080/"
        }
      },
      "execution_count": null,
      "outputs": [
        {
          "output_type": "stream",
          "name": "stdout",
          "text": [
            "enter the number \n",
            "531\n",
            "Its not prime\n"
          ]
        }
      ]
    },
    {
      "cell_type": "code",
      "source": [
        "num= int(input(\"please enter the number \\n\"))\n",
        "def check_prime(num):\n",
        "  if num==1:\n",
        "    return 'Its not a prime'\n",
        "  elif num==2:\n",
        "    return 'Its a prime'\n",
        "  else:\n",
        "    for i in range(2,num):\n",
        "      if num%i==0:\n",
        "        return 'Its not a prime'\n",
        "        break\n",
        "    else:\n",
        "      return 'Its a Prime'\n",
        "\n",
        "final=check_prime(num)\n",
        "print(final)"
      ],
      "metadata": {
        "id": "RCMwL0o-qkoV",
        "outputId": "90489873-65ce-4dd3-a450-707fe8e28b45",
        "colab": {
          "base_uri": "https://localhost:8080/"
        }
      },
      "execution_count": null,
      "outputs": [
        {
          "output_type": "stream",
          "name": "stdout",
          "text": [
            "please enter the number \n",
            "12\n",
            "Its not a prime\n"
          ]
        }
      ]
    },
    {
      "cell_type": "code",
      "source": [
        "# prime number between ranges\n",
        "lower_limit=int(input())\n",
        "upper_limit =int(input())\n",
        "for num in range (lower_limit,upper_limit+1):\n",
        "      if num ==1:\n",
        "        print(\"1 its not a prime number\")\n",
        "      elif num > 1:\n",
        "        for i in range (2,num):\n",
        "          if num % i ==0:\n",
        "            break\n",
        "        else:\n",
        "          print(num)"
      ],
      "metadata": {
        "id": "msYbrxErtPo6",
        "outputId": "4b2136cb-bc96-4dd4-d88b-bfedb3d4ffcd",
        "colab": {
          "base_uri": "https://localhost:8080/"
        }
      },
      "execution_count": null,
      "outputs": [
        {
          "output_type": "stream",
          "name": "stdout",
          "text": [
            "1\n",
            "25\n",
            "1 its not a prime number\n",
            "2\n",
            "3\n",
            "5\n",
            "7\n",
            "11\n",
            "13\n",
            "17\n",
            "19\n",
            "23\n"
          ]
        }
      ]
    },
    {
      "cell_type": "markdown",
      "source": [
        "23. Create a program that displays the first N first perfect\n",
        "squares, where N is informed by the user, using a loop."
      ],
      "metadata": {
        "id": "tf8MIk5ytMlG"
      }
    },
    {
      "cell_type": "code",
      "source": [
        "n =int(input(\"enter the number \\n\"))\n",
        "num=1\n",
        "count=0\n",
        "while count<n:\n",
        "  square = num**2\n",
        "  print(square,end=' ')\n",
        "  count+=1\n",
        "  num+=1"
      ],
      "metadata": {
        "id": "ZDAc0R1CtVP-",
        "outputId": "ec794b54-9699-4b94-d7a7-b5272c4560da",
        "colab": {
          "base_uri": "https://localhost:8080/"
        }
      },
      "execution_count": null,
      "outputs": [
        {
          "output_type": "stream",
          "name": "stdout",
          "text": [
            "enter the number \n",
            "6\n",
            "1 4 9 16 25 36 "
          ]
        }
      ]
    },
    {
      "cell_type": "markdown",
      "source": [
        "24. Write a program that prompts the user for a sentence and\n",
        "displays the number of vowels in the sentence."
      ],
      "metadata": {
        "id": "DxwgM6yevpyS"
      }
    },
    {
      "cell_type": "code",
      "source": [
        "words = input(\"please enter any word \\n \")\n",
        "vowel_count=0\n",
        "words = words.lower()\n",
        "for word in words:\n",
        "  if word in 'aeiou':\n",
        "    vowel_count+=1\n",
        "print(\"The number of vowles present in words is\",vowel_count)\n"
      ],
      "metadata": {
        "id": "t3nkt8vzvrU2",
        "outputId": "fc383c0a-e02f-4f44-fcfc-dbba4e79470d",
        "colab": {
          "base_uri": "https://localhost:8080/"
        }
      },
      "execution_count": null,
      "outputs": [
        {
          "output_type": "stream",
          "name": "stdout",
          "text": [
            "please enter any word \n",
            " Ankit Chauhan\n",
            "The number of vowles present in words is 5\n"
          ]
        }
      ]
    },
    {
      "cell_type": "markdown",
      "source": [
        "25. Write a program that prompts the user for a number and\n",
        "displays its divisors"
      ],
      "metadata": {
        "id": "uaxvoqD8wzgc"
      }
    },
    {
      "cell_type": "code",
      "source": [
        "number=int(input(\"enter the number \\n\"))\n",
        "for num in range(1,number+1):\n",
        "  if number % num==0:\n",
        "    print(num,end=' ')\n"
      ],
      "metadata": {
        "id": "JGIGEvE-w2Ds",
        "outputId": "e31a792c-53ae-444c-ac66-80f53c02293b",
        "colab": {
          "base_uri": "https://localhost:8080/"
        }
      },
      "execution_count": null,
      "outputs": [
        {
          "output_type": "stream",
          "name": "stdout",
          "text": [
            "enter the number \n",
            "15\n",
            "1 3 5 15 "
          ]
        }
      ]
    },
    {
      "cell_type": "markdown",
      "source": [
        "26. Write a Python Program to Find LCM."
      ],
      "metadata": {
        "id": "uPWS-ys-uDZo"
      }
    },
    {
      "cell_type": "code",
      "source": [
        "x=int(input())     #54\n",
        "y=int(input())     #72\n",
        "def chcek_lcm(x,y):\n",
        "  max_=max(x,y)    #max=72\n",
        "  multiple = max_     #multiple =72\n",
        "  while True:\n",
        "    if multiple% x==0 and multiple %y==0:     #check 72%54==0(no) 72%72==0 (yes)  soo condition didnt setisfy\n",
        "      return multiple\n",
        "    else:\n",
        "      multiple+=max_                        #soo condition didnt setisfy it comes in else where it upade value of multiple =144 and then check again\n",
        "final=chcek_lcm(x,y)\n",
        "\n",
        "print(f\"The lcm of {x},{y} is {final}\")"
      ],
      "metadata": {
        "id": "en7zIYWluIFr",
        "outputId": "bcea6fa4-cb2f-458a-89c1-c909d1e73845",
        "colab": {
          "base_uri": "https://localhost:8080/"
        }
      },
      "execution_count": null,
      "outputs": [
        {
          "output_type": "stream",
          "name": "stdout",
          "text": [
            "25\n",
            "215\n",
            "The lcm of 25,215 is 1075\n"
          ]
        }
      ]
    },
    {
      "cell_type": "markdown",
      "source": [
        "27. Find the Hcf of 2 number"
      ],
      "metadata": {
        "id": "hwglYoZK1XPO"
      }
    },
    {
      "cell_type": "code",
      "source": [
        "def hcf(x, y):\n",
        "    while y:\n",
        "        x, y = y, x % y  # 24,36 = 36,24%36\n",
        "    return x\n",
        "\n",
        "# Test the function\n",
        "num1 = int(input(\"Enter first number: \"))\n",
        "num2 = int(input(\"Enter second number: \"))\n",
        "\n",
        "print(\"The HCF of\", num1, \"and\", num2, \"is\", hcf(num1, num2))\n"
      ],
      "metadata": {
        "id": "N2qzlUu31WbT",
        "outputId": "521f1d89-bb89-4451-e78d-6fd6d8ca30a8",
        "colab": {
          "base_uri": "https://localhost:8080/"
        }
      },
      "execution_count": null,
      "outputs": [
        {
          "output_type": "stream",
          "name": "stdout",
          "text": [
            "Enter first number: 24\n",
            "Enter second number: 36\n",
            "The HCF of 24 and 36 is 12\n"
          ]
        }
      ]
    },
    {
      "cell_type": "code",
      "source": [
        "# define a function\n",
        "def compute_hcf(x, y):\n",
        "# choose the smaller number\n",
        " if x > y:\n",
        "  smaller = y\n",
        " else:\n",
        "  smaller = x\n",
        " for i in range(1, smaller+1):\n",
        "  if((x % i == 0) and (y % i == 0)):\n",
        "    hcf = i\n",
        " return hcf\n",
        "num1 = int(input('Enter the number: '))\n",
        "num2 = int(input('Enter the number: '))\n",
        "print(\"The H.C.F. is\", compute_hcf(num1, num2))"
      ],
      "metadata": {
        "id": "VZ60IqU-2PSk",
        "outputId": "dbe29ae6-672d-4fdc-911d-8e54f42bbe17",
        "colab": {
          "base_uri": "https://localhost:8080/"
        }
      },
      "execution_count": null,
      "outputs": [
        {
          "output_type": "stream",
          "name": "stdout",
          "text": [
            "Enter the number: 24\n",
            "Enter the number: 36\n",
            "The H.C.F. is 12\n"
          ]
        }
      ]
    },
    {
      "cell_type": "markdown",
      "source": [
        "28. Create a program that reads an array of integers and\n",
        "checks that all elements are even"
      ],
      "metadata": {
        "id": "Db67nEmb69_S"
      }
    },
    {
      "cell_type": "code",
      "source": [
        "arr = [21, 6, 8, 12, 56, 86]\n",
        "is_even = False\n",
        "\n",
        "for num in arr:\n",
        "    if num % 2 != 0:  # Checking if the number is not even\n",
        "        is_even = False\n",
        "        break\n",
        "    else:\n",
        "        is_even = True\n",
        "\n",
        "if is_even:\n",
        "    print(\"All numbers are even\")\n",
        "else:\n",
        "    print(\"all numbers are not even\")\n"
      ],
      "metadata": {
        "colab": {
          "base_uri": "https://localhost:8080/"
        },
        "id": "NmDKaFK37FYM",
        "outputId": "ab9471c2-ebd8-4625-a301-e7e4299b552d"
      },
      "execution_count": null,
      "outputs": [
        {
          "output_type": "stream",
          "name": "stdout",
          "text": [
            "all numbers are not even\n"
          ]
        }
      ]
    },
    {
      "cell_type": "markdown",
      "source": [
        "29. Write a program that reads a word and checks if it is a\n",
        "palindrome (if it can be read backwards the same way)."
      ],
      "metadata": {
        "id": "ZGASz_YrH4l5"
      }
    },
    {
      "cell_type": "code",
      "source": [
        "words = input(\"Please enter the word\")\n",
        "def check_palindrome(words):\n",
        "  words=words.lower()\n",
        "  if words==words[::-1]:\n",
        "    return \"Its a Palindrome\"\n",
        "  else:\n",
        "    return \"Its not a Palindrome\"\n",
        "final= check_palindrome(words)\n",
        "print(final)"
      ],
      "metadata": {
        "colab": {
          "base_uri": "https://localhost:8080/"
        },
        "id": "M4xtoEfEILrg",
        "outputId": "aefaba83-b39a-409a-e51b-e85a845687be"
      },
      "execution_count": null,
      "outputs": [
        {
          "output_type": "stream",
          "name": "stdout",
          "text": [
            "Please enter the wordANknA\n",
            "Its a Palindrome\n"
          ]
        }
      ]
    },
    {
      "cell_type": "markdown",
      "source": [
        "30. Create a program that reads two words and checks if the\n",
        "second word is an anagram of the first."
      ],
      "metadata": {
        "id": "7JqnyOjLKCVu"
      }
    },
    {
      "cell_type": "code",
      "source": [
        "words1=input(\"Enter the first word \\n\")\n",
        "words2=input(\"Enter the Second word \\n\")\n",
        "def check_anagram(words1,words2):\n",
        "  words1=words1.lower()\n",
        "  words2=words2.lower()\n",
        "  if len(words1)!=len(words2):\n",
        "    return (\"Its not a Anagram\")\n",
        "  else:\n",
        "    if sorted(words1)==sorted(words2):\n",
        "      return (\"Its an Anagram\")\n",
        "    else:\n",
        "      return (\"Its not a Anagram\")\n",
        "final=check_anagram(words1,words2)\n",
        "print(final)"
      ],
      "metadata": {
        "colab": {
          "base_uri": "https://localhost:8080/"
        },
        "id": "XHwTAd6JKD9I",
        "outputId": "d2a1b063-8151-49b9-ffbc-c5046ae0fd7c"
      },
      "execution_count": null,
      "outputs": [
        {
          "output_type": "stream",
          "name": "stdout",
          "text": [
            "Enter the first word \n",
            "ankit\n",
            "Enter the Second word \n",
            "chuahan\n",
            "Its not a Anagram\n"
          ]
        }
      ]
    },
    {
      "cell_type": "markdown",
      "source": [
        "31. Write a program that takes a full name and displays only\n",
        "the first name"
      ],
      "metadata": {
        "id": "6ahb76IgL-jA"
      }
    },
    {
      "cell_type": "code",
      "source": [
        "name = input(\"Please enter your full name \\n\")\n",
        "final=name.split(\" \")\n",
        "first_name = final[0]\n",
        "last_name = final[1]\n",
        "print(f\"First name of the word {name}is {first_name}\")\n",
        "print(f\"Last name of the word {name} is {last_name}\")"
      ],
      "metadata": {
        "colab": {
          "base_uri": "https://localhost:8080/"
        },
        "id": "jFTEPRYhMOLk",
        "outputId": "3477439e-12af-4be5-dee8-2d298978ae6f"
      },
      "execution_count": null,
      "outputs": [
        {
          "output_type": "stream",
          "name": "stdout",
          "text": [
            "Please enter your full name \n",
            "Ankit Chauhan\n",
            "First name of the word Ankit Chauhanis Ankit\n",
            "Last name of the word Ankit Chauhan is Chauhan\n"
          ]
        }
      ]
    },
    {
      "cell_type": "markdown",
      "source": [
        "32. Create a program that reads a word and displays the\n",
        "number of vowels present in it"
      ],
      "metadata": {
        "id": "wYdT7RYRMxL4"
      }
    },
    {
      "cell_type": "code",
      "source": [
        "words= input(\"please enter the word \\n\")\n",
        "count_vowels=0\n",
        "for word in words.lower():\n",
        "  if word in 'a,e,i,o,u':\n",
        "    count_vowels+=1\n",
        "print(f\"Total number of vowels present in {words.lower()} is {count_vowels}\")\n"
      ],
      "metadata": {
        "colab": {
          "base_uri": "https://localhost:8080/"
        },
        "id": "Qm4s3T3XMyc6",
        "outputId": "ed2ed5bf-3b9c-4ab1-8a79-7910fbc5c0a8"
      },
      "execution_count": null,
      "outputs": [
        {
          "output_type": "stream",
          "name": "stdout",
          "text": [
            "please enter the word \n",
            "Ankit chauhan\n",
            "Total number of vowels present in ankit chauhan is 5\n"
          ]
        }
      ]
    },
    {
      "cell_type": "markdown",
      "source": [
        "33. Write a program that fills a 3x3 matrix with values entered\n",
        "by the user and displays the sum of the main diagonal values."
      ],
      "metadata": {
        "id": "a2dSoOJYPNR0"
      }
    },
    {
      "cell_type": "markdown",
      "source": [
        "34. find the missing number in an array\n"
      ],
      "metadata": {
        "id": "zgJqJcOu4p8V"
      }
    },
    {
      "cell_type": "code",
      "source": [
        "a=[1,2,4,5,6,7]\n",
        "def get_missing_number():\n",
        "  n=a[-1]\n",
        "  sum_ = 0\n",
        "  total = n*(n+1)//2\n",
        "  sum_=sum(a)\n",
        "  final=total-sum_\n",
        "  return final\n",
        "print(get_missing_number())\n",
        "\n"
      ],
      "metadata": {
        "id": "15ggCAcj4uGU",
        "outputId": "3025033f-a32f-4969-a3c5-9fdc5911df25",
        "colab": {
          "base_uri": "https://localhost:8080/"
        }
      },
      "execution_count": null,
      "outputs": [
        {
          "output_type": "stream",
          "name": "stdout",
          "text": [
            "7\n",
            "3\n"
          ]
        }
      ]
    },
    {
      "cell_type": "markdown",
      "source": [
        "35. Check the Largest and Smallest number from an Array"
      ],
      "metadata": {
        "id": "dYgbv0si5ogC"
      }
    },
    {
      "cell_type": "code",
      "source": [
        "array = [3, 8, 1, 6, 2, 10, 4, 7, 5, 9]\n",
        "\n",
        "def largest_small(arr):\n",
        "\n",
        "    large_ = arr[0]\n",
        "    small_ = arr[0]\n",
        "\n",
        "\n",
        "    for num in arr:\n",
        "        if num > large_:\n",
        "            large_ = num\n",
        "        elif num < small_:\n",
        "            small_ = num\n",
        "\n",
        "    return large_, small_\n",
        "\n",
        "\n",
        "largest, smallest = largest_small(array)\n"
      ],
      "metadata": {
        "id": "wRgw6DDM5trc"
      },
      "execution_count": null,
      "outputs": []
    },
    {
      "cell_type": "code",
      "source": [
        "import numpy as np\n",
        "array = [3, 8, 1, 6, 2, 10, 4, 7, 5, 9]\n",
        "final=np.sort(array)\n",
        "smallest_ = final[0]\n",
        "biggest = final[-1]\n",
        "print(smallest_)\n",
        "print(biggest)"
      ],
      "metadata": {
        "id": "dUWxhy396PyY",
        "outputId": "8cd9a58d-880e-4da0-a06b-7615865e6bb1",
        "colab": {
          "base_uri": "https://localhost:8080/"
        }
      },
      "execution_count": null,
      "outputs": [
        {
          "output_type": "stream",
          "name": "stdout",
          "text": [
            "1\n",
            "10\n"
          ]
        }
      ]
    },
    {
      "cell_type": "markdown",
      "source": [
        "36. Write a Python program to calculate the sum and average of n integer numbers (input from the user). Input 0 to finish."
      ],
      "metadata": {
        "id": "SuZ3MMsWCYak"
      }
    },
    {
      "cell_type": "code",
      "source": [
        "#write your code inside main function\n",
        "count = 0\n",
        "sum = 0.0\n",
        "number = 1\n",
        "\n",
        "while number != 0:\n",
        "        number = int(input(\"\"))\n",
        "        sum = sum + number\n",
        "        count += 1\n",
        "\n",
        "if count == 0:\n",
        "        print(\"Input some numbers\")\n",
        "else:\n",
        "        print(\"Average and Sum of the above numbers are:\", sum / (count-1), sum)"
      ],
      "metadata": {
        "id": "UWduMC_tCbtR",
        "outputId": "272c89be-cdcf-4904-b3af-c944217e9752",
        "colab": {
          "base_uri": "https://localhost:8080/"
        }
      },
      "execution_count": null,
      "outputs": [
        {
          "output_type": "stream",
          "name": "stdout",
          "text": [
            "12\n",
            "3\n",
            "45\n",
            "12\n",
            "0\n",
            "Average and Sum of the above numbers are: 18.0 72.0\n"
          ]
        }
      ]
    },
    {
      "cell_type": "markdown",
      "source": [
        "38. Write a Python program to compute the cumulative sum of numbers in a given list. Note: Cumulative sum = sum of itself + all previous numbers in the said list.\n",
        "\n"
      ],
      "metadata": {
        "id": "_ErTZFaTFzn7"
      }
    },
    {
      "cell_type": "code",
      "source": [
        "def nums_cumulative_sum(nums_list):\n",
        "  return [sum(nums_list[:i+1]) for i in range(len(nums_list))]\n",
        "\n",
        "lst = eval(input())\n",
        "print(nums_cumulative_sum(lst))\n"
      ],
      "metadata": {
        "id": "r_VH41zdF20b"
      },
      "execution_count": null,
      "outputs": []
    },
    {
      "cell_type": "code",
      "source": [
        "def cumulative_sum(nums):\n",
        "    cumulative = []\n",
        "    total = 0\n",
        "    for num in nums:\n",
        "        total += num\n",
        "        cumulative.append(total)\n",
        "    return cumulative\n",
        "\n",
        "# Test the function with the given list\n",
        "nums = [10, 20, 30, 40, 50, 60, 7]\n",
        "print(cumulative_sum(nums))"
      ],
      "metadata": {
        "id": "MHMm_MDHF7sR",
        "outputId": "ff396099-ae37-43a0-bc6f-c0d1326284b0",
        "colab": {
          "base_uri": "https://localhost:8080/"
        }
      },
      "execution_count": null,
      "outputs": [
        {
          "output_type": "stream",
          "name": "stdout",
          "text": [
            "[10, 30, 60, 100, 150, 210, 217]\n"
          ]
        }
      ]
    },
    {
      "cell_type": "markdown",
      "source": [
        "39. Write a python program soo thats first all the even numbers appears and later odd\n",
        "\n",
        "[1,2,3,4,5,6,7,8,9]--->>>[2,4,6,8,1,3,5,7,9]\n"
      ],
      "metadata": {
        "id": "kMiCw5x0sCUM"
      }
    },
    {
      "cell_type": "code",
      "source": [
        "lst=[1,2,3,4,5,6,7,8,9]\n",
        "even=[]\n",
        "odd=[]\n",
        "def new_lst(x):\n",
        "  for num in x:\n",
        "    if num%2==0:\n",
        "      even.append(num)\n",
        "    else:\n",
        "      odd.append(num)\n",
        "  return even+odd\n",
        "print(new_lst(lst))"
      ],
      "metadata": {
        "id": "8pgyOSCCsMH7",
        "outputId": "eebd8576-4d3e-4cc8-d443-88edc305c5fd",
        "colab": {
          "base_uri": "https://localhost:8080/"
        }
      },
      "execution_count": null,
      "outputs": [
        {
          "output_type": "stream",
          "name": "stdout",
          "text": [
            "[2, 4, 6, 8, 1, 3, 5, 7, 9]\n"
          ]
        }
      ]
    },
    {
      "cell_type": "code",
      "source": [
        "import numpy as np\n",
        "\n",
        "lst = [13,45,87,76]\n",
        "lst = np.sort(lst)\n",
        "\n",
        "if len(lst) % 2 == 0:  # If the list length is even\n",
        "    mid1 = len(lst) // 2\n",
        "    mid2 = mid1 - 1\n",
        "    median = (lst[mid1] + lst[mid2]) / 2\n",
        "else:  # If the list length is odd\n",
        "    mid = len(lst) // 2\n",
        "    median = lst[mid]\n",
        "\n",
        "print(median)\n"
      ],
      "metadata": {
        "id": "D5UZrAayzmqG",
        "outputId": "03045e7f-2153-4254-f128-920aa89a9680",
        "colab": {
          "base_uri": "https://localhost:8080/"
        }
      },
      "execution_count": null,
      "outputs": [
        {
          "output_type": "stream",
          "name": "stdout",
          "text": [
            "60.5\n"
          ]
        }
      ]
    },
    {
      "cell_type": "markdown",
      "source": [
        "40. Concating 2 string"
      ],
      "metadata": {
        "id": "0H02dF0-FoKR"
      }
    },
    {
      "cell_type": "code",
      "source": [
        "names = ['Ankit ','Amit','Pawan','Ajay','Raman']\n",
        "final='-'.join(names)\n",
        "print(final)"
      ],
      "metadata": {
        "id": "cXYafAU2G1E1",
        "outputId": "8a41c7b7-9c81-40fb-ce48-c69bb9c53505",
        "colab": {
          "base_uri": "https://localhost:8080/"
        }
      },
      "execution_count": null,
      "outputs": [
        {
          "output_type": "stream",
          "name": "stdout",
          "text": [
            "Ankit -Amit-Pawan-Ajay-Raman\n"
          ]
        }
      ]
    },
    {
      "cell_type": "markdown",
      "source": [
        "41. Write a Python program to find the longest length of word from sentance"
      ],
      "metadata": {
        "id": "t9e_LaqbDK-C"
      }
    },
    {
      "cell_type": "code",
      "source": [
        "sentance_='hey ankit how are you and how are you doings'\n",
        "def max_len(sentance_):\n",
        "  new =sentance_.split(' ')\n",
        "  return max(new,key=len)\n",
        "\n",
        "print(max_len(sentance_))\n"
      ],
      "metadata": {
        "id": "eCHm9IQkBXdX",
        "outputId": "79a77485-f888-4913-f41b-424bb656f81e",
        "colab": {
          "base_uri": "https://localhost:8080/"
        }
      },
      "execution_count": null,
      "outputs": [
        {
          "output_type": "stream",
          "name": "stdout",
          "text": [
            "doings\n"
          ]
        }
      ]
    },
    {
      "cell_type": "code",
      "source": [
        "import string\n",
        "\n",
        "def is_pangram(sentence):\n",
        "    alphabet = set(string.ascii_lowercase)\n",
        "    sentence = sentence.lower()\n",
        "    # Remove non-alphabetic characters\n",
        "    sentence = ''.join(char for char in sentence if char.isalpha())\n",
        "    # Check if all letters in alphabet are present in the sentence\n",
        "    return set(sentence) >= alphabet\n",
        "\n",
        "# Example usage:\n",
        "sentence = \"The quick brown fox jumps over the lazy dog\"\n",
        "if is_pangram(sentence):\n",
        "    print(\"The sentence is a pangram.\")\n",
        "else:\n",
        "    print(\"The sentence is not a pangram.\")\n"
      ],
      "metadata": {
        "id": "x5BlD9Ect44U",
        "outputId": "0b6b1245-699d-4793-994b-d0e40ffd3102",
        "colab": {
          "base_uri": "https://localhost:8080/"
        }
      },
      "execution_count": null,
      "outputs": [
        {
          "output_type": "stream",
          "name": "stdout",
          "text": [
            "The sentence is a pangram.\n"
          ]
        }
      ]
    },
    {
      "cell_type": "code",
      "source": [
        "sentance='hey ankit how are you and how are you doing'\n",
        "\n",
        "new = sentance.split(' ')\n",
        "print(new)\n",
        "print(len(new))\n"
      ],
      "metadata": {
        "id": "qeRdgDtcu5WV",
        "outputId": "25f8bbeb-2100-4835-8f71-a5032633f67f",
        "colab": {
          "base_uri": "https://localhost:8080/"
        }
      },
      "execution_count": null,
      "outputs": [
        {
          "output_type": "stream",
          "name": "stdout",
          "text": [
            "['hey', 'ankit', 'how', 'are', 'you', 'and', 'how', 'are', 'you', 'doing']\n",
            "10\n"
          ]
        }
      ]
    },
    {
      "cell_type": "code",
      "source": [
        "lst = ['hey', 'ankit', 'how', 'are', 'you', 'and', 'how', 'are', 'you', 'doing','comeher']\n",
        "n=[]\n",
        "for name in lst:\n",
        "  if len(name)>=5:\n",
        "    n.append(name)\n",
        "print(n)"
      ],
      "metadata": {
        "id": "-7UOTr6_KiaV",
        "outputId": "feb9e5bd-907c-4567-c2ef-4f5cf5f84824",
        "colab": {
          "base_uri": "https://localhost:8080/"
        }
      },
      "execution_count": null,
      "outputs": [
        {
          "output_type": "stream",
          "name": "stdout",
          "text": [
            "['ankit', 'doing', 'comeher']\n"
          ]
        }
      ]
    },
    {
      "cell_type": "code",
      "source": [
        "def maximum_product(nums):\n",
        "    nums.sort()  # Step 1: Sort the input list of integers\n",
        "\n",
        "    # Step 2: Calculate the two possible cases for the maximum product\n",
        "    case1 = nums[-1] * nums[-2] * nums[-3]  # Product of the three largest positive numbers\n",
        "\n",
        "    # Product of the two smallest negative numbers and the largest positive number\n",
        "    case2 = nums[0] * nums[1] * nums[-1] if nums[0] * nums[1] > nums[-2] * nums[-3] else nums[-1] * nums[-2] * nums[-3]\n",
        "\n",
        "    # Step 3: Return the maximum of the two cases\n",
        "    return max(case1, case2)\n",
        "\n",
        "# Test the function\n",
        "nums = [1, 2, 3, 4]\n",
        "print(maximum_product(nums))\n"
      ],
      "metadata": {
        "id": "0qz7InRKm9Cy"
      },
      "execution_count": null,
      "outputs": []
    },
    {
      "cell_type": "code",
      "source": [
        "lst=[1,2,3,4,5]\n",
        "lst1=[3,4,5,6,7]\n",
        "print(list(set(lst) & set(lst1)))"
      ],
      "metadata": {
        "id": "kATocWWyM8uI",
        "outputId": "d8ab22ea-c00a-4720-b6ac-13ab725062ca",
        "colab": {
          "base_uri": "https://localhost:8080/"
        }
      },
      "execution_count": null,
      "outputs": [
        {
          "output_type": "stream",
          "name": "stdout",
          "text": [
            "[3, 4, 5]\n"
          ]
        }
      ]
    },
    {
      "cell_type": "markdown",
      "source": [
        "Create a function that takes a list of non-negative integers and strings and return a\n",
        "new list without the strings"
      ],
      "metadata": {
        "id": "D67HZxd8kOzH"
      }
    },
    {
      "cell_type": "code",
      "source": [
        "lst = ['ankit',12,45,'Jhon','Ravi',90,-46]\n",
        "new=[]\n",
        "for i in  lst :\n",
        "  if isinstance(i,int) and i>=0:\n",
        "    new.append(i)\n",
        "print(new)"
      ],
      "metadata": {
        "id": "gLFbOX_0jzer",
        "outputId": "18f5c09e-80f6-400b-fd25-a569599d73f8",
        "colab": {
          "base_uri": "https://localhost:8080/"
        }
      },
      "execution_count": null,
      "outputs": [
        {
          "output_type": "stream",
          "name": "stdout",
          "text": [
            "[12, 45, 90]\n"
          ]
        }
      ]
    },
    {
      "cell_type": "markdown",
      "source": [
        "The \"Reverser\" takes a string as input and returns that string in reverse order, with\n",
        "the opposite case"
      ],
      "metadata": {
        "id": "aKwEPJRrktW5"
      }
    },
    {
      "cell_type": "code",
      "source": [
        "name = input()\n",
        "def new_name(name):\n",
        "  return name[::-1].swapcase()\n",
        "print(new_name(name))"
      ],
      "metadata": {
        "id": "yllw9ZPXkuW2",
        "outputId": "51d7fda6-933a-4ff3-c7d3-6d8b88e4692b",
        "colab": {
          "base_uri": "https://localhost:8080/"
        }
      },
      "execution_count": null,
      "outputs": [
        {
          "output_type": "stream",
          "name": "stdout",
          "text": [
            "HeLlO aNkIt\n",
            "TiKnA oLlEh\n"
          ]
        }
      ]
    },
    {
      "cell_type": "markdown",
      "source": [
        "Create a function that takes a single string as argument and returns an ordered list\n",
        "containing the indices of all capital letters in the string"
      ],
      "metadata": {
        "id": "nwbCo3R7n1f3"
      }
    },
    {
      "cell_type": "code",
      "source": [
        "\n",
        "def nea_ind(word):\n",
        "  return [i for i,char in enumerate(word) if char.isupper()]\n",
        "print(nea_ind('HeLlO woRLd'))"
      ],
      "metadata": {
        "id": "HlzuaU0hn2TT",
        "outputId": "49ea647b-0b4d-4891-e688-e1727327d206",
        "colab": {
          "base_uri": "https://localhost:8080/"
        }
      },
      "execution_count": null,
      "outputs": [
        {
          "output_type": "stream",
          "name": "stdout",
          "text": [
            "[0, 2, 4, 8, 9]\n"
          ]
        }
      ]
    },
    {
      "cell_type": "code",
      "source": [
        "new =[ i for i in range(1,15) if i%2==0]\n",
        "print(new)"
      ],
      "metadata": {
        "id": "aQGtmILIpSPV",
        "outputId": "9a33914b-7a96-47f8-d6b1-96eaf0b17f3b",
        "colab": {
          "base_uri": "https://localhost:8080/"
        }
      },
      "execution_count": null,
      "outputs": [
        {
          "output_type": "stream",
          "name": "stdout",
          "text": [
            "[2, 4, 6, 8, 10, 12, 14]\n"
          ]
        }
      ]
    },
    {
      "cell_type": "markdown",
      "source": [
        "Create a function that takes a string and returns a string with its letters in\n",
        "alphabetical order"
      ],
      "metadata": {
        "id": "Ewsbf-42vjMr"
      }
    },
    {
      "cell_type": "code",
      "source": [
        "word = 'Ankit'\n",
        "\n",
        "def sorted_word(word):\n",
        "    return ''.join(sorted(word))\n",
        "\n",
        "print(sorted_word(word))\n"
      ],
      "metadata": {
        "id": "BLOV-Aw6vk9h",
        "outputId": "5b49c990-150a-472d-f48e-3ed3119d5b01",
        "colab": {
          "base_uri": "https://localhost:8080/"
        }
      },
      "execution_count": null,
      "outputs": [
        {
          "output_type": "stream",
          "name": "stdout",
          "text": [
            "Aiknt\n"
          ]
        }
      ]
    },
    {
      "cell_type": "markdown",
      "source": [
        "An isogram is a word that has no duplicate letters. Create a function that takes a\n",
        "string and returns either True or False depending on whether or not it's an \"isogram\"."
      ],
      "metadata": {
        "id": "OSOROYgIxNkY"
      }
    },
    {
      "cell_type": "code",
      "source": [
        "def is_isogram(word):\n",
        "\n",
        " word = word.lower()\n",
        "\n",
        " # Create a set to store unique letters in the word\n",
        " unique_letters = set()\n",
        "\n",
        " for letter in word:\n",
        " # If the letter is already in the set, it's not an isogram\n",
        " if letter in unique_letters:\n",
        " return False\n",
        " # Otherwise, add it to the set\n",
        " unique_letters.add(letter)\n",
        "\n",
        " return True"
      ],
      "metadata": {
        "id": "WJqdI8XsxOkP"
      },
      "execution_count": null,
      "outputs": []
    },
    {
      "cell_type": "markdown",
      "source": [
        "Create a function that takes a list of strings and return a list, sorted from shortest to\n",
        "longest."
      ],
      "metadata": {
        "id": "FG4C8vD6x88X"
      }
    },
    {
      "cell_type": "code",
      "source": [
        "lst = ['google','Ant','Z','Amazone','Apples','Grapes_']\n",
        "def sortby_len(word):\n",
        "    return (sorted(lst,key=len))\n",
        "\n",
        "print(sortby_len(word))"
      ],
      "metadata": {
        "id": "ocNuPTwJxb-F",
        "outputId": "f0a152a7-d78f-440b-ab20-30c442732c46",
        "colab": {
          "base_uri": "https://localhost:8080/"
        }
      },
      "execution_count": null,
      "outputs": [
        {
          "output_type": "stream",
          "name": "stdout",
          "text": [
            "['Z', 'Ant', 'google', 'Apples', 'Amazone', 'Grapes_']\n"
          ]
        }
      ]
    },
    {
      "cell_type": "markdown",
      "source": [
        "Pattern"
      ],
      "metadata": {
        "id": "LtYGxczDii2J"
      }
    },
    {
      "cell_type": "code",
      "source": [
        "n= int(input(\"enter the number--->\"))\n",
        "\n",
        "for i in range(1,n+1):\n",
        "        for j in range(1,i+1):\n",
        "                print(j,end=' ')\n",
        "        print('')\n",
        "\n",
        "for i in range(n,0,-1):\n",
        "        for j in range(i,0,-1):\n",
        "                print(j,end=' ')\n",
        "        print('')"
      ],
      "metadata": {
        "id": "sSU6hc6MikYT"
      },
      "execution_count": null,
      "outputs": []
    },
    {
      "cell_type": "code",
      "source": [
        "def two_sum(nums, target):\n",
        "    # Dictionary to store the complement of each number\n",
        "    complement_map = {}\n",
        "\n",
        "    for i, num in enumerate(nums):\n",
        "        complement = target - num\n",
        "        # Check if the complement exists in the dictionary\n",
        "        if complement in complement_map:\n",
        "            # Return the indices of the two numbers\n",
        "            return [complement_map[complement], i]\n",
        "        # If complement not found, add the current number to the dictionary\n",
        "        complement_map[num] = i\n",
        "\n",
        "    # If no solution found\n",
        "    return None\n",
        "\n",
        "# Test the function with nums = [2,7,11,15], target = 9\n",
        "nums = [2, 7, 11,75, 15,86,96]\n",
        "target = 86\n",
        "print(two_sum(nums, target))  # Output: [0, 1]\n"
      ],
      "metadata": {
        "id": "XU16SbKSTT9r",
        "outputId": "bdbddec0-3016-46f8-eadf-abe3c2a5b23f",
        "colab": {
          "base_uri": "https://localhost:8080/"
        }
      },
      "execution_count": null,
      "outputs": [
        {
          "output_type": "stream",
          "name": "stdout",
          "text": [
            "[2, 3]\n"
          ]
        }
      ]
    },
    {
      "cell_type": "code",
      "source": [
        "s='hello'\n",
        "def string_score(s):\n",
        "  score = 0\n",
        "  for i in range(len(s)-1):\n",
        "    score += abs(ord(s[i]) - ord(s[i+1]))\n",
        "  return score\n",
        "\n",
        "\n",
        "print(string_score(s))\n",
        "\n"
      ],
      "metadata": {
        "id": "1RCEbHzO6iRP",
        "outputId": "9cea8f62-2e7b-489c-b388-879b19a563ed",
        "colab": {
          "base_uri": "https://localhost:8080/"
        }
      },
      "execution_count": null,
      "outputs": [
        {
          "output_type": "stream",
          "name": "stdout",
          "text": [
            "13\n"
          ]
        }
      ]
    },
    {
      "cell_type": "code",
      "source": [
        "word ='leetcode'\n",
        "def substring(word):\n",
        "  reverse=word[::-1]\n",
        "  for i in range(1,len(word)):\n",
        "    if word[i-1] +word[i] in reverse:\n",
        "      return True\n",
        "  return False\n",
        "substring(word)"
      ],
      "metadata": {
        "id": "xDjO5v827NBr",
        "outputId": "9248c18b-0723-4cbf-9e80-8ad9419a9d40",
        "colab": {
          "base_uri": "https://localhost:8080/"
        }
      },
      "execution_count": null,
      "outputs": [
        {
          "output_type": "execute_result",
          "data": {
            "text/plain": [
              "True"
            ]
          },
          "metadata": {},
          "execution_count": 4
        }
      ]
    },
    {
      "cell_type": "markdown",
      "source": [
        "Second largest element"
      ],
      "metadata": {
        "id": "OSvQCLHaS8jf"
      }
    },
    {
      "cell_type": "code",
      "source": [
        "n = int(input())\n",
        "arr = map(int, input().split())  #2 3 6 6 5\n",
        "def second_largest(arr):\n",
        "   new = sorted(set(arr))\n",
        "   return new[-2]\n",
        "\n",
        "second_largest(arr)\n"
      ],
      "metadata": {
        "id": "J-GPsnCHQkqj",
        "outputId": "8065a213-b72d-4f2a-8c62-96db25bcd1f1",
        "colab": {
          "base_uri": "https://localhost:8080/"
        }
      },
      "execution_count": null,
      "outputs": [
        {
          "name": "stdout",
          "output_type": "stream",
          "text": [
            "5\n",
            "2 3 6 8 9 7 8\n"
          ]
        },
        {
          "output_type": "execute_result",
          "data": {
            "text/plain": [
              "8"
            ]
          },
          "metadata": {},
          "execution_count": 20
        }
      ]
    },
    {
      "cell_type": "code",
      "source": [
        "\n",
        "l1=input().split()\n",
        "\n",
        "l2=input().split()\n",
        "for x in l1:\n",
        "  for y in l2:\n",
        "    print((int(x),int(y)),end=\" \")"
      ],
      "metadata": {
        "id": "bMIODHhgTnut",
        "outputId": "ca9600af-9207-4822-cfcc-353f602c6d7e",
        "colab": {
          "base_uri": "https://localhost:8080/"
        }
      },
      "execution_count": null,
      "outputs": [
        {
          "output_type": "stream",
          "name": "stdout",
          "text": [
            "1 3 4\n",
            "4 3 1\n",
            "(1, 4) (1, 3) (1, 1) (3, 4) (3, 3) (3, 1) (4, 4) (4, 3) (4, 1) "
          ]
        }
      ]
    },
    {
      "cell_type": "code",
      "source": [
        "l1=input().split()\n",
        "def new_(word):\n",
        "  x= '$ '.join(l1)\n",
        "  return x\n",
        "new_(word)"
      ],
      "metadata": {
        "id": "y479JRs9ZJmW",
        "outputId": "962d47e1-3042-46bc-ea3a-cf459cc172d3",
        "colab": {
          "base_uri": "https://localhost:8080/",
          "height": 53
        }
      },
      "execution_count": null,
      "outputs": [
        {
          "name": "stdout",
          "output_type": "stream",
          "text": [
            "My name is ankit\n"
          ]
        },
        {
          "output_type": "execute_result",
          "data": {
            "text/plain": [
              "'My$ name$ is$ ankit'"
            ],
            "application/vnd.google.colaboratory.intrinsic+json": {
              "type": "string"
            }
          },
          "metadata": {},
          "execution_count": 45
        }
      ]
    },
    {
      "cell_type": "code",
      "source": [
        "input_str = \"happy\"\n",
        "def string_to_numbers(input_str):\n",
        "    result = \"\"\n",
        "    for char in input_str:\n",
        "        if char.isalpha():\n",
        "            # Convert uppercase and lowercase letters to their numeric positions\n",
        "            num = ord(char.lower()) - ord('a') + 1\n",
        "            result += str(num)\n",
        "        else:\n",
        "            # For non-alphabetic characters, just append them to the result\n",
        "            result += char\n",
        "    return result\n",
        "\n",
        "\n",
        "output = string_to_numbers(input_str)\n",
        "print(output)  # Output: 81161625\n"
      ],
      "metadata": {
        "id": "bfl4bfUaVlMp",
        "outputId": "4823a929-61b3-4b5a-df23-80d2c7fbfee4",
        "colab": {
          "base_uri": "https://localhost:8080/"
        }
      },
      "execution_count": null,
      "outputs": [
        {
          "output_type": "stream",
          "name": "stdout",
          "text": [
            "81161625\n"
          ]
        }
      ]
    },
    {
      "cell_type": "code",
      "source": [
        "print('abcde'.isalpha())\n",
        "print('ab11cde'.isalpha())\n",
        "print('12345'.isdigit())\n",
        "print('abcd123'.isalnum())\n"
      ],
      "metadata": {
        "colab": {
          "base_uri": "https://localhost:8080/"
        },
        "id": "fBxRuyBTSSUK",
        "outputId": "876ccdc4-a0d9-4dc9-8748-29aa1b77b928"
      },
      "execution_count": null,
      "outputs": [
        {
          "output_type": "stream",
          "name": "stdout",
          "text": [
            "True\n",
            "False\n",
            "True\n",
            "True\n"
          ]
        }
      ]
    },
    {
      "cell_type": "code",
      "source": [
        "import textwrap\n",
        "new = 'ABCDEFGHIJKLMNOPQRSTUVWXYZ'\n",
        "fill = textwrap.fill(new,5)\n",
        "wrap = textwrap.wrap(new,5)\n",
        "fill,wrap"
      ],
      "metadata": {
        "colab": {
          "base_uri": "https://localhost:8080/"
        },
        "id": "GITVpNx2SwBc",
        "outputId": "dbaed6df-0e58-4774-91fb-b9ea807753b4"
      },
      "execution_count": null,
      "outputs": [
        {
          "output_type": "execute_result",
          "data": {
            "text/plain": [
              "('ABCDE\\nFGHIJ\\nKLMNO\\nPQRST\\nUVWXY\\nZ',\n",
              " ['ABCDE', 'FGHIJ', 'KLMNO', 'PQRST', 'UVWXY', 'Z'])"
            ]
          },
          "metadata": {},
          "execution_count": 29
        }
      ]
    },
    {
      "cell_type": "markdown",
      "source": [
        " In this challenge, the user enters a string and a substring. You have to print the number of times that the substring occurs in the given string. String traversal will take place from left to right, not from right to left\n",
        "\n",
        " ABCDCDC\n",
        "\n",
        "CDC  ---2\n"
      ],
      "metadata": {
        "id": "HtZbI1wzNoB0"
      }
    },
    {
      "cell_type": "code",
      "source": [
        "def count_substring(string, sub_string):\n",
        "    count = 0\n",
        "    for i in range(len(string) - len(sub_string) + 1):\n",
        "        if string[i:].startswith(sub_string):\n",
        "            count += 1\n",
        "    return count\n",
        "\n",
        "string = 'ABCDCDC'\n",
        "sub_string = \"CDC\"\n",
        "count_substring(string, sub_string)"
      ],
      "metadata": {
        "id": "3h9CtMHwLb-g",
        "outputId": "7857c959-ede6-472a-cd74-7a5a1e8b92ab",
        "colab": {
          "base_uri": "https://localhost:8080/"
        }
      },
      "execution_count": null,
      "outputs": [
        {
          "output_type": "execute_result",
          "data": {
            "text/plain": [
              "2"
            ]
          },
          "metadata": {},
          "execution_count": 3
        }
      ]
    },
    {
      "cell_type": "markdown",
      "source": [
        "Maximum Number of Words Found in Sentences"
      ],
      "metadata": {
        "id": "DZ3REPb83tFE"
      }
    },
    {
      "cell_type": "code",
      "source": [
        "sentences = [\"alice and bob love leetcode\", \"i think so too\", \"this is great thanks very much\"]\n",
        "\n",
        "def highest():\n",
        "    max_length = 0\n",
        "    for word in sentences:\n",
        "        length = len(word.split())\n",
        "        max_length = max(max_length, length)\n",
        "    return max_length\n",
        "\n",
        "result = highest()\n",
        "print(\"Length of the longest sentence:\", result)\n"
      ],
      "metadata": {
        "id": "0yIIkYj_03dQ",
        "outputId": "460d2a3e-fe39-499f-c3c0-0cb9a4cc383c",
        "colab": {
          "base_uri": "https://localhost:8080/"
        }
      },
      "execution_count": null,
      "outputs": [
        {
          "output_type": "stream",
          "name": "stdout",
          "text": [
            "5\n",
            "4\n",
            "6\n",
            "Length of the longest sentence: 6\n"
          ]
        }
      ]
    },
    {
      "cell_type": "code",
      "source": [
        "import string\n",
        "def contains_all_alphabets(test_string):\n",
        "    alphabet = set(string.ascii_lowercase)\n",
        "\n",
        "    return set(test_string.lower()) >= alphabet   #>= is use for set comparison\n",
        "\n",
        "test_string = input()\n",
        "print(contains_all_alphabets(test_string))"
      ],
      "metadata": {
        "id": "sN6FZe-FU3xL",
        "outputId": "74f412e0-0d95-4d78-81d7-0ba5032893a8",
        "colab": {
          "base_uri": "https://localhost:8080/"
        }
      },
      "execution_count": null,
      "outputs": [
        {
          "output_type": "stream",
          "name": "stdout",
          "text": [
            "The quick brown fox jumps over the lazy dog\n",
            "True\n"
          ]
        }
      ]
    },
    {
      "cell_type": "code",
      "source": [
        "import string\n",
        "\n",
        "input_string = input()\n",
        "all = set(string.ascii_lowercase)\n",
        "\n",
        "if set(input_string) >= all:\n",
        "    print(True)\n",
        "else:\n",
        "    print(False)\n"
      ],
      "metadata": {
        "id": "UmbV-nyWWwIZ",
        "outputId": "cfa11461-5797-4bf7-9448-87beb2e27718",
        "colab": {
          "base_uri": "https://localhost:8080/"
        }
      },
      "execution_count": null,
      "outputs": [
        {
          "name": "stdout",
          "output_type": "stream",
          "text": [
            "nkjgdd\n"
          ]
        }
      ]
    },
    {
      "cell_type": "code",
      "source": [
        "new=input()\n",
        "if isinstance(new,int):\n",
        "  print ('The string is  an integer')\n",
        "else:\n",
        "  print('The string is not an integer')"
      ],
      "metadata": {
        "id": "-_5Yx6kdYa_s",
        "outputId": "eef2e282-1a9d-4c2d-d282-e09b16ded0a9",
        "colab": {
          "base_uri": "https://localhost:8080/"
        }
      },
      "execution_count": null,
      "outputs": [
        {
          "output_type": "stream",
          "name": "stdout",
          "text": [
            "1234\n",
            "The string is not an integer\n"
          ]
        }
      ]
    },
    {
      "cell_type": "code",
      "source": [
        "word= input()\n",
        "letter=0\n",
        "digit=0\n",
        "symbol=0\n",
        "for i in word:\n",
        "  if i.isalpha():\n",
        "    letter +=1\n",
        "  elif i.isnumeric():\n",
        "    digit+=1\n",
        "  else:\n",
        "    symbol+=1\n",
        "print(f'Letters {letter} Digits {digit}')"
      ],
      "metadata": {
        "id": "M70KxkqWb88p",
        "outputId": "598027ab-238b-48c6-bcca-6a9ed79d7ddb",
        "colab": {
          "base_uri": "https://localhost:8080/"
        }
      },
      "execution_count": null,
      "outputs": [
        {
          "output_type": "stream",
          "name": "stdout",
          "text": [
            "program@2022\n",
            "Letters 7 Digits 4\n"
          ]
        }
      ]
    },
    {
      "cell_type": "code",
      "source": [
        "def count_positive_sales(sales):\n",
        "    positive_sales_count = 0\n",
        "    for sale in sales:\n",
        "        if sale > 0:\n",
        "            positive_sales_count += 1\n",
        "\n",
        "    return positive_sales_count\n",
        "\n",
        "# Input data\n",
        "days = int(input(\"Enter the number of days: \"))\n",
        "sales = []\n",
        "\n",
        "for i in range(days):\n",
        "    sale = int(input( ) )\n",
        "    sales.append(sale)\n",
        "\n",
        "# Output\n",
        "print(\"Number of positive sales:\", count_positive_sales(sales))"
      ],
      "metadata": {
        "id": "OI6PkZWpoU0-",
        "outputId": "4e766ce7-456e-44ff-e504-6155a26de794",
        "colab": {
          "base_uri": "https://localhost:8080/"
        }
      },
      "execution_count": null,
      "outputs": [
        {
          "output_type": "stream",
          "name": "stdout",
          "text": [
            "Enter the number of days: 2\n",
            "-2\n",
            "-3\n",
            "Number of positive sales: 0\n"
          ]
        }
      ]
    },
    {
      "cell_type": "code",
      "source": [
        "sales = list(map(int, input(\"Enter sales for each day separated by spaces: \").split()))\n"
      ],
      "metadata": {
        "id": "63Q6eGrgqZ5y",
        "outputId": "8767daae-fdd6-442f-e2c5-c4f0a2a81a1f",
        "colab": {
          "base_uri": "https://localhost:8080/"
        }
      },
      "execution_count": null,
      "outputs": [
        {
          "name": "stdout",
          "output_type": "stream",
          "text": [
            "Enter sales for each day separated by spaces: -12 43 -65 78 54 -12\n"
          ]
        }
      ]
    },
    {
      "cell_type": "code",
      "source": [
        "print(sales)"
      ],
      "metadata": {
        "id": "ElJYSNtTqetn",
        "outputId": "b45b0597-4c84-4150-e737-a8ffd6f98839",
        "colab": {
          "base_uri": "https://localhost:8080/"
        }
      },
      "execution_count": null,
      "outputs": [
        {
          "output_type": "stream",
          "name": "stdout",
          "text": [
            "[-12, 43, -65, 78, 54, -12]\n"
          ]
        }
      ]
    },
    {
      "cell_type": "code",
      "source": [
        "numbers = [2, 3, 4, 5, 6, 7, 8, 9, 10]\n",
        "from sympy import isprime\n",
        "def prime_num(numbers):\n",
        "  pr=[]\n",
        "  for num in numbers:\n",
        "    if isprime(num)==True:\n",
        "      pr.append(num)\n",
        "  return pr\n",
        "print(prime_num(numbers))"
      ],
      "metadata": {
        "id": "NL_V2XTE9FKb",
        "outputId": "86ae18a9-ab32-4aaf-f65b-d0073e78f6ff",
        "colab": {
          "base_uri": "https://localhost:8080/"
        }
      },
      "execution_count": 11,
      "outputs": [
        {
          "output_type": "stream",
          "name": "stdout",
          "text": [
            "[2, 3, 5, 7]\n"
          ]
        }
      ]
    },
    {
      "cell_type": "code",
      "source": [
        "sentence = \"Hello world, how are you?\"\n",
        "# o/p=you? are how world, Hello\n",
        "def new(string):\n",
        "  string=string.split():\n",
        "    new.append(word[::-1])\n",
        "  return new\n",
        "print(new(sentence))\n",
        "\n"
      ],
      "metadata": {
        "id": "gYjPhx6u_TVu",
        "outputId": "09b890a6-8a31-4989-b90b-5fcbcbc04130",
        "colab": {
          "base_uri": "https://localhost:8080/"
        }
      },
      "execution_count": 14,
      "outputs": [
        {
          "output_type": "stream",
          "name": "stdout",
          "text": [
            "['olleH', ',dlrow', 'woh', 'era', '?uoy']\n"
          ]
        }
      ]
    },
    {
      "cell_type": "markdown",
      "source": [
        "# **Pandas**"
      ],
      "metadata": {
        "id": "tivbFNmN6lGG"
      }
    },
    {
      "cell_type": "code",
      "source": [
        "import pandas as pd\n",
        "\n",
        "# Sample data\n",
        "data = {\n",
        "    'Student_ID': [1, 2, 3, 4, 5],\n",
        "    'Name': ['Alice', 'Bob', 'Charlie', 'Diana', 'Eric'],\n",
        "    'Age': [20, 22, 21, 20, 23],\n",
        "    'Gender': ['F', 'M', 'M', 'F', 'M'],\n",
        "    'Score': [85, 76, 90, 82, 78]\n",
        "}\n",
        "\n",
        "# Create DataFrame\n",
        "student_data = pd.DataFrame(data)\n",
        "\n",
        "print(student_data)\n"
      ],
      "metadata": {
        "id": "S4chZmZGry3i",
        "outputId": "6a1fe996-814a-4165-f3fa-218823a920d7",
        "colab": {
          "base_uri": "https://localhost:8080/"
        }
      },
      "execution_count": null,
      "outputs": [
        {
          "output_type": "stream",
          "name": "stdout",
          "text": [
            "   Student_ID     Name  Age Gender  Score\n",
            "0           1    Alice   20      F     85\n",
            "1           2      Bob   22      M     76\n",
            "2           3  Charlie   21      M     90\n",
            "3           4    Diana   20      F     82\n",
            "4           5     Eric   23      M     78\n"
          ]
        }
      ]
    },
    {
      "cell_type": "code",
      "source": [
        "# The number of male and female students.\n",
        "# The average score of male and female students\n",
        "\n",
        "student_data['Gender'].value_counts()\n",
        "student_data.groupby('Gender')['Score'].mean()\n"
      ],
      "metadata": {
        "id": "XTLVvbKExRbm",
        "outputId": "62152c8a-f757-4093-e413-5bd65c610900",
        "colab": {
          "base_uri": "https://localhost:8080/"
        }
      },
      "execution_count": null,
      "outputs": [
        {
          "output_type": "execute_result",
          "data": {
            "text/plain": [
              "Gender\n",
              "F    83.500000\n",
              "M    81.333333\n",
              "Name: Score, dtype: float64"
            ]
          },
          "metadata": {},
          "execution_count": 11
        }
      ]
    },
    {
      "cell_type": "code",
      "source": [
        "import pandas as pd\n",
        "\n",
        "# Sample data\n",
        "data = {\n",
        "    'Employee_ID': [1, 2, 3, 4, 5],\n",
        "    'Name': ['Alice', 'Bob', 'Charlie', 'Diana', 'Eric'],\n",
        "    'Department': ['HR', 'IT', 'HR', 'IT', 'Finance'],\n",
        "    'Salary': [50000, 60000, 55000, 62000, 70000]\n",
        "}\n",
        "\n",
        "# Create DataFrame\n",
        "employee_data = pd.DataFrame(data)\n",
        "\n",
        "print(employee_data)\n"
      ],
      "metadata": {
        "id": "YHm5HSdSyvj1",
        "outputId": "9bcd167e-d15c-48f3-a440-259393150984",
        "colab": {
          "base_uri": "https://localhost:8080/"
        }
      },
      "execution_count": null,
      "outputs": [
        {
          "output_type": "stream",
          "name": "stdout",
          "text": [
            "   Employee_ID     Name Department  Salary\n",
            "0            1    Alice         HR   50000\n",
            "1            2      Bob         IT   60000\n",
            "2            3  Charlie         HR   55000\n",
            "3            4    Diana         IT   62000\n",
            "4            5     Eric    Finance   70000\n"
          ]
        }
      ]
    },
    {
      "cell_type": "code",
      "source": [
        "# The total salary expenditure for each department.\n"
      ],
      "metadata": {
        "id": "OUXw2y2Yy42X",
        "outputId": "340cd3df-744d-40b3-d17b-99d0578c03d3",
        "colab": {
          "base_uri": "https://localhost:8080/"
        }
      },
      "execution_count": null,
      "outputs": [
        {
          "output_type": "execute_result",
          "data": {
            "text/plain": [
              "Department\n",
              "Finance     70000\n",
              "HR         105000\n",
              "IT         122000\n",
              "Name: Salary, dtype: int64"
            ]
          },
          "metadata": {},
          "execution_count": 13
        }
      ]
    },
    {
      "cell_type": "code",
      "source": [
        "# The department with the highest average salary.\n",
        "employee_data.groupby('Department')['Salary'].mean().idxmax()"
      ],
      "metadata": {
        "id": "pZpJEML-zI_K",
        "outputId": "4d01bb35-737b-4a03-c13d-3c76e62b4ec6",
        "colab": {
          "base_uri": "https://localhost:8080/",
          "height": 36
        }
      },
      "execution_count": null,
      "outputs": [
        {
          "output_type": "execute_result",
          "data": {
            "text/plain": [
              "'Finance'"
            ],
            "application/vnd.google.colaboratory.intrinsic+json": {
              "type": "string"
            }
          },
          "metadata": {},
          "execution_count": 23
        }
      ]
    },
    {
      "cell_type": "code",
      "source": [
        "import pandas as pd\n",
        "\n",
        "# Sample data\n",
        "data = {\n",
        "    'Product_ID': [1, 2, 3, 4, 5],\n",
        "    'Category': ['A', 'B', 'A', 'C', 'B'],\n",
        "    'Price': [10, 20, 15, 25, 18],\n",
        "    'Units_Sold': [100, 150, 120, 80, 200]\n",
        "}\n",
        "\n",
        "# Create DataFrame\n",
        "product_data = pd.DataFrame(data)\n",
        "\n",
        "print(product_data)\n"
      ],
      "metadata": {
        "id": "qsncF5NR1quL",
        "outputId": "c45dcfa3-d967-4247-ffaa-5675ef73c0bc",
        "colab": {
          "base_uri": "https://localhost:8080/"
        }
      },
      "execution_count": null,
      "outputs": [
        {
          "output_type": "stream",
          "name": "stdout",
          "text": [
            "   Product_ID Category  Price  Units_Sold\n",
            "0           1        A     10         100\n",
            "1           2        B     20         150\n",
            "2           3        A     15         120\n",
            "3           4        C     25          80\n",
            "4           5        B     18         200\n"
          ]
        }
      ]
    },
    {
      "cell_type": "code",
      "source": [
        "# The total revenue generated by each category (Revenue = Price * Units_Sold).\n",
        "product_data['Revenue'] = product_data['Price']*product_data['Units_Sold']\n",
        "product_data.groupby('Category')['Revenue'].sum()"
      ],
      "metadata": {
        "id": "oKGWKb_Z1xAy",
        "outputId": "d7d2eff0-bc43-462b-9587-ee510498022a",
        "colab": {
          "base_uri": "https://localhost:8080/"
        }
      },
      "execution_count": null,
      "outputs": [
        {
          "output_type": "execute_result",
          "data": {
            "text/plain": [
              "Category\n",
              "A    2800\n",
              "B    6600\n",
              "C    2000\n",
              "Name: Revenue, dtype: int64"
            ]
          },
          "metadata": {},
          "execution_count": 20
        }
      ]
    },
    {
      "cell_type": "code",
      "source": [
        "# The category with the highest total revenue.\n",
        "product_data.groupby('Category')['Revenue'].max().idxmax()"
      ],
      "metadata": {
        "id": "3PKmM5gt3u3L",
        "outputId": "dc64100c-96e1-417f-c7ec-e847de5929da",
        "colab": {
          "base_uri": "https://localhost:8080/",
          "height": 36
        }
      },
      "execution_count": null,
      "outputs": [
        {
          "output_type": "execute_result",
          "data": {
            "text/plain": [
              "'B'"
            ],
            "application/vnd.google.colaboratory.intrinsic+json": {
              "type": "string"
            }
          },
          "metadata": {},
          "execution_count": 21
        }
      ]
    },
    {
      "cell_type": "code",
      "source": [
        "# find number of unique products\n",
        "product_data['Category'].nunique()"
      ],
      "metadata": {
        "id": "r53AHW3ngOUg",
        "outputId": "3309fb4b-7f2f-4b09-b568-2b9e33243e82",
        "colab": {
          "base_uri": "https://localhost:8080/"
        }
      },
      "execution_count": null,
      "outputs": [
        {
          "output_type": "execute_result",
          "data": {
            "text/plain": [
              "3"
            ]
          },
          "metadata": {},
          "execution_count": 22
        }
      ]
    },
    {
      "cell_type": "code",
      "source": [
        "import pandas as pd\n",
        "\n",
        "# Sample sales data\n",
        "data = {\n",
        "    'Date': ['2024-01-01', '2024-01-02', '2024-01-03', '2024-01-04', '2024-01-05'],\n",
        "    'Product': ['A', 'B', 'A', 'C', 'B'],\n",
        "    'Revenue': [100, 150, 120, 80, 200]\n",
        "}\n",
        "\n",
        "# Convert 'Date' column to datetime\n",
        "data['Date'] = pd.to_datetime(data['Date'])\n",
        "\n",
        "# Create DataFrame\n",
        "sales_data = pd.DataFrame(data)\n",
        "\n",
        "print(sales_data)\n"
      ],
      "metadata": {
        "id": "jwldt0vspzDi",
        "outputId": "1d7751c0-e137-47a6-cfd0-b27f5c68cd67",
        "colab": {
          "base_uri": "https://localhost:8080/"
        }
      },
      "execution_count": null,
      "outputs": [
        {
          "output_type": "stream",
          "name": "stdout",
          "text": [
            "        Date Product  Revenue\n",
            "0 2024-01-01       A      100\n",
            "1 2024-01-02       B      150\n",
            "2 2024-01-03       A      120\n",
            "3 2024-01-04       C       80\n",
            "4 2024-01-05       B      200\n"
          ]
        }
      ]
    },
    {
      "cell_type": "code",
      "source": [
        "# total revenue generated for each product in the month of January 2024.\n",
        "jan_2014= sales_data[(sales_data['Date'].dt.year==2024) & (sales_data['Date'].dt.month==1)]\n",
        "revenue_by_product=jan_2014.groupby('Product')['Revenue'].sum()\n",
        "revenue_by_product"
      ],
      "metadata": {
        "id": "TMl3nIpqqhQR",
        "outputId": "7f775c66-4d76-4bd5-a8d4-b67bbbd69901",
        "colab": {
          "base_uri": "https://localhost:8080/"
        }
      },
      "execution_count": null,
      "outputs": [
        {
          "output_type": "execute_result",
          "data": {
            "text/plain": [
              "Product\n",
              "A    220\n",
              "B    350\n",
              "C     80\n",
              "Name: Revenue, dtype: int64"
            ]
          },
          "metadata": {},
          "execution_count": 5
        }
      ]
    },
    {
      "cell_type": "code",
      "source": [
        "import pandas as pd\n",
        "\n",
        "data = {\n",
        "    'Name': ['John', 'Emily', 'Michael', 'Sophia', 'William'],\n",
        "    'Age': [18, 17, 16, 18, 17],\n",
        "    'Mathematics': [85, 95, 92, 88, 90],\n",
        "    'Science': [90, 82, 85, 80, 88],\n",
        "    'History': [75, 88, 90, 85, 92]\n",
        "}\n",
        "\n",
        "students_df = pd.DataFrame(data)\n",
        "\n",
        "print(students_df)\n"
      ],
      "metadata": {
        "id": "nKxMuC3Urve-",
        "outputId": "93a4c076-3cee-438c-a780-7915e8a4cd61",
        "colab": {
          "base_uri": "https://localhost:8080/"
        }
      },
      "execution_count": null,
      "outputs": [
        {
          "output_type": "stream",
          "name": "stdout",
          "text": [
            "      Name  Age  Mathematics  Science  History\n",
            "0     John   18           85       90       75\n",
            "1    Emily   17           95       82       88\n",
            "2  Michael   16           92       85       90\n",
            "3   Sophia   18           88       80       85\n",
            "4  William   17           90       88       92\n"
          ]
        }
      ]
    },
    {
      "cell_type": "code",
      "source": [
        "\n",
        "# What is the average age of the students?\n",
        "# Which student has the highest grade in the subject \"Mathematics\"?\n",
        "# How many students scored above 80 in all subjects?"
      ],
      "metadata": {
        "id": "0f310vhVbXo8"
      },
      "execution_count": null,
      "outputs": []
    },
    {
      "cell_type": "code",
      "source": [
        "# How many students are there in the dataset?\n",
        "total = students_df['Name'].count()\n",
        "# What is the average age of the students?\n",
        "avg_m = students_df['Mathematics'].mean()\n",
        "# How many students scored above 80 in all subjects?\n",
        "count_above_80 = ((students_df['Mathematics'] > 80) & (students_df['Science'] > 80) & (students_df['History'] > 80)).sum()\n"
      ],
      "metadata": {
        "id": "QrJdOHH2bfQ9"
      },
      "execution_count": null,
      "outputs": []
    },
    {
      "cell_type": "code",
      "source": [
        "# calculate the average score for each student across all subjects\n",
        "total=students_df['Total']=(students_df['History']+students_df['Mathematics']+students_df['Science'])\n",
        "total"
      ],
      "metadata": {
        "id": "dnwAoG6amARd",
        "outputId": "93b76bf2-f2ef-4fa7-84ab-52d7754ae963",
        "colab": {
          "base_uri": "https://localhost:8080/"
        }
      },
      "execution_count": null,
      "outputs": [
        {
          "output_type": "execute_result",
          "data": {
            "text/plain": [
              "0    250\n",
              "1    265\n",
              "2    267\n",
              "3    253\n",
              "4    270\n",
              "dtype: int64"
            ]
          },
          "metadata": {},
          "execution_count": 28
        }
      ]
    },
    {
      "cell_type": "code",
      "source": [
        "students_df.groupby('Name')['Total'].mean().reset_index()"
      ],
      "metadata": {
        "id": "leZkOkfBtc6K",
        "outputId": "075e60f0-713f-47d0-aa1d-fe357c3da6a6",
        "colab": {
          "base_uri": "https://localhost:8080/",
          "height": 206
        }
      },
      "execution_count": null,
      "outputs": [
        {
          "output_type": "execute_result",
          "data": {
            "text/plain": [
              "      Name  Total\n",
              "0    Emily  265.0\n",
              "1     John  250.0\n",
              "2  Michael  267.0\n",
              "3   Sophia  253.0\n",
              "4  William  270.0"
            ],
            "text/html": [
              "\n",
              "  <div id=\"df-fe597324-32f0-4ca9-9f64-ebd2bf980b74\" class=\"colab-df-container\">\n",
              "    <div>\n",
              "<style scoped>\n",
              "    .dataframe tbody tr th:only-of-type {\n",
              "        vertical-align: middle;\n",
              "    }\n",
              "\n",
              "    .dataframe tbody tr th {\n",
              "        vertical-align: top;\n",
              "    }\n",
              "\n",
              "    .dataframe thead th {\n",
              "        text-align: right;\n",
              "    }\n",
              "</style>\n",
              "<table border=\"1\" class=\"dataframe\">\n",
              "  <thead>\n",
              "    <tr style=\"text-align: right;\">\n",
              "      <th></th>\n",
              "      <th>Name</th>\n",
              "      <th>Total</th>\n",
              "    </tr>\n",
              "  </thead>\n",
              "  <tbody>\n",
              "    <tr>\n",
              "      <th>0</th>\n",
              "      <td>Emily</td>\n",
              "      <td>265.0</td>\n",
              "    </tr>\n",
              "    <tr>\n",
              "      <th>1</th>\n",
              "      <td>John</td>\n",
              "      <td>250.0</td>\n",
              "    </tr>\n",
              "    <tr>\n",
              "      <th>2</th>\n",
              "      <td>Michael</td>\n",
              "      <td>267.0</td>\n",
              "    </tr>\n",
              "    <tr>\n",
              "      <th>3</th>\n",
              "      <td>Sophia</td>\n",
              "      <td>253.0</td>\n",
              "    </tr>\n",
              "    <tr>\n",
              "      <th>4</th>\n",
              "      <td>William</td>\n",
              "      <td>270.0</td>\n",
              "    </tr>\n",
              "  </tbody>\n",
              "</table>\n",
              "</div>\n",
              "    <div class=\"colab-df-buttons\">\n",
              "\n",
              "  <div class=\"colab-df-container\">\n",
              "    <button class=\"colab-df-convert\" onclick=\"convertToInteractive('df-fe597324-32f0-4ca9-9f64-ebd2bf980b74')\"\n",
              "            title=\"Convert this dataframe to an interactive table.\"\n",
              "            style=\"display:none;\">\n",
              "\n",
              "  <svg xmlns=\"http://www.w3.org/2000/svg\" height=\"24px\" viewBox=\"0 -960 960 960\">\n",
              "    <path d=\"M120-120v-720h720v720H120Zm60-500h600v-160H180v160Zm220 220h160v-160H400v160Zm0 220h160v-160H400v160ZM180-400h160v-160H180v160Zm440 0h160v-160H620v160ZM180-180h160v-160H180v160Zm440 0h160v-160H620v160Z\"/>\n",
              "  </svg>\n",
              "    </button>\n",
              "\n",
              "  <style>\n",
              "    .colab-df-container {\n",
              "      display:flex;\n",
              "      gap: 12px;\n",
              "    }\n",
              "\n",
              "    .colab-df-convert {\n",
              "      background-color: #E8F0FE;\n",
              "      border: none;\n",
              "      border-radius: 50%;\n",
              "      cursor: pointer;\n",
              "      display: none;\n",
              "      fill: #1967D2;\n",
              "      height: 32px;\n",
              "      padding: 0 0 0 0;\n",
              "      width: 32px;\n",
              "    }\n",
              "\n",
              "    .colab-df-convert:hover {\n",
              "      background-color: #E2EBFA;\n",
              "      box-shadow: 0px 1px 2px rgba(60, 64, 67, 0.3), 0px 1px 3px 1px rgba(60, 64, 67, 0.15);\n",
              "      fill: #174EA6;\n",
              "    }\n",
              "\n",
              "    .colab-df-buttons div {\n",
              "      margin-bottom: 4px;\n",
              "    }\n",
              "\n",
              "    [theme=dark] .colab-df-convert {\n",
              "      background-color: #3B4455;\n",
              "      fill: #D2E3FC;\n",
              "    }\n",
              "\n",
              "    [theme=dark] .colab-df-convert:hover {\n",
              "      background-color: #434B5C;\n",
              "      box-shadow: 0px 1px 3px 1px rgba(0, 0, 0, 0.15);\n",
              "      filter: drop-shadow(0px 1px 2px rgba(0, 0, 0, 0.3));\n",
              "      fill: #FFFFFF;\n",
              "    }\n",
              "  </style>\n",
              "\n",
              "    <script>\n",
              "      const buttonEl =\n",
              "        document.querySelector('#df-fe597324-32f0-4ca9-9f64-ebd2bf980b74 button.colab-df-convert');\n",
              "      buttonEl.style.display =\n",
              "        google.colab.kernel.accessAllowed ? 'block' : 'none';\n",
              "\n",
              "      async function convertToInteractive(key) {\n",
              "        const element = document.querySelector('#df-fe597324-32f0-4ca9-9f64-ebd2bf980b74');\n",
              "        const dataTable =\n",
              "          await google.colab.kernel.invokeFunction('convertToInteractive',\n",
              "                                                    [key], {});\n",
              "        if (!dataTable) return;\n",
              "\n",
              "        const docLinkHtml = 'Like what you see? Visit the ' +\n",
              "          '<a target=\"_blank\" href=https://colab.research.google.com/notebooks/data_table.ipynb>data table notebook</a>'\n",
              "          + ' to learn more about interactive tables.';\n",
              "        element.innerHTML = '';\n",
              "        dataTable['output_type'] = 'display_data';\n",
              "        await google.colab.output.renderOutput(dataTable, element);\n",
              "        const docLink = document.createElement('div');\n",
              "        docLink.innerHTML = docLinkHtml;\n",
              "        element.appendChild(docLink);\n",
              "      }\n",
              "    </script>\n",
              "  </div>\n",
              "\n",
              "\n",
              "<div id=\"df-bea36d95-b0ab-4022-b897-b2a1d00c90c1\">\n",
              "  <button class=\"colab-df-quickchart\" onclick=\"quickchart('df-bea36d95-b0ab-4022-b897-b2a1d00c90c1')\"\n",
              "            title=\"Suggest charts\"\n",
              "            style=\"display:none;\">\n",
              "\n",
              "<svg xmlns=\"http://www.w3.org/2000/svg\" height=\"24px\"viewBox=\"0 0 24 24\"\n",
              "     width=\"24px\">\n",
              "    <g>\n",
              "        <path d=\"M19 3H5c-1.1 0-2 .9-2 2v14c0 1.1.9 2 2 2h14c1.1 0 2-.9 2-2V5c0-1.1-.9-2-2-2zM9 17H7v-7h2v7zm4 0h-2V7h2v10zm4 0h-2v-4h2v4z\"/>\n",
              "    </g>\n",
              "</svg>\n",
              "  </button>\n",
              "\n",
              "<style>\n",
              "  .colab-df-quickchart {\n",
              "      --bg-color: #E8F0FE;\n",
              "      --fill-color: #1967D2;\n",
              "      --hover-bg-color: #E2EBFA;\n",
              "      --hover-fill-color: #174EA6;\n",
              "      --disabled-fill-color: #AAA;\n",
              "      --disabled-bg-color: #DDD;\n",
              "  }\n",
              "\n",
              "  [theme=dark] .colab-df-quickchart {\n",
              "      --bg-color: #3B4455;\n",
              "      --fill-color: #D2E3FC;\n",
              "      --hover-bg-color: #434B5C;\n",
              "      --hover-fill-color: #FFFFFF;\n",
              "      --disabled-bg-color: #3B4455;\n",
              "      --disabled-fill-color: #666;\n",
              "  }\n",
              "\n",
              "  .colab-df-quickchart {\n",
              "    background-color: var(--bg-color);\n",
              "    border: none;\n",
              "    border-radius: 50%;\n",
              "    cursor: pointer;\n",
              "    display: none;\n",
              "    fill: var(--fill-color);\n",
              "    height: 32px;\n",
              "    padding: 0;\n",
              "    width: 32px;\n",
              "  }\n",
              "\n",
              "  .colab-df-quickchart:hover {\n",
              "    background-color: var(--hover-bg-color);\n",
              "    box-shadow: 0 1px 2px rgba(60, 64, 67, 0.3), 0 1px 3px 1px rgba(60, 64, 67, 0.15);\n",
              "    fill: var(--button-hover-fill-color);\n",
              "  }\n",
              "\n",
              "  .colab-df-quickchart-complete:disabled,\n",
              "  .colab-df-quickchart-complete:disabled:hover {\n",
              "    background-color: var(--disabled-bg-color);\n",
              "    fill: var(--disabled-fill-color);\n",
              "    box-shadow: none;\n",
              "  }\n",
              "\n",
              "  .colab-df-spinner {\n",
              "    border: 2px solid var(--fill-color);\n",
              "    border-color: transparent;\n",
              "    border-bottom-color: var(--fill-color);\n",
              "    animation:\n",
              "      spin 1s steps(1) infinite;\n",
              "  }\n",
              "\n",
              "  @keyframes spin {\n",
              "    0% {\n",
              "      border-color: transparent;\n",
              "      border-bottom-color: var(--fill-color);\n",
              "      border-left-color: var(--fill-color);\n",
              "    }\n",
              "    20% {\n",
              "      border-color: transparent;\n",
              "      border-left-color: var(--fill-color);\n",
              "      border-top-color: var(--fill-color);\n",
              "    }\n",
              "    30% {\n",
              "      border-color: transparent;\n",
              "      border-left-color: var(--fill-color);\n",
              "      border-top-color: var(--fill-color);\n",
              "      border-right-color: var(--fill-color);\n",
              "    }\n",
              "    40% {\n",
              "      border-color: transparent;\n",
              "      border-right-color: var(--fill-color);\n",
              "      border-top-color: var(--fill-color);\n",
              "    }\n",
              "    60% {\n",
              "      border-color: transparent;\n",
              "      border-right-color: var(--fill-color);\n",
              "    }\n",
              "    80% {\n",
              "      border-color: transparent;\n",
              "      border-right-color: var(--fill-color);\n",
              "      border-bottom-color: var(--fill-color);\n",
              "    }\n",
              "    90% {\n",
              "      border-color: transparent;\n",
              "      border-bottom-color: var(--fill-color);\n",
              "    }\n",
              "  }\n",
              "</style>\n",
              "\n",
              "  <script>\n",
              "    async function quickchart(key) {\n",
              "      const quickchartButtonEl =\n",
              "        document.querySelector('#' + key + ' button');\n",
              "      quickchartButtonEl.disabled = true;  // To prevent multiple clicks.\n",
              "      quickchartButtonEl.classList.add('colab-df-spinner');\n",
              "      try {\n",
              "        const charts = await google.colab.kernel.invokeFunction(\n",
              "            'suggestCharts', [key], {});\n",
              "      } catch (error) {\n",
              "        console.error('Error during call to suggestCharts:', error);\n",
              "      }\n",
              "      quickchartButtonEl.classList.remove('colab-df-spinner');\n",
              "      quickchartButtonEl.classList.add('colab-df-quickchart-complete');\n",
              "    }\n",
              "    (() => {\n",
              "      let quickchartButtonEl =\n",
              "        document.querySelector('#df-bea36d95-b0ab-4022-b897-b2a1d00c90c1 button');\n",
              "      quickchartButtonEl.style.display =\n",
              "        google.colab.kernel.accessAllowed ? 'block' : 'none';\n",
              "    })();\n",
              "  </script>\n",
              "</div>\n",
              "\n",
              "    </div>\n",
              "  </div>\n"
            ],
            "application/vnd.google.colaboratory.intrinsic+json": {
              "type": "dataframe",
              "summary": "{\n  \"name\": \"students_df\",\n  \"rows\": 5,\n  \"fields\": [\n    {\n      \"column\": \"Name\",\n      \"properties\": {\n        \"dtype\": \"string\",\n        \"num_unique_values\": 5,\n        \"samples\": [\n          \"John\",\n          \"William\",\n          \"Michael\"\n        ],\n        \"semantic_type\": \"\",\n        \"description\": \"\"\n      }\n    },\n    {\n      \"column\": \"Total\",\n      \"properties\": {\n        \"dtype\": \"number\",\n        \"std\": 8.916277250063503,\n        \"min\": 250.0,\n        \"max\": 270.0,\n        \"num_unique_values\": 5,\n        \"samples\": [\n          250.0,\n          270.0,\n          267.0\n        ],\n        \"semantic_type\": \"\",\n        \"description\": \"\"\n      }\n    }\n  ]\n}"
            }
          },
          "metadata": {},
          "execution_count": 26
        }
      ]
    },
    {
      "cell_type": "code",
      "source": [
        "# write a function to find the index of the maximum element in the array.\n",
        "import numpy as np\n",
        "\n",
        "# Sample data\n",
        "arr = np.array([4, 7, 2, 9, 5])\n",
        "max_val=arr[0]\n",
        "max_ind = 0\n",
        "for i in range (len(arr)):\n",
        "  if arr[i]>max_val:\n",
        "    max_val = arr[i]\n",
        "    max_ind = i\n",
        "print(max_ind+1)"
      ],
      "metadata": {
        "id": "0IJ9Qvwo322i",
        "outputId": "649a5afb-6d73-4353-bd5e-95ef16dddd78",
        "colab": {
          "base_uri": "https://localhost:8080/"
        }
      },
      "execution_count": null,
      "outputs": [
        {
          "output_type": "stream",
          "name": "stdout",
          "text": [
            "4\n"
          ]
        }
      ]
    },
    {
      "cell_type": "code",
      "source": [
        "arr = np.array([[1, 2],\n",
        "                [3, 4]])\n",
        "\n",
        "# Calculate eigenvalues and eigenvectors\n",
        "eigenvalues, eigenvectors = np.linalg.eig(arr)\n",
        "\n",
        "print(\"Eigenvalues:\")\n",
        "print(eigenvalues)\n",
        "print(\"\\nEigenvectors:\")\n",
        "print(eigenvectors)\n"
      ],
      "metadata": {
        "id": "CFK2RTdMGDiS",
        "outputId": "f5273ada-7b7f-4c56-9488-066c7656af33",
        "colab": {
          "base_uri": "https://localhost:8080/"
        }
      },
      "execution_count": null,
      "outputs": [
        {
          "output_type": "stream",
          "name": "stdout",
          "text": [
            "Eigenvalues:\n",
            "[-0.37228132  5.37228132]\n",
            "\n",
            "Eigenvectors:\n",
            "[[-0.82456484 -0.41597356]\n",
            " [ 0.56576746 -0.90937671]]\n"
          ]
        }
      ]
    },
    {
      "cell_type": "code",
      "source": [
        "# Write a function to calculate the total revenue for each month and visualize it using a line plot.\n",
        "data = {\n",
        "    'Date': ['2024-01-01', '2024-01-05', '2024-02-10', '2024-02-15', '2024-03-20'],\n",
        "    'Amount': [100, 150, 200, 120, 180]\n",
        "}\n",
        "\n",
        "df = pd.DataFrame(data)\n"
      ],
      "metadata": {
        "id": "YojoUroIH_HX"
      },
      "execution_count": null,
      "outputs": []
    },
    {
      "cell_type": "code",
      "source": [
        "# Convert 'Date' column to datetime type\n",
        "df['Date'] = pd.to_datetime(df['Date'])\n",
        "\n",
        "# Extract month from 'Date' column\n",
        "df['Month'] = df['Date'].dt.month\n",
        "\n",
        "# Calculate total revenue for each month\n",
        "monthly_revenue = df.groupby('Month')['Amount'].sum()\n",
        "monthly_revenue"
      ],
      "metadata": {
        "id": "ayYrE4gPIMCK",
        "outputId": "365639e5-f808-4de2-f47b-0dca300bc07e",
        "colab": {
          "base_uri": "https://localhost:8080/"
        }
      },
      "execution_count": null,
      "outputs": [
        {
          "output_type": "execute_result",
          "data": {
            "text/plain": [
              "Month\n",
              "1    250\n",
              "2    320\n",
              "3    180\n",
              "Name: Amount, dtype: int64"
            ]
          },
          "metadata": {},
          "execution_count": 44
        }
      ]
    },
    {
      "cell_type": "code",
      "source": [
        "# Plotting\n",
        "import matplotlib.pyplot as plt\n",
        "# plt.figure(figsize=(10, 6))\n",
        "monthly_revenue.plot(kind='line', marker='o', color='b')\n",
        "plt.title('Total Revenue per Month')\n",
        "plt.xlabel('Month')\n",
        "plt.ylabel('Total Revenue')\n",
        "plt.xticks(monthly_revenue.index, labels=['Jan', 'Feb', 'Mar'])\n",
        "plt.grid(True)\n",
        "plt.show()"
      ],
      "metadata": {
        "id": "yYKFWF1KIZic",
        "outputId": "3ff6ef92-ecf6-4432-af3b-f6367cef79b7",
        "colab": {
          "base_uri": "https://localhost:8080/",
          "height": 472
        }
      },
      "execution_count": null,
      "outputs": [
        {
          "output_type": "display_data",
          "data": {
            "text/plain": [
              "<Figure size 640x480 with 1 Axes>"
            ],
            "image/png": "[encoded data removed]"
          },
          "metadata": {}
        }
      ]
    },
    {
      "cell_type": "code",
      "source": [
        "arr = [[1, 2, 3],\n",
        "       [4, 5, 6],\n",
        "       [7, 8, 9]]\n",
        "\n",
        "# Initialize an empty list to store diagonal elements\n",
        "diagonal_elements = []\n",
        "\n",
        "# Iterate over the rows and columns of the array\n",
        "for i in range(len(arr)):      #[1, 2, 3] ----> [4, 5, 6] ----> [7, 8, 9]\n",
        "    for j in range(len(arr[i])):\n",
        "        # Select elements where the row index equals the column index\n",
        "        if i == j:\n",
        "            diagonal_elements.append(arr[i][j])\n",
        "\n",
        "# Print the diagonal elements\n",
        "print(\"Diagonal elements:\", diagonal_elements)\n"
      ],
      "metadata": {
        "colab": {
          "base_uri": "https://localhost:8080/"
        },
        "id": "i2-41Z318zte",
        "outputId": "f043c1ed-f9d6-4e81-ea93-45c19a4b59c4"
      },
      "execution_count": null,
      "outputs": [
        {
          "output_type": "stream",
          "name": "stdout",
          "text": [
            "Diagonal elements: [1, 5, 9]\n"
          ]
        }
      ]
    },
    {
      "cell_type": "code",
      "source": [
        "import numpy as np\n",
        "\n",
        "# Sample data\n",
        "arr = np.array([[1, 2, 3],\n",
        "                [4, 5, 6],\n",
        "                [7, 8, 9]])\n",
        "\n",
        "# Flatten the array and find the index of the maximum element\n",
        "max_index = np.argmax(arr)\n",
        "\n",
        "# Convert the flattened index to 2D indices\n",
        "max_index_2d = np.unravel_index(max_index, arr.shape)\n",
        "\n",
        "print(\"Index of the maximum element:\", max_index_2d)\n"
      ],
      "metadata": {
        "colab": {
          "base_uri": "https://localhost:8080/"
        },
        "id": "yBAx-qku88Rf",
        "outputId": "d085b02d-7822-48fc-fc59-77fbf71d0850"
      },
      "execution_count": null,
      "outputs": [
        {
          "output_type": "stream",
          "name": "stdout",
          "text": [
            "Index of the maximum element: (2, 2)\n"
          ]
        }
      ]
    },
    {
      "cell_type": "code",
      "source": [
        "import pandas as pd\n",
        "\n",
        "# Creating a pandas DataFrame\n",
        "data = {\n",
        "    'Name': ['Alice', 'Bob', 'Charlie', 'David', 'Emma', 'Frank', 'Grace', 'Henry', 'Ivy', 'Jack'],\n",
        "    'Age': [25, 30, 35, 40, 45, 50, 55, 60, 65, 70],\n",
        "    'Gender': ['Female', 'Male', 'Male', 'Male', 'Female', 'Male', 'Female', 'Male', 'Female', 'Male'],\n",
        "    'Country': ['USA', 'UK', 'Canada', 'Australia', 'Germany', 'USA', 'Canada', 'UK', 'Australia', 'Germany'],\n",
        "    'Salary': [50000, 60000, 70000, 80000, 90000, 100000, 110000, 120000, 130000, 140000]\n",
        "}\n",
        "\n",
        "df = pd.DataFrame(data)\n",
        "print(df)\n",
        "\n"
      ],
      "metadata": {
        "id": "KFd0Kf16DcqD",
        "outputId": "84aab2ba-daa6-4d58-9ade-9421499399e3",
        "colab": {
          "base_uri": "https://localhost:8080/"
        }
      },
      "execution_count": null,
      "outputs": [
        {
          "output_type": "stream",
          "name": "stdout",
          "text": [
            "      Name  Age  Gender    Country  Salary\n",
            "0    Alice   25  Female        USA   50000\n",
            "1      Bob   30    Male         UK   60000\n",
            "2  Charlie   35    Male     Canada   70000\n",
            "3    David   40    Male  Australia   80000\n",
            "4     Emma   45  Female    Germany   90000\n",
            "5    Frank   50    Male        USA  100000\n",
            "6    Grace   55  Female     Canada  110000\n",
            "7    Henry   60    Male         UK  120000\n",
            "8      Ivy   65  Female  Australia  130000\n",
            "9     Jack   70    Male    Germany  140000\n"
          ]
        }
      ]
    },
    {
      "cell_type": "code",
      "source": [
        "x=df['Age'] >30\n",
        "df[x]"
      ],
      "metadata": {
        "id": "fFIMF7xmEQzf",
        "outputId": "1641a748-e21b-4839-85fd-8a8183897b36",
        "colab": {
          "base_uri": "https://localhost:8080/",
          "height": 300
        }
      },
      "execution_count": null,
      "outputs": [
        {
          "output_type": "execute_result",
          "data": {
            "text/plain": [
              "      Name  Age  Gender    Country  Salary\n",
              "2  Charlie   35    Male     Canada   70000\n",
              "3    David   40    Male  Australia   80000\n",
              "4     Emma   45  Female    Germany   90000\n",
              "5    Frank   50    Male        USA  100000\n",
              "6    Grace   55  Female     Canada  110000\n",
              "7    Henry   60    Male         UK  120000\n",
              "8      Ivy   65  Female  Australia  130000\n",
              "9     Jack   70    Male    Germany  140000"
            ],
            "text/html": [
              "\n",
              "  <div id=\"df-4bc0eacf-b1b9-40e0-9a59-135eb6d25f01\" class=\"colab-df-container\">\n",
              "    <div>\n",
              "<style scoped>\n",
              "    .dataframe tbody tr th:only-of-type {\n",
              "        vertical-align: middle;\n",
              "    }\n",
              "\n",
              "    .dataframe tbody tr th {\n",
              "        vertical-align: top;\n",
              "    }\n",
              "\n",
              "    .dataframe thead th {\n",
              "        text-align: right;\n",
              "    }\n",
              "</style>\n",
              "<table border=\"1\" class=\"dataframe\">\n",
              "  <thead>\n",
              "    <tr style=\"text-align: right;\">\n",
              "      <th></th>\n",
              "      <th>Name</th>\n",
              "      <th>Age</th>\n",
              "      <th>Gender</th>\n",
              "      <th>Country</th>\n",
              "      <th>Salary</th>\n",
              "    </tr>\n",
              "  </thead>\n",
              "  <tbody>\n",
              "    <tr>\n",
              "      <th>2</th>\n",
              "      <td>Charlie</td>\n",
              "      <td>35</td>\n",
              "      <td>Male</td>\n",
              "      <td>Canada</td>\n",
              "      <td>70000</td>\n",
              "    </tr>\n",
              "    <tr>\n",
              "      <th>3</th>\n",
              "      <td>David</td>\n",
              "      <td>40</td>\n",
              "      <td>Male</td>\n",
              "      <td>Australia</td>\n",
              "      <td>80000</td>\n",
              "    </tr>\n",
              "    <tr>\n",
              "      <th>4</th>\n",
              "      <td>Emma</td>\n",
              "      <td>45</td>\n",
              "      <td>Female</td>\n",
              "      <td>Germany</td>\n",
              "      <td>90000</td>\n",
              "    </tr>\n",
              "    <tr>\n",
              "      <th>5</th>\n",
              "      <td>Frank</td>\n",
              "      <td>50</td>\n",
              "      <td>Male</td>\n",
              "      <td>USA</td>\n",
              "      <td>100000</td>\n",
              "    </tr>\n",
              "    <tr>\n",
              "      <th>6</th>\n",
              "      <td>Grace</td>\n",
              "      <td>55</td>\n",
              "      <td>Female</td>\n",
              "      <td>Canada</td>\n",
              "      <td>110000</td>\n",
              "    </tr>\n",
              "    <tr>\n",
              "      <th>7</th>\n",
              "      <td>Henry</td>\n",
              "      <td>60</td>\n",
              "      <td>Male</td>\n",
              "      <td>UK</td>\n",
              "      <td>120000</td>\n",
              "    </tr>\n",
              "    <tr>\n",
              "      <th>8</th>\n",
              "      <td>Ivy</td>\n",
              "      <td>65</td>\n",
              "      <td>Female</td>\n",
              "      <td>Australia</td>\n",
              "      <td>130000</td>\n",
              "    </tr>\n",
              "    <tr>\n",
              "      <th>9</th>\n",
              "      <td>Jack</td>\n",
              "      <td>70</td>\n",
              "      <td>Male</td>\n",
              "      <td>Germany</td>\n",
              "      <td>140000</td>\n",
              "    </tr>\n",
              "  </tbody>\n",
              "</table>\n",
              "</div>\n",
              "    <div class=\"colab-df-buttons\">\n",
              "\n",
              "  <div class=\"colab-df-container\">\n",
              "    <button class=\"colab-df-convert\" onclick=\"convertToInteractive('df-4bc0eacf-b1b9-40e0-9a59-135eb6d25f01')\"\n",
              "            title=\"Convert this dataframe to an interactive table.\"\n",
              "            style=\"display:none;\">\n",
              "\n",
              "  <svg xmlns=\"http://www.w3.org/2000/svg\" height=\"24px\" viewBox=\"0 -960 960 960\">\n",
              "    <path d=\"M120-120v-720h720v720H120Zm60-500h600v-160H180v160Zm220 220h160v-160H400v160Zm0 220h160v-160H400v160ZM180-400h160v-160H180v160Zm440 0h160v-160H620v160ZM180-180h160v-160H180v160Zm440 0h160v-160H620v160Z\"/>\n",
              "  </svg>\n",
              "    </button>\n",
              "\n",
              "  <style>\n",
              "    .colab-df-container {\n",
              "      display:flex;\n",
              "      gap: 12px;\n",
              "    }\n",
              "\n",
              "    .colab-df-convert {\n",
              "      background-color: #E8F0FE;\n",
              "      border: none;\n",
              "      border-radius: 50%;\n",
              "      cursor: pointer;\n",
              "      display: none;\n",
              "      fill: #1967D2;\n",
              "      height: 32px;\n",
              "      padding: 0 0 0 0;\n",
              "      width: 32px;\n",
              "    }\n",
              "\n",
              "    .colab-df-convert:hover {\n",
              "      background-color: #E2EBFA;\n",
              "      box-shadow: 0px 1px 2px rgba(60, 64, 67, 0.3), 0px 1px 3px 1px rgba(60, 64, 67, 0.15);\n",
              "      fill: #174EA6;\n",
              "    }\n",
              "\n",
              "    .colab-df-buttons div {\n",
              "      margin-bottom: 4px;\n",
              "    }\n",
              "\n",
              "    [theme=dark] .colab-df-convert {\n",
              "      background-color: #3B4455;\n",
              "      fill: #D2E3FC;\n",
              "    }\n",
              "\n",
              "    [theme=dark] .colab-df-convert:hover {\n",
              "      background-color: #434B5C;\n",
              "      box-shadow: 0px 1px 3px 1px rgba(0, 0, 0, 0.15);\n",
              "      filter: drop-shadow(0px 1px 2px rgba(0, 0, 0, 0.3));\n",
              "      fill: #FFFFFF;\n",
              "    }\n",
              "  </style>\n",
              "\n",
              "    <script>\n",
              "      const buttonEl =\n",
              "        document.querySelector('#df-4bc0eacf-b1b9-40e0-9a59-135eb6d25f01 button.colab-df-convert');\n",
              "      buttonEl.style.display =\n",
              "        google.colab.kernel.accessAllowed ? 'block' : 'none';\n",
              "\n",
              "      async function convertToInteractive(key) {\n",
              "        const element = document.querySelector('#df-4bc0eacf-b1b9-40e0-9a59-135eb6d25f01');\n",
              "        const dataTable =\n",
              "          await google.colab.kernel.invokeFunction('convertToInteractive',\n",
              "                                                    [key], {});\n",
              "        if (!dataTable) return;\n",
              "\n",
              "        const docLinkHtml = 'Like what you see? Visit the ' +\n",
              "          '<a target=\"_blank\" href=https://colab.research.google.com/notebooks/data_table.ipynb>data table notebook</a>'\n",
              "          + ' to learn more about interactive tables.';\n",
              "        element.innerHTML = '';\n",
              "        dataTable['output_type'] = 'display_data';\n",
              "        await google.colab.output.renderOutput(dataTable, element);\n",
              "        const docLink = document.createElement('div');\n",
              "        docLink.innerHTML = docLinkHtml;\n",
              "        element.appendChild(docLink);\n",
              "      }\n",
              "    </script>\n",
              "  </div>\n",
              "\n",
              "\n",
              "<div id=\"df-7de05c9b-8609-46f3-a403-3963bb627c31\">\n",
              "  <button class=\"colab-df-quickchart\" onclick=\"quickchart('df-7de05c9b-8609-46f3-a403-3963bb627c31')\"\n",
              "            title=\"Suggest charts\"\n",
              "            style=\"display:none;\">\n",
              "\n",
              "<svg xmlns=\"http://www.w3.org/2000/svg\" height=\"24px\"viewBox=\"0 0 24 24\"\n",
              "     width=\"24px\">\n",
              "    <g>\n",
              "        <path d=\"M19 3H5c-1.1 0-2 .9-2 2v14c0 1.1.9 2 2 2h14c1.1 0 2-.9 2-2V5c0-1.1-.9-2-2-2zM9 17H7v-7h2v7zm4 0h-2V7h2v10zm4 0h-2v-4h2v4z\"/>\n",
              "    </g>\n",
              "</svg>\n",
              "  </button>\n",
              "\n",
              "<style>\n",
              "  .colab-df-quickchart {\n",
              "      --bg-color: #E8F0FE;\n",
              "      --fill-color: #1967D2;\n",
              "      --hover-bg-color: #E2EBFA;\n",
              "      --hover-fill-color: #174EA6;\n",
              "      --disabled-fill-color: #AAA;\n",
              "      --disabled-bg-color: #DDD;\n",
              "  }\n",
              "\n",
              "  [theme=dark] .colab-df-quickchart {\n",
              "      --bg-color: #3B4455;\n",
              "      --fill-color: #D2E3FC;\n",
              "      --hover-bg-color: #434B5C;\n",
              "      --hover-fill-color: #FFFFFF;\n",
              "      --disabled-bg-color: #3B4455;\n",
              "      --disabled-fill-color: #666;\n",
              "  }\n",
              "\n",
              "  .colab-df-quickchart {\n",
              "    background-color: var(--bg-color);\n",
              "    border: none;\n",
              "    border-radius: 50%;\n",
              "    cursor: pointer;\n",
              "    display: none;\n",
              "    fill: var(--fill-color);\n",
              "    height: 32px;\n",
              "    padding: 0;\n",
              "    width: 32px;\n",
              "  }\n",
              "\n",
              "  .colab-df-quickchart:hover {\n",
              "    background-color: var(--hover-bg-color);\n",
              "    box-shadow: 0 1px 2px rgba(60, 64, 67, 0.3), 0 1px 3px 1px rgba(60, 64, 67, 0.15);\n",
              "    fill: var(--button-hover-fill-color);\n",
              "  }\n",
              "\n",
              "  .colab-df-quickchart-complete:disabled,\n",
              "  .colab-df-quickchart-complete:disabled:hover {\n",
              "    background-color: var(--disabled-bg-color);\n",
              "    fill: var(--disabled-fill-color);\n",
              "    box-shadow: none;\n",
              "  }\n",
              "\n",
              "  .colab-df-spinner {\n",
              "    border: 2px solid var(--fill-color);\n",
              "    border-color: transparent;\n",
              "    border-bottom-color: var(--fill-color);\n",
              "    animation:\n",
              "      spin 1s steps(1) infinite;\n",
              "  }\n",
              "\n",
              "  @keyframes spin {\n",
              "    0% {\n",
              "      border-color: transparent;\n",
              "      border-bottom-color: var(--fill-color);\n",
              "      border-left-color: var(--fill-color);\n",
              "    }\n",
              "    20% {\n",
              "      border-color: transparent;\n",
              "      border-left-color: var(--fill-color);\n",
              "      border-top-color: var(--fill-color);\n",
              "    }\n",
              "    30% {\n",
              "      border-color: transparent;\n",
              "      border-left-color: var(--fill-color);\n",
              "      border-top-color: var(--fill-color);\n",
              "      border-right-color: var(--fill-color);\n",
              "    }\n",
              "    40% {\n",
              "      border-color: transparent;\n",
              "      border-right-color: var(--fill-color);\n",
              "      border-top-color: var(--fill-color);\n",
              "    }\n",
              "    60% {\n",
              "      border-color: transparent;\n",
              "      border-right-color: var(--fill-color);\n",
              "    }\n",
              "    80% {\n",
              "      border-color: transparent;\n",
              "      border-right-color: var(--fill-color);\n",
              "      border-bottom-color: var(--fill-color);\n",
              "    }\n",
              "    90% {\n",
              "      border-color: transparent;\n",
              "      border-bottom-color: var(--fill-color);\n",
              "    }\n",
              "  }\n",
              "</style>\n",
              "\n",
              "  <script>\n",
              "    async function quickchart(key) {\n",
              "      const quickchartButtonEl =\n",
              "        document.querySelector('#' + key + ' button');\n",
              "      quickchartButtonEl.disabled = true;  // To prevent multiple clicks.\n",
              "      quickchartButtonEl.classList.add('colab-df-spinner');\n",
              "      try {\n",
              "        const charts = await google.colab.kernel.invokeFunction(\n",
              "            'suggestCharts', [key], {});\n",
              "      } catch (error) {\n",
              "        console.error('Error during call to suggestCharts:', error);\n",
              "      }\n",
              "      quickchartButtonEl.classList.remove('colab-df-spinner');\n",
              "      quickchartButtonEl.classList.add('colab-df-quickchart-complete');\n",
              "    }\n",
              "    (() => {\n",
              "      let quickchartButtonEl =\n",
              "        document.querySelector('#df-7de05c9b-8609-46f3-a403-3963bb627c31 button');\n",
              "      quickchartButtonEl.style.display =\n",
              "        google.colab.kernel.accessAllowed ? 'block' : 'none';\n",
              "    })();\n",
              "  </script>\n",
              "</div>\n",
              "\n",
              "    </div>\n",
              "  </div>\n"
            ],
            "application/vnd.google.colaboratory.intrinsic+json": {
              "type": "dataframe",
              "summary": "{\n  \"name\": \"df[x]\",\n  \"rows\": 8,\n  \"fields\": [\n    {\n      \"column\": \"Name\",\n      \"properties\": {\n        \"dtype\": \"string\",\n        \"num_unique_values\": 8,\n        \"samples\": [\n          \"David\",\n          \"Henry\",\n          \"Charlie\"\n        ],\n        \"semantic_type\": \"\",\n        \"description\": \"\"\n      }\n    },\n    {\n      \"column\": \"Age\",\n      \"properties\": {\n        \"dtype\": \"number\",\n        \"std\": 12,\n        \"min\": 35,\n        \"max\": 70,\n        \"num_unique_values\": 8,\n        \"samples\": [\n          40,\n          60,\n          35\n        ],\n        \"semantic_type\": \"\",\n        \"description\": \"\"\n      }\n    },\n    {\n      \"column\": \"Gender\",\n      \"properties\": {\n        \"dtype\": \"category\",\n        \"num_unique_values\": 2,\n        \"samples\": [\n          \"Female\",\n          \"Male\"\n        ],\n        \"semantic_type\": \"\",\n        \"description\": \"\"\n      }\n    },\n    {\n      \"column\": \"Country\",\n      \"properties\": {\n        \"dtype\": \"string\",\n        \"num_unique_values\": 5,\n        \"samples\": [\n          \"Australia\",\n          \"UK\"\n        ],\n        \"semantic_type\": \"\",\n        \"description\": \"\"\n      }\n    },\n    {\n      \"column\": \"Salary\",\n      \"properties\": {\n        \"dtype\": \"number\",\n        \"std\": 24494,\n        \"min\": 70000,\n        \"max\": 140000,\n        \"num_unique_values\": 8,\n        \"samples\": [\n          80000,\n          120000\n        ],\n        \"semantic_type\": \"\",\n        \"description\": \"\"\n      }\n    }\n  ]\n}"
            }
          },
          "metadata": {},
          "execution_count": 37
        }
      ]
    },
    {
      "cell_type": "code",
      "source": [
        "# Can you show only the rows where Gender is 'Female' and Salary is greater than 60000\n",
        "df[(df['Gender']=='Female')  & (df['Salary']>60000)]"
      ],
      "metadata": {
        "id": "K1JTKNREFi4i",
        "outputId": "1647d652-adbc-49fd-fd26-0d75bf468f82",
        "colab": {
          "base_uri": "https://localhost:8080/",
          "height": 143
        }
      },
      "execution_count": null,
      "outputs": [
        {
          "output_type": "execute_result",
          "data": {
            "text/plain": [
              "    Name  Age  Gender    Country  Salary\n",
              "4   Emma   45  Female    Germany   90000\n",
              "6  Grace   55  Female     Canada  110000\n",
              "8    Ivy   65  Female  Australia  130000"
            ],
            "text/html": [
              "\n",
              "  <div id=\"df-9286d861-6341-41de-bbce-ab8355a758d5\" class=\"colab-df-container\">\n",
              "    <div>\n",
              "<style scoped>\n",
              "    .dataframe tbody tr th:only-of-type {\n",
              "        vertical-align: middle;\n",
              "    }\n",
              "\n",
              "    .dataframe tbody tr th {\n",
              "        vertical-align: top;\n",
              "    }\n",
              "\n",
              "    .dataframe thead th {\n",
              "        text-align: right;\n",
              "    }\n",
              "</style>\n",
              "<table border=\"1\" class=\"dataframe\">\n",
              "  <thead>\n",
              "    <tr style=\"text-align: right;\">\n",
              "      <th></th>\n",
              "      <th>Name</th>\n",
              "      <th>Age</th>\n",
              "      <th>Gender</th>\n",
              "      <th>Country</th>\n",
              "      <th>Salary</th>\n",
              "    </tr>\n",
              "  </thead>\n",
              "  <tbody>\n",
              "    <tr>\n",
              "      <th>4</th>\n",
              "      <td>Emma</td>\n",
              "      <td>45</td>\n",
              "      <td>Female</td>\n",
              "      <td>Germany</td>\n",
              "      <td>90000</td>\n",
              "    </tr>\n",
              "    <tr>\n",
              "      <th>6</th>\n",
              "      <td>Grace</td>\n",
              "      <td>55</td>\n",
              "      <td>Female</td>\n",
              "      <td>Canada</td>\n",
              "      <td>110000</td>\n",
              "    </tr>\n",
              "    <tr>\n",
              "      <th>8</th>\n",
              "      <td>Ivy</td>\n",
              "      <td>65</td>\n",
              "      <td>Female</td>\n",
              "      <td>Australia</td>\n",
              "      <td>130000</td>\n",
              "    </tr>\n",
              "  </tbody>\n",
              "</table>\n",
              "</div>\n",
              "    <div class=\"colab-df-buttons\">\n",
              "\n",
              "  <div class=\"colab-df-container\">\n",
              "    <button class=\"colab-df-convert\" onclick=\"convertToInteractive('df-9286d861-6341-41de-bbce-ab8355a758d5')\"\n",
              "            title=\"Convert this dataframe to an interactive table.\"\n",
              "            style=\"display:none;\">\n",
              "\n",
              "  <svg xmlns=\"http://www.w3.org/2000/svg\" height=\"24px\" viewBox=\"0 -960 960 960\">\n",
              "    <path d=\"M120-120v-720h720v720H120Zm60-500h600v-160H180v160Zm220 220h160v-160H400v160Zm0 220h160v-160H400v160ZM180-400h160v-160H180v160Zm440 0h160v-160H620v160ZM180-180h160v-160H180v160Zm440 0h160v-160H620v160Z\"/>\n",
              "  </svg>\n",
              "    </button>\n",
              "\n",
              "  <style>\n",
              "    .colab-df-container {\n",
              "      display:flex;\n",
              "      gap: 12px;\n",
              "    }\n",
              "\n",
              "    .colab-df-convert {\n",
              "      background-color: #E8F0FE;\n",
              "      border: none;\n",
              "      border-radius: 50%;\n",
              "      cursor: pointer;\n",
              "      display: none;\n",
              "      fill: #1967D2;\n",
              "      height: 32px;\n",
              "      padding: 0 0 0 0;\n",
              "      width: 32px;\n",
              "    }\n",
              "\n",
              "    .colab-df-convert:hover {\n",
              "      background-color: #E2EBFA;\n",
              "      box-shadow: 0px 1px 2px rgba(60, 64, 67, 0.3), 0px 1px 3px 1px rgba(60, 64, 67, 0.15);\n",
              "      fill: #174EA6;\n",
              "    }\n",
              "\n",
              "    .colab-df-buttons div {\n",
              "      margin-bottom: 4px;\n",
              "    }\n",
              "\n",
              "    [theme=dark] .colab-df-convert {\n",
              "      background-color: #3B4455;\n",
              "      fill: #D2E3FC;\n",
              "    }\n",
              "\n",
              "    [theme=dark] .colab-df-convert:hover {\n",
              "      background-color: #434B5C;\n",
              "      box-shadow: 0px 1px 3px 1px rgba(0, 0, 0, 0.15);\n",
              "      filter: drop-shadow(0px 1px 2px rgba(0, 0, 0, 0.3));\n",
              "      fill: #FFFFFF;\n",
              "    }\n",
              "  </style>\n",
              "\n",
              "    <script>\n",
              "      const buttonEl =\n",
              "        document.querySelector('#df-9286d861-6341-41de-bbce-ab8355a758d5 button.colab-df-convert');\n",
              "      buttonEl.style.display =\n",
              "        google.colab.kernel.accessAllowed ? 'block' : 'none';\n",
              "\n",
              "      async function convertToInteractive(key) {\n",
              "        const element = document.querySelector('#df-9286d861-6341-41de-bbce-ab8355a758d5');\n",
              "        const dataTable =\n",
              "          await google.colab.kernel.invokeFunction('convertToInteractive',\n",
              "                                                    [key], {});\n",
              "        if (!dataTable) return;\n",
              "\n",
              "        const docLinkHtml = 'Like what you see? Visit the ' +\n",
              "          '<a target=\"_blank\" href=https://colab.research.google.com/notebooks/data_table.ipynb>data table notebook</a>'\n",
              "          + ' to learn more about interactive tables.';\n",
              "        element.innerHTML = '';\n",
              "        dataTable['output_type'] = 'display_data';\n",
              "        await google.colab.output.renderOutput(dataTable, element);\n",
              "        const docLink = document.createElement('div');\n",
              "        docLink.innerHTML = docLinkHtml;\n",
              "        element.appendChild(docLink);\n",
              "      }\n",
              "    </script>\n",
              "  </div>\n",
              "\n",
              "\n",
              "<div id=\"df-31ba4c6f-9e34-434d-9be1-9d2db005339e\">\n",
              "  <button class=\"colab-df-quickchart\" onclick=\"quickchart('df-31ba4c6f-9e34-434d-9be1-9d2db005339e')\"\n",
              "            title=\"Suggest charts\"\n",
              "            style=\"display:none;\">\n",
              "\n",
              "<svg xmlns=\"http://www.w3.org/2000/svg\" height=\"24px\"viewBox=\"0 0 24 24\"\n",
              "     width=\"24px\">\n",
              "    <g>\n",
              "        <path d=\"M19 3H5c-1.1 0-2 .9-2 2v14c0 1.1.9 2 2 2h14c1.1 0 2-.9 2-2V5c0-1.1-.9-2-2-2zM9 17H7v-7h2v7zm4 0h-2V7h2v10zm4 0h-2v-4h2v4z\"/>\n",
              "    </g>\n",
              "</svg>\n",
              "  </button>\n",
              "\n",
              "<style>\n",
              "  .colab-df-quickchart {\n",
              "      --bg-color: #E8F0FE;\n",
              "      --fill-color: #1967D2;\n",
              "      --hover-bg-color: #E2EBFA;\n",
              "      --hover-fill-color: #174EA6;\n",
              "      --disabled-fill-color: #AAA;\n",
              "      --disabled-bg-color: #DDD;\n",
              "  }\n",
              "\n",
              "  [theme=dark] .colab-df-quickchart {\n",
              "      --bg-color: #3B4455;\n",
              "      --fill-color: #D2E3FC;\n",
              "      --hover-bg-color: #434B5C;\n",
              "      --hover-fill-color: #FFFFFF;\n",
              "      --disabled-bg-color: #3B4455;\n",
              "      --disabled-fill-color: #666;\n",
              "  }\n",
              "\n",
              "  .colab-df-quickchart {\n",
              "    background-color: var(--bg-color);\n",
              "    border: none;\n",
              "    border-radius: 50%;\n",
              "    cursor: pointer;\n",
              "    display: none;\n",
              "    fill: var(--fill-color);\n",
              "    height: 32px;\n",
              "    padding: 0;\n",
              "    width: 32px;\n",
              "  }\n",
              "\n",
              "  .colab-df-quickchart:hover {\n",
              "    background-color: var(--hover-bg-color);\n",
              "    box-shadow: 0 1px 2px rgba(60, 64, 67, 0.3), 0 1px 3px 1px rgba(60, 64, 67, 0.15);\n",
              "    fill: var(--button-hover-fill-color);\n",
              "  }\n",
              "\n",
              "  .colab-df-quickchart-complete:disabled,\n",
              "  .colab-df-quickchart-complete:disabled:hover {\n",
              "    background-color: var(--disabled-bg-color);\n",
              "    fill: var(--disabled-fill-color);\n",
              "    box-shadow: none;\n",
              "  }\n",
              "\n",
              "  .colab-df-spinner {\n",
              "    border: 2px solid var(--fill-color);\n",
              "    border-color: transparent;\n",
              "    border-bottom-color: var(--fill-color);\n",
              "    animation:\n",
              "      spin 1s steps(1) infinite;\n",
              "  }\n",
              "\n",
              "  @keyframes spin {\n",
              "    0% {\n",
              "      border-color: transparent;\n",
              "      border-bottom-color: var(--fill-color);\n",
              "      border-left-color: var(--fill-color);\n",
              "    }\n",
              "    20% {\n",
              "      border-color: transparent;\n",
              "      border-left-color: var(--fill-color);\n",
              "      border-top-color: var(--fill-color);\n",
              "    }\n",
              "    30% {\n",
              "      border-color: transparent;\n",
              "      border-left-color: var(--fill-color);\n",
              "      border-top-color: var(--fill-color);\n",
              "      border-right-color: var(--fill-color);\n",
              "    }\n",
              "    40% {\n",
              "      border-color: transparent;\n",
              "      border-right-color: var(--fill-color);\n",
              "      border-top-color: var(--fill-color);\n",
              "    }\n",
              "    60% {\n",
              "      border-color: transparent;\n",
              "      border-right-color: var(--fill-color);\n",
              "    }\n",
              "    80% {\n",
              "      border-color: transparent;\n",
              "      border-right-color: var(--fill-color);\n",
              "      border-bottom-color: var(--fill-color);\n",
              "    }\n",
              "    90% {\n",
              "      border-color: transparent;\n",
              "      border-bottom-color: var(--fill-color);\n",
              "    }\n",
              "  }\n",
              "</style>\n",
              "\n",
              "  <script>\n",
              "    async function quickchart(key) {\n",
              "      const quickchartButtonEl =\n",
              "        document.querySelector('#' + key + ' button');\n",
              "      quickchartButtonEl.disabled = true;  // To prevent multiple clicks.\n",
              "      quickchartButtonEl.classList.add('colab-df-spinner');\n",
              "      try {\n",
              "        const charts = await google.colab.kernel.invokeFunction(\n",
              "            'suggestCharts', [key], {});\n",
              "      } catch (error) {\n",
              "        console.error('Error during call to suggestCharts:', error);\n",
              "      }\n",
              "      quickchartButtonEl.classList.remove('colab-df-spinner');\n",
              "      quickchartButtonEl.classList.add('colab-df-quickchart-complete');\n",
              "    }\n",
              "    (() => {\n",
              "      let quickchartButtonEl =\n",
              "        document.querySelector('#df-31ba4c6f-9e34-434d-9be1-9d2db005339e button');\n",
              "      quickchartButtonEl.style.display =\n",
              "        google.colab.kernel.accessAllowed ? 'block' : 'none';\n",
              "    })();\n",
              "  </script>\n",
              "</div>\n",
              "\n",
              "    </div>\n",
              "  </div>\n"
            ],
            "application/vnd.google.colaboratory.intrinsic+json": {
              "type": "dataframe",
              "summary": "{\n  \"name\": \"df[(df['Gender']=='Female')  & (df['Salary']>60000)]\",\n  \"rows\": 3,\n  \"fields\": [\n    {\n      \"column\": \"Name\",\n      \"properties\": {\n        \"dtype\": \"string\",\n        \"num_unique_values\": 3,\n        \"samples\": [\n          \"Emma\",\n          \"Grace\",\n          \"Ivy\"\n        ],\n        \"semantic_type\": \"\",\n        \"description\": \"\"\n      }\n    },\n    {\n      \"column\": \"Age\",\n      \"properties\": {\n        \"dtype\": \"number\",\n        \"std\": 10,\n        \"min\": 45,\n        \"max\": 65,\n        \"num_unique_values\": 3,\n        \"samples\": [\n          45,\n          55,\n          65\n        ],\n        \"semantic_type\": \"\",\n        \"description\": \"\"\n      }\n    },\n    {\n      \"column\": \"Gender\",\n      \"properties\": {\n        \"dtype\": \"category\",\n        \"num_unique_values\": 1,\n        \"samples\": [\n          \"Female\"\n        ],\n        \"semantic_type\": \"\",\n        \"description\": \"\"\n      }\n    },\n    {\n      \"column\": \"Country\",\n      \"properties\": {\n        \"dtype\": \"string\",\n        \"num_unique_values\": 3,\n        \"samples\": [\n          \"Germany\"\n        ],\n        \"semantic_type\": \"\",\n        \"description\": \"\"\n      }\n    },\n    {\n      \"column\": \"Salary\",\n      \"properties\": {\n        \"dtype\": \"number\",\n        \"std\": 20000,\n        \"min\": 90000,\n        \"max\": 130000,\n        \"num_unique_values\": 3,\n        \"samples\": [\n          90000\n        ],\n        \"semantic_type\": \"\",\n        \"description\": \"\"\n      }\n    }\n  ]\n}"
            }
          },
          "metadata": {},
          "execution_count": 38
        }
      ]
    },
    {
      "cell_type": "code",
      "source": [
        "df.groupby('Gender')['Salary'].mean()"
      ],
      "metadata": {
        "id": "EUxqYqASF_Aj",
        "outputId": "ef381d2b-5dc9-4699-a24f-721798a7b2ec",
        "colab": {
          "base_uri": "https://localhost:8080/"
        }
      },
      "execution_count": null,
      "outputs": [
        {
          "output_type": "execute_result",
          "data": {
            "text/plain": [
              "Gender\n",
              "Female    95000.0\n",
              "Male      95000.0\n",
              "Name: Salary, dtype: float64"
            ]
          },
          "metadata": {},
          "execution_count": 39
        }
      ]
    },
    {
      "cell_type": "code",
      "source": [
        "# How many people are there from each country\n",
        "df.groupby('Country')['Age'].max()"
      ],
      "metadata": {
        "id": "4RyshtjcJ1zb",
        "outputId": "b8bb35ef-c592-4ac0-8e4c-8e017a8b2e14",
        "colab": {
          "base_uri": "https://localhost:8080/"
        }
      },
      "execution_count": null,
      "outputs": [
        {
          "output_type": "execute_result",
          "data": {
            "text/plain": [
              "Country\n",
              "Australia    65\n",
              "Canada       55\n",
              "Germany      70\n",
              "UK           60\n",
              "USA          50\n",
              "Name: Age, dtype: int64"
            ]
          },
          "metadata": {},
          "execution_count": 40
        }
      ]
    },
    {
      "cell_type": "code",
      "source": [
        "# Convert the 'Salary' column to Euros assuming the exchange rate is 1 USD = 0.85 Euros\n",
        "df['Euros'] = df['Salary'] * 0.85"
      ],
      "metadata": {
        "id": "CkaE2jUBKoOA"
      },
      "execution_count": null,
      "outputs": []
    },
    {
      "cell_type": "code",
      "source": [
        "import numpy as np\n",
        "# Add a new column 'Age Group' which categorizes people as 'Young' if their age is less than 35, and 'Old' otherwise\n",
        "df['Age Group'] = np.where(df['Age'] < 35, 'Young', 'Old')\n",
        "print(df)"
      ],
      "metadata": {
        "id": "COJZgsxvK2GA",
        "outputId": "63689f00-9bec-4340-da16-9c6da242fea1",
        "colab": {
          "base_uri": "https://localhost:8080/"
        }
      },
      "execution_count": null,
      "outputs": [
        {
          "output_type": "stream",
          "name": "stdout",
          "text": [
            "      Name  Age  Gender    Country  Salary     Euros Age Group\n",
            "0    Alice   25  Female        USA   50000   42500.0     Young\n",
            "1      Bob   30    Male         UK   60000   51000.0     Young\n",
            "2  Charlie   35    Male     Canada   70000   59500.0       Old\n",
            "3    David   40    Male  Australia   80000   68000.0       Old\n",
            "4     Emma   45  Female    Germany   90000   76500.0       Old\n",
            "5    Frank   50    Male        USA  100000   85000.0       Old\n",
            "6    Grace   55  Female     Canada  110000   93500.0       Old\n",
            "7    Henry   60    Male         UK  120000  102000.0       Old\n",
            "8      Ivy   65  Female  Australia  130000  110500.0       Old\n",
            "9     Jack   70    Male    Germany  140000  119000.0       Old\n"
          ]
        }
      ]
    },
    {
      "cell_type": "code",
      "source": [
        "# Can you show only the rows where Age is between 30 and 40 (inclusive) and Salary is above the average salary\n"
      ],
      "metadata": {
        "id": "uqJvvevcMdvR"
      },
      "execution_count": null,
      "outputs": []
    }
  ]
}
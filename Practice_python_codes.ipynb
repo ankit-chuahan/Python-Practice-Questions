{
  "nbformat": 4,
  "nbformat_minor": 0,
  "metadata": {
    "colab": {
      "provenance": [],
      "authorship_tag": "ABX9TyMxjJcC950HPm9cMlLhWURj",
      "include_colab_link": true
    },
    "kernelspec": {
      "name": "python3",
      "display_name": "Python 3"
    },
    "language_info": {
      "name": "python"
    }
  },
  "cells": [
    {
      "cell_type": "markdown",
      "metadata": {
        "id": "view-in-github",
        "colab_type": "text"
      },
      "source": [
        "<a href=\"https://colab.research.google.com/github/ankit-chuahan/Python-Practice-Questions/blob/main/Practice_python_codes.ipynb\" target=\"_parent\"><img src=\"https://colab.research.google.com/assets/colab-badge.svg\" alt=\"Open In Colab\"/></a>"
      ]
    },
    {
      "cell_type": "markdown",
      "source": [
        "1. Write a Python program to find the area of a triangle.\n",
        "-Area of triangle is 1/2 * Base * height"
      ],
      "metadata": {
        "id": "1uylTtD1pYXK"
      }
    },
    {
      "cell_type": "code",
      "execution_count": null,
      "metadata": {
        "colab": {
          "base_uri": "https://localhost:8080/"
        },
        "id": "iwtj2aTYHEai",
        "outputId": "9e61f6f4-5b84-4168-c33e-753451d2b4d2"
      },
      "outputs": [
        {
          "output_type": "stream",
          "name": "stdout",
          "text": [
            "Enter the Base of Triangle\n",
            "15\n",
            "Enter the Height of Triangle\n",
            "12\n",
            "The Area of Triangle of Base 15  And Height 12 is : -->90.0\n"
          ]
        }
      ],
      "source": [
        "# ARea of Triangle\n",
        "# Taking user input for both base and height and type cast it to int\n",
        "Base =int(input(\"Enter the Base of Triangle\\n\"))\n",
        "Height = int(input(\"Enter the Height of Triangle\\n\"))\n",
        "Area = (1/2 * Base * Height)\n",
        "print(f\"The Area of Triangle of Base {Base}  And Height {Height} is : -->{Area}\")"
      ]
    },
    {
      "cell_type": "markdown",
      "source": [
        "2.  Write a program that calculates the area & perimeter of a circle from the\n",
        "radius\n",
        "\n",
        "using the formula A = πr², P =2πr"
      ],
      "metadata": {
        "id": "h9rGNqNWQWnh"
      }
    },
    {
      "cell_type": "code",
      "source": [
        "# perimter of circle\n",
        "import math\n",
        "radius = float(input(\"enter the radius\"))\n",
        "perimter = 2*math.pi*radius\n",
        "print(f\"perimeter of circle of radius {radius} is :-->{perimter}\")\n",
        "\n",
        "Area = math.pi * radius**2\n",
        "print(f\"Area of circle of radius {radius} is ----->{Area}\")"
      ],
      "metadata": {
        "colab": {
          "base_uri": "https://localhost:8080/"
        },
        "id": "coHMpH2hQZif",
        "outputId": "e9714f42-3969-40f8-df95-b50ea7000657"
      },
      "execution_count": null,
      "outputs": [
        {
          "output_type": "stream",
          "name": "stdout",
          "text": [
            "enter the radius14\n",
            "perimeter of circle of radius 14.0 is :-->87.96459430051421\n",
            "Area of circle is ----->615.7521601035994\n"
          ]
        }
      ]
    },
    {
      "cell_type": "markdown",
      "source": [
        "3. Write a Python program to swap two variables."
      ],
      "metadata": {
        "id": "DbV8pR0kJnuW"
      }
    },
    {
      "cell_type": "code",
      "source": [
        "a = int(input(\"enter first number\\n\"))\n",
        "b = int(input(\"enter second number\\n\"))\n",
        "# a,b = b,a\n",
        "# print(a,b)  #swaping without temperory variable\n",
        "print(f\"original value of A is {a} and b is {b}\")\n",
        "temp = a # we store value of a in temp variable\n",
        "a=b\n",
        "b=temp\n",
        "print(f\"after swapping value of A is {a} and b is {b}\")"
      ],
      "metadata": {
        "colab": {
          "base_uri": "https://localhost:8080/"
        },
        "id": "OTPNm-GnJG3y",
        "outputId": "4cb286c5-9f02-4eb8-ddc4-8005195ee24a"
      },
      "execution_count": null,
      "outputs": [
        {
          "output_type": "stream",
          "name": "stdout",
          "text": [
            "enter first number\n",
            "1\n",
            "enter second number\n",
            "100\n",
            "original value of A is 1 and b is 100\n",
            "after swapping value of A is 100 and b is 1\n"
          ]
        }
      ]
    },
    {
      "cell_type": "markdown",
      "source": [
        "4. Write a Python Program to Check Leap Year"
      ],
      "metadata": {
        "id": "6LGqdieDLEzz"
      }
    },
    {
      "cell_type": "code",
      "source": [
        "year = int(input(\"enter the year \\n\"))\n",
        "if (year % 100 ==0 ) and (year % 400 ==0):\n",
        "# divide by 100 means century years and divide by 400 means leap year like 2000,4000)\n",
        "  print(\"{} is a leap year\".format(year))\n",
        "elif (year % 4 ==0)  and (year %100 !=0) :\n",
        "  # if not divide by 100 means not a centuary year and divide by 4 is leap year\n",
        "  print(\"{} is a leap year\".format(year))\n",
        "else:\n",
        "  print(\"{} is not a leap year\" .format(year))"
      ],
      "metadata": {
        "id": "txtjadU-jm2P",
        "outputId": "66a54808-85ec-46a7-8378-04e45a8d64c8",
        "colab": {
          "base_uri": "https://localhost:8080/"
        }
      },
      "execution_count": null,
      "outputs": [
        {
          "output_type": "stream",
          "name": "stdout",
          "text": [
            "enter the year \n",
            "1567\n",
            "1567 is not a leap year\n"
          ]
        }
      ]
    },
    {
      "cell_type": "markdown",
      "source": [
        "5.Write a program that reads the x and y position of two\n",
        "points in the Cartesian plane, and calculates the distance\n",
        "between them.\n",
        "\n"
      ],
      "metadata": {
        "id": "2eFrCpSzlKW1"
      }
    },
    {
      "cell_type": "code",
      "source": [
        "x1= int(input(\"enter the first point of x cordinate\"))\n",
        "x2 =int(input(\"enter the second point of x cordinate\"))\n",
        "y1 =int(input(\"enter the first point of Y cordinate\"))\n",
        "y2 =int(input(\"enter the Second point of Y cordinate\"))\n",
        "\n",
        "distance = math.sqrt((x2-x1)**2-(y2-y1)**2)\n",
        "print(f\"The cartesian distance between two point is {distance}\")"
      ],
      "metadata": {
        "colab": {
          "base_uri": "https://localhost:8080/"
        },
        "id": "pkFVKSRllMkB",
        "outputId": "0a5f6ff6-bcc4-40dd-82e3-9c2b2bce8bb7"
      },
      "execution_count": null,
      "outputs": [
        {
          "output_type": "stream",
          "name": "stdout",
          "text": [
            "enter the first point of x cordinate9\n",
            "enter the second point of x cordinate2\n",
            "enter the first point of Y cordinate8\n",
            "enter the Second point of Y cordinate3\n",
            "The cartesian distance between two point is 4.898979485566356\n"
          ]
        }
      ]
    },
    {
      "cell_type": "markdown",
      "source": [
        "6. Write a Python Program to Find the Factorial of a Number."
      ],
      "metadata": {
        "id": "ezefZJiY7gJB"
      }
    },
    {
      "cell_type": "code",
      "source": [
        "num = int(input(\"enter the number \\n\"))\n",
        "factorial = 1\n",
        "if num ==0 or num==1:\n",
        "  print(\"factorial of number {} is 1\".format(num))\n",
        "elif num <0 :\n",
        "  print(\"factorial of number {} does not exist as the number is negative\".format(num))\n",
        "else:\n",
        "  for i in range(1,num+1):\n",
        "    factorial = factorial *i\n",
        "  print(\"factorial of number {} is {}\".format(num,factorial))"
      ],
      "metadata": {
        "id": "k2BDhSk27pFu",
        "outputId": "8adb8689-02b4-4b7b-9c2b-e4d32f1aa291",
        "colab": {
          "base_uri": "https://localhost:8080/"
        }
      },
      "execution_count": null,
      "outputs": [
        {
          "output_type": "stream",
          "name": "stdout",
          "text": [
            "enter the number \n",
            "5\n",
            "factorial of number 5 is 120\n"
          ]
        }
      ]
    },
    {
      "cell_type": "code",
      "source": [
        "# Using recursion\n",
        "number = int(input(\"enter the number \\n\"))\n",
        "def factorial(number):\n",
        "  if number==0 or number==1:\n",
        "    return 1\n",
        "  elif number >1:\n",
        "    return number * factorial(number-1)\n",
        "  else:\n",
        "    return \"cant find the factorial as number is negative\"\n",
        "end_ = factorial(number)\n",
        "print(\"The factorial of number {} is {}\".format(number,end_))"
      ],
      "metadata": {
        "id": "btckZHFo-Hwr",
        "outputId": "ffe251f0-f2b6-4fd0-9df3-191b4ddb2694",
        "colab": {
          "base_uri": "https://localhost:8080/"
        }
      },
      "execution_count": null,
      "outputs": [
        {
          "output_type": "stream",
          "name": "stdout",
          "text": [
            "enter the number \n",
            "7\n",
            "The factorial of number 7 is 5040\n"
          ]
        }
      ]
    },
    {
      "cell_type": "markdown",
      "source": [
        "7. Write a Python Program to Print the Fibonacci sequence.\n",
        "\n",
        "    0, 1, 1, 2, 3, 5, 8, 13, 21, 34, 55, 89, 144, and so on."
      ],
      "metadata": {
        "id": "sFwZS23mA6Vb"
      }
    },
    {
      "cell_type": "code",
      "source": [
        "# fibbonachi series\n",
        "a,b = 0,1\n",
        "for i in range(6):\n",
        "  a,b = b,a+b\n",
        "  print(a,end=',')"
      ],
      "metadata": {
        "id": "CwQC-zNSD1EQ",
        "outputId": "5cebbec8-b350-4000-fea0-3b17b1efc17b",
        "colab": {
          "base_uri": "https://localhost:8080/"
        }
      },
      "execution_count": null,
      "outputs": [
        {
          "output_type": "stream",
          "name": "stdout",
          "text": [
            "1,1,2,3,5,8,"
          ]
        }
      ]
    },
    {
      "cell_type": "code",
      "source": [
        "def fibonacci(n):\n",
        "    if n <= 1:\n",
        "        return n\n",
        "    else:\n",
        "        return fibonacci(n-1) + fibonacci(n-2)\n",
        "\n",
        "# Test the function\n",
        "num = int(input(\"Enter the number of terms in Fibonacci series: \"))\n",
        "\n",
        "if num <= 0:\n",
        "    print(\"Please enter a positive integer.\")\n",
        "else:\n",
        "    print(\"Fibonacci series:\")\n",
        "    for i in range(num):\n",
        "        print(fibonacci(i), end=\" \")\n"
      ],
      "metadata": {
        "id": "zL2qM7hqEZAS",
        "outputId": "2228f468-2c2f-4032-bb71-94f6ad60e24a",
        "colab": {
          "base_uri": "https://localhost:8080/"
        }
      },
      "execution_count": null,
      "outputs": [
        {
          "output_type": "stream",
          "name": "stdout",
          "text": [
            "Enter the number of terms in Fibonacci series: 5\n",
            "Fibonacci series:\n",
            "0 1 1 2 3 "
          ]
        }
      ]
    },
    {
      "cell_type": "markdown",
      "source": [
        "8. Write a program that reads two numbers and tells you which one is\n",
        "bigger"
      ],
      "metadata": {
        "id": "eGdo35v-Rnav"
      }
    },
    {
      "cell_type": "code",
      "source": [
        "num1 = int(input(\"enter the first number \\n \"))\n",
        "num2 = int(input(\"enter the Second number \\n \"))\n",
        "\n",
        "if num1==num2:\n",
        "  print(\"Both numbers are equal\")\n",
        "elif num1>num2:\n",
        "  print(\"{} is greater then the {} \".format(num1,num2))\n",
        "else:\n",
        "  print(\"{} is greater then the {} \".format(num2,num1))"
      ],
      "metadata": {
        "id": "SD_ZkE9ZPyPP",
        "outputId": "047df6d8-59f7-4dc2-f87d-90f4644adc26",
        "colab": {
          "base_uri": "https://localhost:8080/"
        }
      },
      "execution_count": null,
      "outputs": [
        {
          "output_type": "stream",
          "name": "stdout",
          "text": [
            "enter the first number \n",
            " 98\n",
            "enter the Second number \n",
            " 21\n",
            "98 is greater then the 21 \n"
          ]
        }
      ]
    },
    {
      "cell_type": "markdown",
      "source": [
        "9. Write a program that asks the user for three numbers and displays the\n",
        "largest one."
      ],
      "metadata": {
        "id": "lGuYb_TyTZVQ"
      }
    },
    {
      "cell_type": "code",
      "source": [
        "num1 = int(input(\"enter the first  number \\n\"))\n",
        "num2 = int(input(\"enter the second  number \\n\"))\n",
        "num3 = int(input(\"enter the Third  number \\n\"))\n",
        "\n",
        "if num1 >num2 and num1>num3:\n",
        "  print(\"{} is Largest of the three numbers\".format(num1))\n",
        "elif num2>num1 and num2>num3:\n",
        "  print(\"{} is Largest of the three numbers\".format(num2))\n",
        "else:\n",
        "  print(\"{} is largest of three numbers\".format(num3))"
      ],
      "metadata": {
        "id": "X-gajha0Tk0w",
        "outputId": "8103d200-bc73-4948-f49b-e7cbdc256a36",
        "colab": {
          "base_uri": "https://localhost:8080/"
        }
      },
      "execution_count": null,
      "outputs": [
        {
          "output_type": "stream",
          "name": "stdout",
          "text": [
            "enter the first  number \n",
            "12\n",
            "enter the second  number \n",
            "45\n",
            "enter the Third  number \n",
            "64\n",
            "64 is largest of three numbers\n"
          ]
        }
      ]
    },
    {
      "cell_type": "markdown",
      "source": [
        "10.  Write a program that reads a number and reports whether it is positive,\n",
        "negative or zero."
      ],
      "metadata": {
        "id": "snC5aJiZVDyK"
      }
    },
    {
      "cell_type": "code",
      "source": [
        "num = int(input(\"Enter the number \\n\"))\n",
        "if num==0:\n",
        "  print(\"The above number is equal to zero\")\n",
        "elif num>0:\n",
        "  print(\"The above number is postive \")\n",
        "else:\n",
        "  print(\"The above number is negative\")\n"
      ],
      "metadata": {
        "id": "Kgnp64ZpVFzt",
        "outputId": "6b7a6671-a0f1-4e8f-89ba-dec116577e4d",
        "colab": {
          "base_uri": "https://localhost:8080/"
        }
      },
      "execution_count": null,
      "outputs": [
        {
          "output_type": "stream",
          "name": "stdout",
          "text": [
            "Enter the number \n",
            "54\n",
            "The above number is postive \n"
          ]
        }
      ]
    },
    {
      "cell_type": "markdown",
      "source": [
        "11 .  Write a program that reads three numbers and tells you if they can be the\n",
        "sides of a triangle (the sum of two sides must always be greater than the third\n",
        "side) ."
      ],
      "metadata": {
        "id": "Z698KDwJXW3U"
      }
    },
    {
      "cell_type": "code",
      "source": [
        "side1 = int(input(\"enter the first  number \\n\"))\n",
        "side2 = int(input(\"enter the second  number \\n\"))\n",
        "side3 = int(input(\"enter the Third  number \\n\"))\n",
        "\n",
        "# cheking condition\n",
        "if side1 + side2 >=side3 and side2 + side3 >=side2 and side1 + side3 >= side2:\n",
        "  print(\"These 3 side {},{},{} can form a triangle\" .format(side1,side2,side3))\n",
        "else:\n",
        "  print(\"These 3 side {},{},{} cant form a triangle\" .format(side1,side2,side3))\n"
      ],
      "metadata": {
        "id": "52cQY1eMXY6w",
        "outputId": "c403b933-00d7-4b80-8a6a-fd94a38bd709",
        "colab": {
          "base_uri": "https://localhost:8080/"
        }
      },
      "execution_count": null,
      "outputs": [
        {
          "output_type": "stream",
          "name": "stdout",
          "text": [
            "enter the first  number \n",
            "12\n",
            "enter the second  number \n",
            "65\n",
            "enter the Third  number \n",
            "12\n",
            "These 3 side 12,65,12 cant form a triangle\n"
          ]
        }
      ]
    },
    {
      "cell_type": "markdown",
      "source": [
        "12.Print the number from 1 to using both for and while loop"
      ],
      "metadata": {
        "id": "PBTOv56aqLq7"
      }
    },
    {
      "cell_type": "code",
      "source": [
        "# While Loop\n",
        "\n",
        "num=1  #initiating variable starting\n",
        "while num <11:   #checking for the condition\n",
        "  print(num,end =' ' )\n",
        "  num+=1   # incrementing the initial value"
      ],
      "metadata": {
        "id": "FxqIXdvBqiz8",
        "outputId": "28834588-a159-429f-ce3d-d534fd05a844",
        "colab": {
          "base_uri": "https://localhost:8080/"
        }
      },
      "execution_count": null,
      "outputs": [
        {
          "output_type": "stream",
          "name": "stdout",
          "text": [
            "1 2 3 4 5 6 7 8 9 10 "
          ]
        }
      ]
    },
    {
      "cell_type": "code",
      "source": [
        "# For Loop\n",
        "\n",
        "for num in range(1,11):\n",
        "  print(num , end=' ')"
      ],
      "metadata": {
        "id": "hYJpcAyisYBP",
        "outputId": "454d4c39-a8cf-4cd5-fc2a-c7d24c159992",
        "colab": {
          "base_uri": "https://localhost:8080/"
        }
      },
      "execution_count": null,
      "outputs": [
        {
          "output_type": "stream",
          "name": "stdout",
          "text": [
            "1 2 3 4 5 6 7 8 9 10 "
          ]
        }
      ]
    },
    {
      "cell_type": "markdown",
      "source": [
        "13. Write a program that displays even numbers 1 to 50 and\n",
        "odd numbers 51 to 100 using a repeating loop."
      ],
      "metadata": {
        "id": "fk8-z_5wuB-B"
      }
    },
    {
      "cell_type": "code",
      "source": [
        "num = 1\n",
        "while num <100:\n",
        "  if num%2!=0:\n",
        "    while num<50:\n",
        "      if num%2==0:\n",
        "        print(num,end=' ')\n",
        "      num+=1\n",
        "    print(num,end=' ')\n",
        "  num+=1\n"
      ],
      "metadata": {
        "id": "zh8Av8SCst5v",
        "outputId": "ac333fae-d1d8-41bf-b3eb-83d96890882b",
        "colab": {
          "base_uri": "https://localhost:8080/"
        }
      },
      "execution_count": null,
      "outputs": [
        {
          "output_type": "stream",
          "name": "stdout",
          "text": [
            "2 4 6 8 10 12 14 16 18 20 22 24 26 28 30 32 34 36 38 40 42 44 46 48 50 51 53 55 57 59 61 63 65 67 69 71 73 75 77 79 81 83 85 87 89 91 93 95 97 99 "
          ]
        }
      ]
    },
    {
      "cell_type": "code",
      "source": [
        "num = 1\n",
        "while num<100:\n",
        "  if num<50:\n",
        "    if num %2!=0:\n",
        "      print(num,end=' ')\n",
        "  else:\n",
        "    if num%2==0:\n",
        "      print(num,end=' ')\n",
        "\n",
        "\n",
        "  num+=1"
      ],
      "metadata": {
        "id": "7Bp8OrN1OWKz",
        "outputId": "1fdab389-8634-4555-99e5-7adb4bf8c058",
        "colab": {
          "base_uri": "https://localhost:8080/"
        }
      },
      "execution_count": null,
      "outputs": [
        {
          "output_type": "stream",
          "name": "stdout",
          "text": [
            "1 3 5 7 9 11 13 15 17 19 21 23 25 27 29 31 33 35 37 39 41 43 45 47 49 50 52 54 56 58 60 62 64 66 68 70 72 74 76 78 80 82 84 86 88 90 92 94 96 98 "
          ]
        }
      ]
    },
    {
      "cell_type": "markdown",
      "source": [
        "14. Create a program that prompts the user for a number and\n",
        "displays the table of that number using a loop"
      ],
      "metadata": {
        "id": "8yrshbj2w3ME"
      }
    },
    {
      "cell_type": "code",
      "source": [
        "# using for loops\n",
        "number = int(input(\"enter the number  \\n\"))\n",
        "for i in range(1,11):\n",
        "  print(f\"{i} x = {i*number}\")\n",
        "print('-'*20 )\n",
        "# using while Loops\n",
        "i=1 #initiating counter var\n",
        "while i <=10:\n",
        "  print(f\"{i} x = {i*number}\")\n",
        "  i+=1\n",
        "\n",
        "# Table from 1 to 10 withput user prompt\n",
        "for i in range(1,11):\n",
        "  for j in range(1,11):\n",
        "    print(f'{i} x {j} = {i*j}')\n",
        "  print('-'*30)"
      ],
      "metadata": {
        "id": "oYBgBmFQwCBc",
        "outputId": "25b9f03e-b070-4e3a-b23a-b1b26ccc8483",
        "colab": {
          "base_uri": "https://localhost:8080/"
        }
      },
      "execution_count": null,
      "outputs": [
        {
          "output_type": "stream",
          "name": "stdout",
          "text": [
            "enter the number  \n",
            "5\n",
            "1 x = 5\n",
            "2 x = 10\n",
            "3 x = 15\n",
            "4 x = 20\n",
            "5 x = 25\n",
            "6 x = 30\n",
            "7 x = 35\n",
            "8 x = 40\n",
            "9 x = 45\n",
            "10 x = 50\n",
            "--------------------\n",
            "1 x = 5\n",
            "2 x = 10\n",
            "3 x = 15\n",
            "4 x = 20\n",
            "5 x = 25\n",
            "6 x = 30\n",
            "7 x = 35\n",
            "8 x = 40\n",
            "9 x = 45\n",
            "10 x = 50\n"
          ]
        }
      ]
    },
    {
      "cell_type": "markdown",
      "source": [
        "15. Write a program that calculates and displays the sum of\n",
        "even numbers from 1 to 100 using a repeating loop."
      ],
      "metadata": {
        "id": "dDrBBLk21Lw1"
      }
    },
    {
      "cell_type": "code",
      "source": [
        "\n",
        "sum_= 0\n",
        "i=1\n",
        "while i <=100:\n",
        "  if i%2==0:\n",
        "    sum_+=i\n",
        "  i+=1\n",
        "print(\"The sum of even number between 1 and 100 is---->\",sum_)"
      ],
      "metadata": {
        "id": "O1o_SUDK0Uf8",
        "outputId": "7d22df43-c803-45fb-faf2-562e7a9232b9",
        "colab": {
          "base_uri": "https://localhost:8080/"
        }
      },
      "execution_count": null,
      "outputs": [
        {
          "output_type": "stream",
          "name": "stdout",
          "text": [
            "The sum of even number between 1 and 100 is----> 2550\n"
          ]
        }
      ]
    },
    {
      "cell_type": "markdown",
      "source": [
        "16. Write a program that prompts the user for two numbers A\n",
        "and B and displays all numbers between A and B."
      ],
      "metadata": {
        "id": "mpi7iYu66zv1"
      }
    },
    {
      "cell_type": "code",
      "source": [
        "num1 = int(input(\"enter the first number \\n\"))\n",
        "num2 = int(input(\"enter the second  number \\n\"))\n",
        "\n",
        "start = min(num1,num2)\n",
        "end_ = max(num1,num2)\n",
        "for i in range(start+1,end_):\n",
        "  print(i,end=' ')\n"
      ],
      "metadata": {
        "id": "uBJ-abhs61mV",
        "outputId": "c48d54a1-6f37-44a0-dc09-18b269c30178",
        "colab": {
          "base_uri": "https://localhost:8080/"
        }
      },
      "execution_count": null,
      "outputs": [
        {
          "output_type": "stream",
          "name": "stdout",
          "text": [
            "enter the first number \n",
            "45\n",
            "enter the second  number \n",
            "32\n",
            "33 34 35 36 37 38 39 40 41 42 43 44 "
          ]
        }
      ]
    },
    {
      "cell_type": "markdown",
      "source": [
        "17. Write a Python Program to Check Armstrong Number?\n",
        "\n",
        "For example, let's consider the number 153:\n",
        "It has three digits (1, 5, and 3).\n",
        "\n",
        "If we calculate 1^3 + 5^3 +3^3  , we get , which is equal to .\n",
        "\n",
        "So, 153 is an Armstrong number because it equals the sum of its digits raised to the power\n",
        "of the number of digits in the number"
      ],
      "metadata": {
        "id": "EaMsA7p6zCOC"
      }
    },
    {
      "cell_type": "code",
      "source": [
        "number=int(input(\"enter the number \\n\"))   #153\n",
        "total = 0       #initiate Total\n",
        "temp = number     #temp=153  Store the original number in a temporary variable\n",
        "while temp>0:       #checking the condition\n",
        "  digit = temp%10   #153%10 = 3  Extract the last digit of temp\n",
        "  cube= digit**3       #3^3=27\n",
        "  total+=cube           #0+27=27\n",
        "  temp = temp//10        #updating temp variable  temp = 153/10 = 15 Remove the last digit from temp\n",
        "if total==number:\n",
        "  print(\"Its an Armstrong Number\")\n",
        "else:\n",
        "  print(\"Its not an Armstrong Number\")"
      ],
      "metadata": {
        "id": "5EfZqTCRzSMT",
        "outputId": "5a70c883-c043-40e2-bf43-b29daea90e1f",
        "colab": {
          "base_uri": "https://localhost:8080/"
        }
      },
      "execution_count": null,
      "outputs": [
        {
          "output_type": "stream",
          "name": "stdout",
          "text": [
            "enter the number \n",
            "370\n",
            "Its an Armstrong Number\n"
          ]
        }
      ]
    },
    {
      "cell_type": "code",
      "source": [
        "num = int(input())\n",
        "sum_of_cubes = sum(map(lambda x: int(x)**3, str(num)))\n",
        "\n",
        "if sum_of_cubes == num:\n",
        "    print('It is an Armstrong Number')\n",
        "else:\n",
        "    print(\"It is not an Armstrong number\")"
      ],
      "metadata": {
        "id": "h9DEAK8F4SpW"
      },
      "execution_count": null,
      "outputs": []
    },
    {
      "cell_type": "markdown",
      "source": [
        "18. Write a Python Program to Find Armstrong Number in an Interval."
      ],
      "metadata": {
        "id": "bMb8yf_M7C3A"
      }
    },
    {
      "cell_type": "code",
      "source": [
        "lower = int(input(\"Enter the lower limit of the interval: \"))\n",
        "upper = int(input(\"Enter the upper limit of the interval: \"))\n",
        "for num in range(lower, upper + 1):  # Iterate through the numbers in the given interval\n",
        "    temp_num = num\n",
        "    total = 0\n",
        "    while temp_num > 0:            # Loop through each digit of the number\n",
        "        digit = temp_num % 10         # Extract the last digit of temp_num\n",
        "        cube = digit ** 3                # Calculate the cube of the digit\n",
        "        total += cube                      # Add the cube of the digit to the total\n",
        "        temp_num //= 10                      # Remove the last digit from temp_num\n",
        "    if total == num:                           # Check if the number is an Armstrong number\n",
        "        print(num)\n"
      ],
      "metadata": {
        "id": "lSkvc-Ug7oyT",
        "outputId": "9d6d27eb-6ac9-4e2e-b1c2-050e92a20c4b",
        "colab": {
          "base_uri": "https://localhost:8080/"
        }
      },
      "execution_count": null,
      "outputs": [
        {
          "output_type": "stream",
          "name": "stdout",
          "text": [
            "Enter the lower limit of the interval: 1\n",
            "Enter the upper limit of the interval: 500\n",
            "1\n",
            "153\n",
            "370\n",
            "371\n",
            "407\n"
          ]
        },
        {
          "output_type": "execute_result",
          "data": {
            "text/plain": [
              "5"
            ]
          },
          "metadata": {},
          "execution_count": 15
        }
      ]
    },
    {
      "cell_type": "markdown",
      "source": [
        "19. Write a Python Program to find largest element in an array."
      ],
      "metadata": {
        "id": "5X8L_pvgHjxs"
      }
    },
    {
      "cell_type": "code",
      "source": [
        "my_array = [10, 20, 30, 99]\n",
        "\n",
        "def largest_num():\n",
        "  for num in my_array:\n",
        "    return max(my_array)\n",
        "print(largest_num())\n"
      ],
      "metadata": {
        "id": "Eupdycl89hop",
        "outputId": "5d4672d3-fa78-4d52-816d-2a4715ec5c5d",
        "colab": {
          "base_uri": "https://localhost:8080/"
        }
      },
      "execution_count": null,
      "outputs": [
        {
          "output_type": "stream",
          "name": "stdout",
          "text": [
            "99\n"
          ]
        }
      ]
    },
    {
      "cell_type": "code",
      "source": [
        "my_array = [10, 20, 30, 99]\n",
        "largest_ = my_array[0]\n",
        "def largest_number():\n",
        "  largest_ = my_array[0]\n",
        "  for num in my_array:\n",
        "    if num>largest_:\n",
        "        largest_ =num\n",
        "    else:\n",
        "        largest_=largest_\n",
        "  return largest_\n",
        "print(largest_number())"
      ],
      "metadata": {
        "id": "hu6xAZYIIaPc",
        "outputId": "fe889dfe-cd6b-4bda-aadf-39b7e48e5b15",
        "colab": {
          "base_uri": "https://localhost:8080/"
        }
      },
      "execution_count": null,
      "outputs": [
        {
          "output_type": "stream",
          "name": "stdout",
          "text": [
            "99\n"
          ]
        }
      ]
    },
    {
      "cell_type": "markdown",
      "source": [
        "20. Write a Python Program for array rotation."
      ],
      "metadata": {
        "id": "gALchHYKJjzD"
      }
    },
    {
      "cell_type": "code",
      "source": [
        "arr = [1, 2, 3, 4, 5]\n",
        "d = 2\n",
        "def rotate_array(arr, d):\n",
        "    n = len(arr)\n",
        "\n",
        "    # Check if 'd' is valid, it should be within the range of array length\n",
        "    if d < 0 or d >= n:\n",
        "        print(\"Invalid rotation value\")\n",
        "\n",
        "    return arr[-d:] + arr[:-d]\n",
        "\n",
        "\n",
        "rotated_arr = rotate_array(arr, d)\n",
        "print(\"Original array:\", arr)\n",
        "print(\"Rotated array:\", rotated_arr)"
      ],
      "metadata": {
        "id": "ylbfpcy_JnEA",
        "outputId": "824b4827-8129-448c-a850-135830a2df7b",
        "colab": {
          "base_uri": "https://localhost:8080/"
        }
      },
      "execution_count": null,
      "outputs": [
        {
          "output_type": "stream",
          "name": "stdout",
          "text": [
            "Original array: [1, 2, 3, 4, 5]\n",
            "Rotated array: [4, 5, 1, 2, 3]\n"
          ]
        }
      ]
    },
    {
      "cell_type": "markdown",
      "source": [
        "21. Write a Python Program to Split the array and add the first part to the end?"
      ],
      "metadata": {
        "id": "rZWvxjp1NeZa"
      }
    },
    {
      "cell_type": "code",
      "source": [
        "arr = list(range(7))\n",
        "n=len(arr)\n",
        "k = int(input())\n",
        "def first_last(arr,k):\n",
        "  if k<=0 or k> n:\n",
        "    return arr\n",
        "  first=arr[:k]\n",
        "  last = arr[k:]\n",
        "  return last + first\n",
        "final =(first_last(arr,k))\n",
        "print(\"initial array\",arr)\n",
        "print('Final Array',final)"
      ],
      "metadata": {
        "id": "08CnEFasNgfQ",
        "outputId": "331346f6-40b9-4c4b-8361-d42867a1f737",
        "colab": {
          "base_uri": "https://localhost:8080/"
        }
      },
      "execution_count": null,
      "outputs": [
        {
          "output_type": "stream",
          "name": "stdout",
          "text": [
            "87\n",
            "initial array [0, 1, 2, 3, 4, 5, 6]\n",
            "Final Array [0, 1, 2, 3, 4, 5, 6]\n"
          ]
        }
      ]
    },
    {
      "cell_type": "markdown",
      "source": [
        "22. Write a program that asks the user for a number N and\n",
        "says whether it is prime or not."
      ],
      "metadata": {
        "id": "LvlUou_wVKAZ"
      }
    },
    {
      "cell_type": "code",
      "source": [
        "num = int(input(\"enter the number \\n\"))\n",
        "if num==1:\n",
        "  print(\"Its not a prime Number\")\n",
        "elif num==2:\n",
        "  print(\"Its prime Number\")\n",
        "else:\n",
        "  for i in range(2,num):\n",
        "    if num%i==0:\n",
        "      print('Its not prime')\n",
        "      break\n",
        "  else:\n",
        "      print('Its prime')"
      ],
      "metadata": {
        "id": "zawEBKOTWFeQ",
        "outputId": "656e4736-4e98-4871-fe41-80a721d10589",
        "colab": {
          "base_uri": "https://localhost:8080/"
        }
      },
      "execution_count": null,
      "outputs": [
        {
          "output_type": "stream",
          "name": "stdout",
          "text": [
            "enter the number \n",
            "47\n",
            "Its prime\n"
          ]
        }
      ]
    },
    {
      "cell_type": "code",
      "source": [
        "num= int(input(\"please enter the number \\n\"))\n",
        "def check_prime(num):\n",
        "  if num==1:\n",
        "    return 'Its not a prime'\n",
        "  elif num==2:\n",
        "    return 'Its a prime'\n",
        "  else:\n",
        "    for i in range(2,num):\n",
        "      if num%i==0:\n",
        "        return 'Its not a prime'\n",
        "        break\n",
        "    else:\n",
        "      return 'Its a Prime'\n",
        "\n",
        "final=check_prime(num)\n",
        "print(final)"
      ],
      "metadata": {
        "id": "RCMwL0o-qkoV",
        "outputId": "90489873-65ce-4dd3-a450-707fe8e28b45",
        "colab": {
          "base_uri": "https://localhost:8080/"
        }
      },
      "execution_count": null,
      "outputs": [
        {
          "output_type": "stream",
          "name": "stdout",
          "text": [
            "please enter the number \n",
            "12\n",
            "Its not a prime\n"
          ]
        }
      ]
    },
    {
      "cell_type": "code",
      "source": [
        "# prime number between ranges\n",
        "lower_limit=int(input())\n",
        "upper_limit =int(input())\n",
        "for num in range (lower_limit,upper_limit+1):\n",
        "      if num ==1:\n",
        "        print(\"1 its not a prime number\")\n",
        "      elif num > 1:\n",
        "        for i in range (2,num):\n",
        "          if num % i ==0:\n",
        "            break\n",
        "        else:\n",
        "          print(num)"
      ],
      "metadata": {
        "id": "msYbrxErtPo6",
        "outputId": "4b2136cb-bc96-4dd4-d88b-bfedb3d4ffcd",
        "colab": {
          "base_uri": "https://localhost:8080/"
        }
      },
      "execution_count": null,
      "outputs": [
        {
          "output_type": "stream",
          "name": "stdout",
          "text": [
            "1\n",
            "25\n",
            "1 its not a prime number\n",
            "2\n",
            "3\n",
            "5\n",
            "7\n",
            "11\n",
            "13\n",
            "17\n",
            "19\n",
            "23\n"
          ]
        }
      ]
    },
    {
      "cell_type": "markdown",
      "source": [
        "23. Create a program that displays the first N first perfect\n",
        "squares, where N is informed by the user, using a loop."
      ],
      "metadata": {
        "id": "tf8MIk5ytMlG"
      }
    },
    {
      "cell_type": "code",
      "source": [
        "n =int(input(\"enter the number \\n\"))\n",
        "num=1\n",
        "count=0\n",
        "while count<n:\n",
        "  square = num**2\n",
        "  print(square,end=' ')\n",
        "  count+=1\n",
        "  num+=1"
      ],
      "metadata": {
        "id": "ZDAc0R1CtVP-",
        "outputId": "ec794b54-9699-4b94-d7a7-b5272c4560da",
        "colab": {
          "base_uri": "https://localhost:8080/"
        }
      },
      "execution_count": null,
      "outputs": [
        {
          "output_type": "stream",
          "name": "stdout",
          "text": [
            "enter the number \n",
            "6\n",
            "1 4 9 16 25 36 "
          ]
        }
      ]
    },
    {
      "cell_type": "markdown",
      "source": [
        "24. Write a program that prompts the user for a sentence and\n",
        "displays the number of vowels in the sentence."
      ],
      "metadata": {
        "id": "DxwgM6yevpyS"
      }
    },
    {
      "cell_type": "code",
      "source": [
        "words = input(\"please enter any word \\n \")\n",
        "vowel_count=0\n",
        "words = words.lower()\n",
        "for word in words:\n",
        "  if word in 'aeiou':\n",
        "    vowel_count+=1\n",
        "print(\"The number of vowles present in words is\",vowel_count)\n"
      ],
      "metadata": {
        "id": "t3nkt8vzvrU2",
        "outputId": "fc383c0a-e02f-4f44-fcfc-dbba4e79470d",
        "colab": {
          "base_uri": "https://localhost:8080/"
        }
      },
      "execution_count": null,
      "outputs": [
        {
          "output_type": "stream",
          "name": "stdout",
          "text": [
            "please enter any word \n",
            " Ankit Chauhan\n",
            "The number of vowles present in words is 5\n"
          ]
        }
      ]
    },
    {
      "cell_type": "markdown",
      "source": [
        "25. Write a program that prompts the user for a number and\n",
        "displays its divisors"
      ],
      "metadata": {
        "id": "uaxvoqD8wzgc"
      }
    },
    {
      "cell_type": "code",
      "source": [
        "number=int(input(\"enter the number \\n\"))\n",
        "for num in range(1,number+1):\n",
        "  if number % num==0:\n",
        "    print(num,end=' ')\n"
      ],
      "metadata": {
        "id": "JGIGEvE-w2Ds",
        "outputId": "e31a792c-53ae-444c-ac66-80f53c02293b",
        "colab": {
          "base_uri": "https://localhost:8080/"
        }
      },
      "execution_count": null,
      "outputs": [
        {
          "output_type": "stream",
          "name": "stdout",
          "text": [
            "enter the number \n",
            "15\n",
            "1 3 5 15 "
          ]
        }
      ]
    },
    {
      "cell_type": "markdown",
      "source": [
        "26. Write a Python Program to Find LCM."
      ],
      "metadata": {
        "id": "uPWS-ys-uDZo"
      }
    },
    {
      "cell_type": "code",
      "source": [
        "x=int(input())     #54\n",
        "y=int(input())     #72\n",
        "def chcek_lcm(x,y):\n",
        "  max_=max(x,y)    #max=72\n",
        "  multiple = max_     #multiple =72\n",
        "  while True:\n",
        "    if multiple% x==0 and multiple %y==0:     #check 72%54==0(no) 72%72==0 (yes)  soo condition didnt setisfy\n",
        "      return multiple\n",
        "    else:\n",
        "      multiple+=max_                        #soo condition didnt setisfy it comes in else where it upade value of multiple =144 and then check again\n",
        "final=chcek_lcm(x,y)\n",
        "\n",
        "print(f\"The lcm of {x},{y} is {final}\")"
      ],
      "metadata": {
        "id": "en7zIYWluIFr",
        "outputId": "bcea6fa4-cb2f-458a-89c1-c909d1e73845",
        "colab": {
          "base_uri": "https://localhost:8080/"
        }
      },
      "execution_count": null,
      "outputs": [
        {
          "output_type": "stream",
          "name": "stdout",
          "text": [
            "25\n",
            "215\n",
            "The lcm of 25,215 is 1075\n"
          ]
        }
      ]
    },
    {
      "cell_type": "markdown",
      "source": [
        "27. Find the Hcf of 2 number"
      ],
      "metadata": {
        "id": "hwglYoZK1XPO"
      }
    },
    {
      "cell_type": "code",
      "source": [
        "def hcf(x, y):\n",
        "    while y:\n",
        "        x, y = y, x % y  # 24,36 = 36,24%36\n",
        "    return x\n",
        "\n",
        "# Test the function\n",
        "num1 = int(input(\"Enter first number: \"))\n",
        "num2 = int(input(\"Enter second number: \"))\n",
        "\n",
        "print(\"The HCF of\", num1, \"and\", num2, \"is\", hcf(num1, num2))\n"
      ],
      "metadata": {
        "id": "N2qzlUu31WbT",
        "outputId": "521f1d89-bb89-4451-e78d-6fd6d8ca30a8",
        "colab": {
          "base_uri": "https://localhost:8080/"
        }
      },
      "execution_count": null,
      "outputs": [
        {
          "output_type": "stream",
          "name": "stdout",
          "text": [
            "Enter first number: 24\n",
            "Enter second number: 36\n",
            "The HCF of 24 and 36 is 12\n"
          ]
        }
      ]
    },
    {
      "cell_type": "code",
      "source": [
        "# define a function\n",
        "def compute_hcf(x, y):\n",
        "# choose the smaller number\n",
        " if x > y:\n",
        "  smaller = y\n",
        " else:\n",
        "  smaller = x\n",
        " for i in range(1, smaller+1):\n",
        "  if((x % i == 0) and (y % i == 0)):\n",
        "    hcf = i\n",
        " return hcf\n",
        "num1 = int(input('Enter the number: '))\n",
        "num2 = int(input('Enter the number: '))\n",
        "print(\"The H.C.F. is\", compute_hcf(num1, num2))"
      ],
      "metadata": {
        "id": "VZ60IqU-2PSk",
        "outputId": "dbe29ae6-672d-4fdc-911d-8e54f42bbe17",
        "colab": {
          "base_uri": "https://localhost:8080/"
        }
      },
      "execution_count": null,
      "outputs": [
        {
          "output_type": "stream",
          "name": "stdout",
          "text": [
            "Enter the number: 24\n",
            "Enter the number: 36\n",
            "The H.C.F. is 12\n"
          ]
        }
      ]
    },
    {
      "cell_type": "markdown",
      "source": [
        "28. Create a program that reads an array of integers and\n",
        "checks that all elements are even"
      ],
      "metadata": {
        "id": "Db67nEmb69_S"
      }
    },
    {
      "cell_type": "code",
      "source": [
        "arr = [21, 6, 8, 12, 56, 86]\n",
        "is_even = False\n",
        "\n",
        "for num in arr:\n",
        "    if num % 2 != 0:  # Checking if the number is not even\n",
        "        is_even = False\n",
        "        break\n",
        "    else:\n",
        "        is_even = True\n",
        "\n",
        "if is_even:\n",
        "    print(\"All numbers are even\")\n",
        "else:\n",
        "    print(\"all numbers are not even\")\n"
      ],
      "metadata": {
        "colab": {
          "base_uri": "https://localhost:8080/"
        },
        "id": "NmDKaFK37FYM",
        "outputId": "ab9471c2-ebd8-4625-a301-e7e4299b552d"
      },
      "execution_count": null,
      "outputs": [
        {
          "output_type": "stream",
          "name": "stdout",
          "text": [
            "all numbers are not even\n"
          ]
        }
      ]
    },
    {
      "cell_type": "markdown",
      "source": [
        "29. Write a program that reads a word and checks if it is a\n",
        "palindrome (if it can be read backwards the same way)."
      ],
      "metadata": {
        "id": "ZGASz_YrH4l5"
      }
    },
    {
      "cell_type": "code",
      "source": [
        "words = input(\"Please enter the word\")\n",
        "def check_palindrome(words):\n",
        "  words=words.lower()\n",
        "  if words==words[::-1]:\n",
        "    return \"Its a Palindrome\"\n",
        "  else:\n",
        "    return \"Its not a Palindrome\"\n",
        "final= check_palindrome(words)\n",
        "print(final)"
      ],
      "metadata": {
        "colab": {
          "base_uri": "https://localhost:8080/"
        },
        "id": "M4xtoEfEILrg",
        "outputId": "aefaba83-b39a-409a-e51b-e85a845687be"
      },
      "execution_count": null,
      "outputs": [
        {
          "output_type": "stream",
          "name": "stdout",
          "text": [
            "Please enter the wordANknA\n",
            "Its a Palindrome\n"
          ]
        }
      ]
    },
    {
      "cell_type": "markdown",
      "source": [
        "30. Create a program that reads two words and checks if the\n",
        "second word is an anagram of the first."
      ],
      "metadata": {
        "id": "7JqnyOjLKCVu"
      }
    },
    {
      "cell_type": "code",
      "source": [
        "words1=input(\"Enter the first word \\n\")\n",
        "words2=input(\"Enter the Second word \\n\")\n",
        "def check_anagram(words1,words2):\n",
        "  words1=words1.lower()\n",
        "  words2=words2.lower()\n",
        "  if len(words1)!=len(words2):\n",
        "    return (\"Its not a Anagram\")\n",
        "  else:\n",
        "    if sorted(words1)==sorted(words2):\n",
        "      return (\"Its an Anagram\")\n",
        "    else:\n",
        "      return (\"Its not a Anagram\")\n",
        "final=check_anagram(words1,words2)\n",
        "print(final)"
      ],
      "metadata": {
        "colab": {
          "base_uri": "https://localhost:8080/"
        },
        "id": "XHwTAd6JKD9I",
        "outputId": "d2a1b063-8151-49b9-ffbc-c5046ae0fd7c"
      },
      "execution_count": null,
      "outputs": [
        {
          "output_type": "stream",
          "name": "stdout",
          "text": [
            "Enter the first word \n",
            "ankit\n",
            "Enter the Second word \n",
            "chuahan\n",
            "Its not a Anagram\n"
          ]
        }
      ]
    },
    {
      "cell_type": "markdown",
      "source": [
        "31. Write a program that takes a full name and displays only\n",
        "the first name"
      ],
      "metadata": {
        "id": "6ahb76IgL-jA"
      }
    },
    {
      "cell_type": "code",
      "source": [
        "name = input(\"Please enter your full name \\n\")\n",
        "final=name.split(\" \")\n",
        "first_name = final[0]\n",
        "last_name = final[1]\n",
        "print(f\"First name of the word {name}is {first_name}\")\n",
        "print(f\"Last name of the word {name} is {last_name}\")"
      ],
      "metadata": {
        "colab": {
          "base_uri": "https://localhost:8080/"
        },
        "id": "jFTEPRYhMOLk",
        "outputId": "3477439e-12af-4be5-dee8-2d298978ae6f"
      },
      "execution_count": null,
      "outputs": [
        {
          "output_type": "stream",
          "name": "stdout",
          "text": [
            "Please enter your full name \n",
            "Ankit Chauhan\n",
            "First name of the word Ankit Chauhanis Ankit\n",
            "Last name of the word Ankit Chauhan is Chauhan\n"
          ]
        }
      ]
    },
    {
      "cell_type": "markdown",
      "source": [
        "32. Create a program that reads a word and displays the\n",
        "number of vowels present in it"
      ],
      "metadata": {
        "id": "wYdT7RYRMxL4"
      }
    },
    {
      "cell_type": "code",
      "source": [
        "words= input(\"please enter the word \\n\")\n",
        "count_vowels=0\n",
        "for word in words.lower():\n",
        "  if word in 'a,e,i,o,u':\n",
        "    count_vowels+=1\n",
        "print(f\"Total number of vowels present in {words.lower()} is {count_vowels}\")\n"
      ],
      "metadata": {
        "colab": {
          "base_uri": "https://localhost:8080/"
        },
        "id": "Qm4s3T3XMyc6",
        "outputId": "ed2ed5bf-3b9c-4ab1-8a79-7910fbc5c0a8"
      },
      "execution_count": null,
      "outputs": [
        {
          "output_type": "stream",
          "name": "stdout",
          "text": [
            "please enter the word \n",
            "Ankit chauhan\n",
            "Total number of vowels present in ankit chauhan is 5\n"
          ]
        }
      ]
    },
    {
      "cell_type": "markdown",
      "source": [
        "33. Write a program that fills a 3x3 matrix with values entered\n",
        "by the user and displays the sum of the main diagonal values."
      ],
      "metadata": {
        "id": "a2dSoOJYPNR0"
      }
    },
    {
      "cell_type": "markdown",
      "source": [
        "34. find the missing number in an array\n"
      ],
      "metadata": {
        "id": "zgJqJcOu4p8V"
      }
    },
    {
      "cell_type": "code",
      "source": [
        "a=[1,2,4,5,6,7]\n",
        "def get_missing_number():\n",
        "  n=a[-1]\n",
        "  sum_ = 0\n",
        "  total = n*(n+1)//2\n",
        "  sum_=sum(a)\n",
        "  final=total-sum_\n",
        "  return final\n",
        "print(get_missing_number())\n",
        "\n"
      ],
      "metadata": {
        "id": "15ggCAcj4uGU",
        "outputId": "3025033f-a32f-4969-a3c5-9fdc5911df25",
        "colab": {
          "base_uri": "https://localhost:8080/"
        }
      },
      "execution_count": null,
      "outputs": [
        {
          "output_type": "stream",
          "name": "stdout",
          "text": [
            "7\n",
            "3\n"
          ]
        }
      ]
    },
    {
      "cell_type": "markdown",
      "source": [
        "35. Check the Largest and Smallest number from an Array"
      ],
      "metadata": {
        "id": "dYgbv0si5ogC"
      }
    },
    {
      "cell_type": "code",
      "source": [
        "array = [3, 8, 1, 6, 2, 10, 4, 7, 5, 9]\n",
        "\n",
        "def largest_small(arr):\n",
        "\n",
        "    large_ = arr[0]\n",
        "    small_ = arr[0]\n",
        "\n",
        "\n",
        "    for num in arr:\n",
        "        if num > large_:\n",
        "            large_ = num\n",
        "        elif num < small_:\n",
        "            small_ = num\n",
        "\n",
        "    return large_, small_\n",
        "\n",
        "\n",
        "largest, smallest = largest_small(array)\n"
      ],
      "metadata": {
        "id": "wRgw6DDM5trc"
      },
      "execution_count": null,
      "outputs": []
    },
    {
      "cell_type": "code",
      "source": [
        "import numpy as np\n",
        "array = [3, 8, 1, 6, 2, 10, 4, 7, 5, 9]\n",
        "final=np.sort(array)\n",
        "smallest_ = final[0]\n",
        "biggest = final[-1]\n",
        "print(smallest_)\n",
        "print(biggest)"
      ],
      "metadata": {
        "id": "dUWxhy396PyY",
        "outputId": "8cd9a58d-880e-4da0-a06b-7615865e6bb1",
        "colab": {
          "base_uri": "https://localhost:8080/"
        }
      },
      "execution_count": null,
      "outputs": [
        {
          "output_type": "stream",
          "name": "stdout",
          "text": [
            "1\n",
            "10\n"
          ]
        }
      ]
    },
    {
      "cell_type": "markdown",
      "source": [
        "36. Write a Python program to calculate the sum and average of n integer numbers (input from the user). Input 0 to finish."
      ],
      "metadata": {
        "id": "SuZ3MMsWCYak"
      }
    },
    {
      "cell_type": "code",
      "source": [
        "#write your code inside main function\n",
        "count = 0\n",
        "sum = 0.0\n",
        "number = 1\n",
        "\n",
        "while number != 0:\n",
        "        number = int(input(\"\"))\n",
        "        sum = sum + number\n",
        "        count += 1\n",
        "\n",
        "if count == 0:\n",
        "        print(\"Input some numbers\")\n",
        "else:\n",
        "        print(\"Average and Sum of the above numbers are:\", sum / (count-1), sum)"
      ],
      "metadata": {
        "id": "UWduMC_tCbtR",
        "outputId": "272c89be-cdcf-4904-b3af-c944217e9752",
        "colab": {
          "base_uri": "https://localhost:8080/"
        }
      },
      "execution_count": null,
      "outputs": [
        {
          "output_type": "stream",
          "name": "stdout",
          "text": [
            "12\n",
            "3\n",
            "45\n",
            "12\n",
            "0\n",
            "Average and Sum of the above numbers are: 18.0 72.0\n"
          ]
        }
      ]
    },
    {
      "cell_type": "markdown",
      "source": [
        "38. Write a Python program to compute the cumulative sum of numbers in a given list. Note: Cumulative sum = sum of itself + all previous numbers in the said list.\n",
        "\n"
      ],
      "metadata": {
        "id": "_ErTZFaTFzn7"
      }
    },
    {
      "cell_type": "code",
      "source": [
        "def nums_cumulative_sum(nums_list):\n",
        "  return [sum(nums_list[:i+1]) for i in range(len(nums_list))]\n",
        "\n",
        "lst = eval(input())\n",
        "print(nums_cumulative_sum(lst))\n"
      ],
      "metadata": {
        "id": "r_VH41zdF20b"
      },
      "execution_count": null,
      "outputs": []
    },
    {
      "cell_type": "code",
      "source": [
        "def cumulative_sum(nums):\n",
        "    cumulative = []\n",
        "    total = 0\n",
        "    for num in nums:\n",
        "        total += num\n",
        "        cumulative.append(total)\n",
        "    return cumulative\n",
        "\n",
        "# Test the function with the given list\n",
        "nums = [10, 20, 30, 40, 50, 60, 7]\n",
        "print(cumulative_sum(nums))"
      ],
      "metadata": {
        "id": "MHMm_MDHF7sR",
        "outputId": "ff396099-ae37-43a0-bc6f-c0d1326284b0",
        "colab": {
          "base_uri": "https://localhost:8080/"
        }
      },
      "execution_count": null,
      "outputs": [
        {
          "output_type": "stream",
          "name": "stdout",
          "text": [
            "[10, 30, 60, 100, 150, 210, 217]\n"
          ]
        }
      ]
    },
    {
      "cell_type": "markdown",
      "source": [
        "39. Write a python program soo thats first all the even numbers appears and later odd\n",
        "\n",
        "[1,2,3,4,5,6,7,8,9]--->>>[2,4,6,8,1,3,5,7,9]\n"
      ],
      "metadata": {
        "id": "kMiCw5x0sCUM"
      }
    },
    {
      "cell_type": "code",
      "source": [
        "lst=[1,2,3,4,5,6,7,8,9]\n",
        "even=[]\n",
        "odd=[]\n",
        "def new_lst(x):\n",
        "  for num in x:\n",
        "    if num%2==0:\n",
        "      even.append(num)\n",
        "    else:\n",
        "      odd.append(num)\n",
        "  return even+odd\n",
        "print(new_lst(lst))"
      ],
      "metadata": {
        "id": "8pgyOSCCsMH7",
        "outputId": "eebd8576-4d3e-4cc8-d443-88edc305c5fd",
        "colab": {
          "base_uri": "https://localhost:8080/"
        }
      },
      "execution_count": null,
      "outputs": [
        {
          "output_type": "stream",
          "name": "stdout",
          "text": [
            "[2, 4, 6, 8, 1, 3, 5, 7, 9]\n"
          ]
        }
      ]
    },
    {
      "cell_type": "code",
      "source": [
        "import numpy as np\n",
        "\n",
        "lst = [13,45,87,76]\n",
        "lst = np.sort(lst)\n",
        "\n",
        "if len(lst) % 2 == 0:  # If the list length is even\n",
        "    mid1 = len(lst) // 2\n",
        "    mid2 = mid1 - 1\n",
        "    median = (lst[mid1] + lst[mid2]) / 2\n",
        "else:  # If the list length is odd\n",
        "    mid = len(lst) // 2\n",
        "    median = lst[mid]\n",
        "\n",
        "print(median)\n"
      ],
      "metadata": {
        "id": "D5UZrAayzmqG",
        "outputId": "03045e7f-2153-4254-f128-920aa89a9680",
        "colab": {
          "base_uri": "https://localhost:8080/"
        }
      },
      "execution_count": null,
      "outputs": [
        {
          "output_type": "stream",
          "name": "stdout",
          "text": [
            "60.5\n"
          ]
        }
      ]
    },
    {
      "cell_type": "markdown",
      "source": [
        "40. Concating 2 string"
      ],
      "metadata": {
        "id": "0H02dF0-FoKR"
      }
    },
    {
      "cell_type": "code",
      "source": [
        "names = ['Ankit ','Amit','Pawan','Ajay','Raman']\n",
        "final='-'.join(names)\n",
        "print(final)"
      ],
      "metadata": {
        "id": "cXYafAU2G1E1",
        "outputId": "8a41c7b7-9c81-40fb-ce48-c69bb9c53505",
        "colab": {
          "base_uri": "https://localhost:8080/"
        }
      },
      "execution_count": null,
      "outputs": [
        {
          "output_type": "stream",
          "name": "stdout",
          "text": [
            "Ankit -Amit-Pawan-Ajay-Raman\n"
          ]
        }
      ]
    },
    {
      "cell_type": "markdown",
      "source": [
        "41. Write a Python program to find the longest length of word from sentance"
      ],
      "metadata": {
        "id": "t9e_LaqbDK-C"
      }
    },
    {
      "cell_type": "code",
      "source": [
        "sentance_='hey ankit how are you and how are you doings'\n",
        "def max_len(sentance_):\n",
        "  new =sentance_.split(' ')\n",
        "  return max(new,key=len)\n",
        "\n",
        "print(max_len(sentance_))\n"
      ],
      "metadata": {
        "id": "eCHm9IQkBXdX",
        "outputId": "79a77485-f888-4913-f41b-424bb656f81e",
        "colab": {
          "base_uri": "https://localhost:8080/"
        }
      },
      "execution_count": null,
      "outputs": [
        {
          "output_type": "stream",
          "name": "stdout",
          "text": [
            "doings\n"
          ]
        }
      ]
    },
    {
      "cell_type": "code",
      "source": [
        "import string\n",
        "\n",
        "def is_pangram(sentence):\n",
        "    alphabet = set(string.ascii_lowercase)\n",
        "    sentence = sentence.lower()\n",
        "    # Remove non-alphabetic characters\n",
        "    sentence = ''.join(char for char in sentence if char.isalpha())\n",
        "    # Check if all letters in alphabet are present in the sentence\n",
        "    return set(sentence) >= alphabet\n",
        "\n",
        "# Example usage:\n",
        "sentence = \"The quick brown fox jumps over the lazy dog\"\n",
        "if is_pangram(sentence):\n",
        "    print(\"The sentence is a pangram.\")\n",
        "else:\n",
        "    print(\"The sentence is not a pangram.\")\n"
      ],
      "metadata": {
        "id": "x5BlD9Ect44U",
        "outputId": "0b6b1245-699d-4793-994b-d0e40ffd3102",
        "colab": {
          "base_uri": "https://localhost:8080/"
        }
      },
      "execution_count": null,
      "outputs": [
        {
          "output_type": "stream",
          "name": "stdout",
          "text": [
            "The sentence is a pangram.\n"
          ]
        }
      ]
    },
    {
      "cell_type": "code",
      "source": [
        "sentance='hey ankit how are you and how are you doing'\n",
        "\n",
        "new = sentance.split(' ')\n",
        "print(new)\n",
        "print(len(new))\n"
      ],
      "metadata": {
        "id": "qeRdgDtcu5WV",
        "outputId": "25f8bbeb-2100-4835-8f71-a5032633f67f",
        "colab": {
          "base_uri": "https://localhost:8080/"
        }
      },
      "execution_count": null,
      "outputs": [
        {
          "output_type": "stream",
          "name": "stdout",
          "text": [
            "['hey', 'ankit', 'how', 'are', 'you', 'and', 'how', 'are', 'you', 'doing']\n",
            "10\n"
          ]
        }
      ]
    },
    {
      "cell_type": "code",
      "source": [
        "lst = ['hey', 'ankit', 'how', 'are', 'you', 'and', 'how', 'are', 'you', 'doing','comeher']\n",
        "n=[]\n",
        "for name in lst:\n",
        "  if len(name)>=5:\n",
        "    n.append(name)\n",
        "print(n)"
      ],
      "metadata": {
        "id": "-7UOTr6_KiaV",
        "outputId": "feb9e5bd-907c-4567-c2ef-4f5cf5f84824",
        "colab": {
          "base_uri": "https://localhost:8080/"
        }
      },
      "execution_count": null,
      "outputs": [
        {
          "output_type": "stream",
          "name": "stdout",
          "text": [
            "['ankit', 'doing', 'comeher']\n"
          ]
        }
      ]
    },
    {
      "cell_type": "code",
      "source": [
        "def maximum_product(nums):\n",
        "    nums.sort()  # Step 1: Sort the input list of integers\n",
        "\n",
        "    # Step 2: Calculate the two possible cases for the maximum product\n",
        "    case1 = nums[-1] * nums[-2] * nums[-3]  # Product of the three largest positive numbers\n",
        "\n",
        "    # Product of the two smallest negative numbers and the largest positive number\n",
        "    case2 = nums[0] * nums[1] * nums[-1] if nums[0] * nums[1] > nums[-2] * nums[-3] else nums[-1] * nums[-2] * nums[-3]\n",
        "\n",
        "    # Step 3: Return the maximum of the two cases\n",
        "    return max(case1, case2)\n",
        "\n",
        "# Test the function\n",
        "nums = [1, 2, 3, 4]\n",
        "print(maximum_product(nums))\n"
      ],
      "metadata": {
        "id": "0qz7InRKm9Cy"
      },
      "execution_count": null,
      "outputs": []
    },
    {
      "cell_type": "code",
      "source": [
        "lst=[1,2,3,4,5]\n",
        "lst1=[3,4,5,6,7]\n",
        "print(list(set(lst) & set(lst1)))"
      ],
      "metadata": {
        "id": "kATocWWyM8uI",
        "outputId": "d8ab22ea-c00a-4720-b6ac-13ab725062ca",
        "colab": {
          "base_uri": "https://localhost:8080/"
        }
      },
      "execution_count": null,
      "outputs": [
        {
          "output_type": "stream",
          "name": "stdout",
          "text": [
            "[3, 4, 5]\n"
          ]
        }
      ]
    },
    {
      "cell_type": "markdown",
      "source": [
        "Create a function that takes a list of non-negative integers and strings and return a\n",
        "new list without the strings"
      ],
      "metadata": {
        "id": "D67HZxd8kOzH"
      }
    },
    {
      "cell_type": "code",
      "source": [
        "lst = ['ankit',12,45,'Jhon','Ravi',90,-46]\n",
        "new=[]\n",
        "for i in  lst :\n",
        "  if isinstance(i,int) and i>=0:\n",
        "    new.append(i)\n",
        "print(new)"
      ],
      "metadata": {
        "id": "gLFbOX_0jzer",
        "outputId": "18f5c09e-80f6-400b-fd25-a569599d73f8",
        "colab": {
          "base_uri": "https://localhost:8080/"
        }
      },
      "execution_count": null,
      "outputs": [
        {
          "output_type": "stream",
          "name": "stdout",
          "text": [
            "[12, 45, 90]\n"
          ]
        }
      ]
    },
    {
      "cell_type": "markdown",
      "source": [
        "The \"Reverser\" takes a string as input and returns that string in reverse order, with\n",
        "the opposite case"
      ],
      "metadata": {
        "id": "aKwEPJRrktW5"
      }
    },
    {
      "cell_type": "code",
      "source": [
        "name = input()\n",
        "def new_name(name):\n",
        "  return name[::-1].swapcase()\n",
        "print(new_name(name))"
      ],
      "metadata": {
        "id": "yllw9ZPXkuW2",
        "outputId": "51d7fda6-933a-4ff3-c7d3-6d8b88e4692b",
        "colab": {
          "base_uri": "https://localhost:8080/"
        }
      },
      "execution_count": null,
      "outputs": [
        {
          "output_type": "stream",
          "name": "stdout",
          "text": [
            "HeLlO aNkIt\n",
            "TiKnA oLlEh\n"
          ]
        }
      ]
    },
    {
      "cell_type": "markdown",
      "source": [
        "Create a function that takes a single string as argument and returns an ordered list\n",
        "containing the indices of all capital letters in the string"
      ],
      "metadata": {
        "id": "nwbCo3R7n1f3"
      }
    },
    {
      "cell_type": "code",
      "source": [
        "\n",
        "def nea_ind(word):\n",
        "  return [i for i,char in enumerate(word) if char.isupper()]\n",
        "print(nea_ind('HeLlO woRLd'))"
      ],
      "metadata": {
        "id": "HlzuaU0hn2TT",
        "outputId": "49ea647b-0b4d-4891-e688-e1727327d206",
        "colab": {
          "base_uri": "https://localhost:8080/"
        }
      },
      "execution_count": null,
      "outputs": [
        {
          "output_type": "stream",
          "name": "stdout",
          "text": [
            "[0, 2, 4, 8, 9]\n"
          ]
        }
      ]
    },
    {
      "cell_type": "code",
      "source": [
        "new =[ i for i in range(1,15) if i%2==0]\n",
        "print(new)"
      ],
      "metadata": {
        "id": "aQGtmILIpSPV",
        "outputId": "9a33914b-7a96-47f8-d6b1-96eaf0b17f3b",
        "colab": {
          "base_uri": "https://localhost:8080/"
        }
      },
      "execution_count": null,
      "outputs": [
        {
          "output_type": "stream",
          "name": "stdout",
          "text": [
            "[2, 4, 6, 8, 10, 12, 14]\n"
          ]
        }
      ]
    },
    {
      "cell_type": "markdown",
      "source": [
        "Create a function that takes a string and returns a string with its letters in\n",
        "alphabetical order"
      ],
      "metadata": {
        "id": "Ewsbf-42vjMr"
      }
    },
    {
      "cell_type": "code",
      "source": [
        "word = 'Ankit'\n",
        "\n",
        "def sorted_word(word):\n",
        "    return ''.join(sorted(word))\n",
        "\n",
        "print(sorted_word(word))\n"
      ],
      "metadata": {
        "id": "BLOV-Aw6vk9h",
        "outputId": "5b49c990-150a-472d-f48e-3ed3119d5b01",
        "colab": {
          "base_uri": "https://localhost:8080/"
        }
      },
      "execution_count": null,
      "outputs": [
        {
          "output_type": "stream",
          "name": "stdout",
          "text": [
            "Aiknt\n"
          ]
        }
      ]
    },
    {
      "cell_type": "markdown",
      "source": [
        "An isogram is a word that has no duplicate letters. Create a function that takes a\n",
        "string and returns either True or False depending on whether or not it's an \"isogram\"."
      ],
      "metadata": {
        "id": "OSOROYgIxNkY"
      }
    },
    {
      "cell_type": "code",
      "source": [
        "def is_isogram(word):\n",
        "\n",
        " word = word.lower()\n",
        "\n",
        " # Create a set to store unique letters in the word\n",
        " unique_letters = set()\n",
        "\n",
        " for letter in word:\n",
        " # If the letter is already in the set, it's not an isogram\n",
        " if letter in unique_letters:\n",
        " return False\n",
        " # Otherwise, add it to the set\n",
        " unique_letters.add(letter)\n",
        "\n",
        " return True"
      ],
      "metadata": {
        "id": "WJqdI8XsxOkP"
      },
      "execution_count": null,
      "outputs": []
    },
    {
      "cell_type": "markdown",
      "source": [
        "Create a function that takes a list of strings and return a list, sorted from shortest to\n",
        "longest."
      ],
      "metadata": {
        "id": "FG4C8vD6x88X"
      }
    },
    {
      "cell_type": "code",
      "source": [
        "lst = ['google','Ant','Z','Amazone','Apples','Grapes_']\n",
        "def sortby_len(word):\n",
        "    return (sorted(lst,key=len))\n",
        "\n",
        "print(sortby_len(word))"
      ],
      "metadata": {
        "id": "ocNuPTwJxb-F",
        "outputId": "f0a152a7-d78f-440b-ab20-30c442732c46",
        "colab": {
          "base_uri": "https://localhost:8080/"
        }
      },
      "execution_count": null,
      "outputs": [
        {
          "output_type": "stream",
          "name": "stdout",
          "text": [
            "['Z', 'Ant', 'google', 'Apples', 'Amazone', 'Grapes_']\n"
          ]
        }
      ]
    },
    {
      "cell_type": "markdown",
      "source": [
        "Pattern"
      ],
      "metadata": {
        "id": "LtYGxczDii2J"
      }
    },
    {
      "cell_type": "code",
      "source": [
        "n= int(input(\"enter the number--->\"))\n",
        "\n",
        "for i in range(1,n+1):\n",
        "        for j in range(1,i+1):\n",
        "                print(j,end=' ')\n",
        "        print('')\n",
        "\n",
        "for i in range(n,0,-1):\n",
        "        for j in range(i,0,-1):\n",
        "                print(j,end=' ')\n",
        "        print('')"
      ],
      "metadata": {
        "id": "sSU6hc6MikYT"
      },
      "execution_count": null,
      "outputs": []
    },
    {
      "cell_type": "code",
      "source": [
        "def two_sum(nums, target):\n",
        "    # Dictionary to store the complement of each number\n",
        "    complement_map = {}\n",
        "\n",
        "    for i, num in enumerate(nums):\n",
        "        complement = target - num\n",
        "        # Check if the complement exists in the dictionary\n",
        "        if complement in complement_map:\n",
        "            # Return the indices of the two numbers\n",
        "            return [complement_map[complement], i]\n",
        "        # If complement not found, add the current number to the dictionary\n",
        "        complement_map[num] = i\n",
        "\n",
        "    # If no solution found\n",
        "    return None\n",
        "\n",
        "# Test the function with nums = [2,7,11,15], target = 9\n",
        "nums = [2, 7, 11,75, 15,86,96]\n",
        "target = 86\n",
        "print(two_sum(nums, target))  # Output: [0, 1]\n"
      ],
      "metadata": {
        "id": "XU16SbKSTT9r",
        "outputId": "bdbddec0-3016-46f8-eadf-abe3c2a5b23f",
        "colab": {
          "base_uri": "https://localhost:8080/"
        }
      },
      "execution_count": null,
      "outputs": [
        {
          "output_type": "stream",
          "name": "stdout",
          "text": [
            "[2, 3]\n"
          ]
        }
      ]
    },
    {
      "cell_type": "code",
      "source": [
        "s='hello'\n",
        "def string_score(s):\n",
        "  score = 0\n",
        "  for i in range(len(s)-1):\n",
        "    score += abs(ord(s[i]) - ord(s[i+1]))\n",
        "  return score\n",
        "\n",
        "\n",
        "print(string_score(s))\n",
        "\n"
      ],
      "metadata": {
        "id": "1RCEbHzO6iRP",
        "outputId": "9cea8f62-2e7b-489c-b388-879b19a563ed",
        "colab": {
          "base_uri": "https://localhost:8080/"
        }
      },
      "execution_count": null,
      "outputs": [
        {
          "output_type": "stream",
          "name": "stdout",
          "text": [
            "13\n"
          ]
        }
      ]
    },
    {
      "cell_type": "code",
      "source": [
        "word ='leetcode'\n",
        "def substring(word):\n",
        "  reverse=word[::-1]\n",
        "  for i in range(1,len(word)):\n",
        "    if word[i-1] +word[i] in reverse:\n",
        "      return True\n",
        "  return False\n",
        "substring(word)"
      ],
      "metadata": {
        "id": "xDjO5v827NBr",
        "outputId": "9248c18b-0723-4cbf-9e80-8ad9419a9d40",
        "colab": {
          "base_uri": "https://localhost:8080/"
        }
      },
      "execution_count": null,
      "outputs": [
        {
          "output_type": "execute_result",
          "data": {
            "text/plain": [
              "True"
            ]
          },
          "metadata": {},
          "execution_count": 4
        }
      ]
    },
    {
      "cell_type": "markdown",
      "source": [
        "Second largest element"
      ],
      "metadata": {
        "id": "OSvQCLHaS8jf"
      }
    },
    {
      "cell_type": "code",
      "source": [
        "n = int(input())\n",
        "arr = map(int, input().split())  #2 3 6 6 5\n",
        "def second_largest(arr):\n",
        "   new = sorted(set(arr))\n",
        "   return new[-2]\n",
        "\n",
        "second_largest(arr)\n"
      ],
      "metadata": {
        "id": "J-GPsnCHQkqj",
        "outputId": "8065a213-b72d-4f2a-8c62-96db25bcd1f1",
        "colab": {
          "base_uri": "https://localhost:8080/"
        }
      },
      "execution_count": null,
      "outputs": [
        {
          "name": "stdout",
          "output_type": "stream",
          "text": [
            "5\n",
            "2 3 6 8 9 7 8\n"
          ]
        },
        {
          "output_type": "execute_result",
          "data": {
            "text/plain": [
              "8"
            ]
          },
          "metadata": {},
          "execution_count": 20
        }
      ]
    },
    {
      "cell_type": "markdown",
      "source": [
        " In this challenge, the user enters a string and a substring. You have to print the number of times that the substring occurs in the given string. String traversal will take place from left to right, not from right to left\n",
        "\n",
        " ABCDCDC\n",
        "\n",
        "CDC  ---2\n"
      ],
      "metadata": {
        "id": "HtZbI1wzNoB0"
      }
    },
    {
      "cell_type": "code",
      "source": [
        "def count_substring(string, sub_string):\n",
        "    count = 0\n",
        "    for i in range(len(string) - len(sub_string) + 1):\n",
        "        if string[i:].startswith(sub_string):\n",
        "            count += 1\n",
        "    return count\n",
        "\n",
        "string = 'ABCDCDC'\n",
        "sub_string = \"CDC\"\n",
        "count_substring(string, sub_string)"
      ],
      "metadata": {
        "id": "3h9CtMHwLb-g",
        "outputId": "7857c959-ede6-472a-cd74-7a5a1e8b92ab",
        "colab": {
          "base_uri": "https://localhost:8080/"
        }
      },
      "execution_count": 3,
      "outputs": [
        {
          "output_type": "execute_result",
          "data": {
            "text/plain": [
              "2"
            ]
          },
          "metadata": {},
          "execution_count": 3
        }
      ]
    },
    {
      "cell_type": "code",
      "source": [
        "\n",
        "l1=input().split()\n",
        "\n",
        "l2=input().split()\n",
        "for x in l1:\n",
        "  for y in l2:\n",
        "    print((int(x),int(y)),end=\" \")"
      ],
      "metadata": {
        "id": "bMIODHhgTnut",
        "outputId": "ca9600af-9207-4822-cfcc-353f602c6d7e",
        "colab": {
          "base_uri": "https://localhost:8080/"
        }
      },
      "execution_count": 19,
      "outputs": [
        {
          "output_type": "stream",
          "name": "stdout",
          "text": [
            "1 3 4\n",
            "4 3 1\n",
            "(1, 4) (1, 3) (1, 1) (3, 4) (3, 3) (3, 1) (4, 4) (4, 3) (4, 1) "
          ]
        }
      ]
    },
    {
      "cell_type": "code",
      "source": [
        "l1=input().split()\n",
        "def new_(x):\n",
        "  x= '-'.join(l1)\n",
        "  return x\n",
        "new_(x)"
      ],
      "metadata": {
        "id": "y479JRs9ZJmW",
        "outputId": "2478e6e6-d04b-4901-de4c-008ee0f10bd9",
        "colab": {
          "base_uri": "https://localhost:8080/",
          "height": 53
        }
      },
      "execution_count": 28,
      "outputs": [
        {
          "name": "stdout",
          "output_type": "stream",
          "text": [
            "this is a string   \n"
          ]
        },
        {
          "output_type": "execute_result",
          "data": {
            "text/plain": [
              "'this-is-a-string'"
            ],
            "application/vnd.google.colaboratory.intrinsic+json": {
              "type": "string"
            }
          },
          "metadata": {},
          "execution_count": 28
        }
      ]
    }
  ]
}
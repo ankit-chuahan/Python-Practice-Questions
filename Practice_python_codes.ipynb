{
  "nbformat": 4,
  "nbformat_minor": 0,
  "metadata": {
    "colab": {
      "provenance": [],
      "authorship_tag": "ABX9TyMhKvnUW0nzAbVoCkvoVh6I",
      "include_colab_link": true
    },
    "kernelspec": {
      "name": "python3",
      "display_name": "Python 3"
    },
    "language_info": {
      "name": "python"
    }
  },
  "cells": [
    {
      "cell_type": "markdown",
      "metadata": {
        "id": "view-in-github",
        "colab_type": "text"
      },
      "source": [
        "<a href=\"https://colab.research.google.com/github/ankit-chuahan/Python-Practice-Questions/blob/main/Practice_python_codes.ipynb\" target=\"_parent\"><img src=\"https://colab.research.google.com/assets/colab-badge.svg\" alt=\"Open In Colab\"/></a>"
      ]
    },
    {
      "cell_type": "markdown",
      "source": [
        "1. Write a Python program to find the area of a triangle.\n",
        "-Area of triangle is 1/2 * Base * height"
      ],
      "metadata": {
        "id": "1uylTtD1pYXK"
      }
    },
    {
      "cell_type": "code",
      "execution_count": 5,
      "metadata": {
        "colab": {
          "base_uri": "https://localhost:8080/"
        },
        "id": "iwtj2aTYHEai",
        "outputId": "9e61f6f4-5b84-4168-c33e-753451d2b4d2"
      },
      "outputs": [
        {
          "output_type": "stream",
          "name": "stdout",
          "text": [
            "Enter the Base of Triangle\n",
            "15\n",
            "Enter the Height of Triangle\n",
            "12\n",
            "The Area of Triangle of Base 15  And Height 12 is : -->90.0\n"
          ]
        }
      ],
      "source": [
        "# ARea of Triangle\n",
        "# Taking user input for both base and height and type cast it to int\n",
        "Base =int(input(\"Enter the Base of Triangle\\n\"))\n",
        "Height = int(input(\"Enter the Height of Triangle\\n\"))\n",
        "Area = (1/2 * Base * Height)\n",
        "print(f\"The Area of Triangle of Base {Base}  And Height {Height} is : -->{Area}\")"
      ]
    },
    {
      "cell_type": "markdown",
      "source": [
        "2.  Write a program that calculates the area & perimeter of a circle from the\n",
        "radius\n",
        "\n",
        "using the formula A = πr², P =2πr"
      ],
      "metadata": {
        "id": "h9rGNqNWQWnh"
      }
    },
    {
      "cell_type": "code",
      "source": [
        "# perimter of circle\n",
        "import math\n",
        "radius = float(input(\"enter the radius\"))\n",
        "perimter = 2*math.pi*radius\n",
        "print(f\"perimeter of circle of radius {radius} is :-->{perimter}\")\n",
        "\n",
        "Area = math.pi * radius**2\n",
        "print(f\"Area of circle of radius {radius} is ----->{Area}\")"
      ],
      "metadata": {
        "colab": {
          "base_uri": "https://localhost:8080/"
        },
        "id": "coHMpH2hQZif",
        "outputId": "e9714f42-3969-40f8-df95-b50ea7000657"
      },
      "execution_count": 14,
      "outputs": [
        {
          "output_type": "stream",
          "name": "stdout",
          "text": [
            "enter the radius14\n",
            "perimeter of circle of radius 14.0 is :-->87.96459430051421\n",
            "Area of circle is ----->615.7521601035994\n"
          ]
        }
      ]
    },
    {
      "cell_type": "markdown",
      "source": [
        "3. Write a Python program to swap two variables."
      ],
      "metadata": {
        "id": "DbV8pR0kJnuW"
      }
    },
    {
      "cell_type": "code",
      "source": [
        "a = int(input(\"enter first number\\n\"))\n",
        "b = int(input(\"enter second number\\n\"))\n",
        "# a,b = b,a\n",
        "# print(a,b)  #swaping without temperory variable\n",
        "print(f\"original value of A is {a} and b is {b}\")\n",
        "temp = a # we store value of a in temp variable\n",
        "a=b\n",
        "b=temp\n",
        "print(f\"after swapping value of A is {a} and b is {b}\")"
      ],
      "metadata": {
        "colab": {
          "base_uri": "https://localhost:8080/"
        },
        "id": "OTPNm-GnJG3y",
        "outputId": "4cb286c5-9f02-4eb8-ddc4-8005195ee24a"
      },
      "execution_count": 9,
      "outputs": [
        {
          "output_type": "stream",
          "name": "stdout",
          "text": [
            "enter first number\n",
            "1\n",
            "enter second number\n",
            "100\n",
            "original value of A is 1 and b is 100\n",
            "after swapping value of A is 100 and b is 1\n"
          ]
        }
      ]
    },
    {
      "cell_type": "markdown",
      "source": [
        "4. Write a Python Program to Check Leap Year"
      ],
      "metadata": {
        "id": "6LGqdieDLEzz"
      }
    },
    {
      "cell_type": "code",
      "source": [],
      "metadata": {
        "id": "txtjadU-jm2P"
      },
      "execution_count": null,
      "outputs": []
    },
    {
      "cell_type": "markdown",
      "source": [
        "5.Write a program that reads the x and y position of two\n",
        "points in the Cartesian plane, and calculates the distance\n",
        "between them.\n",
        "\n"
      ],
      "metadata": {
        "id": "2eFrCpSzlKW1"
      }
    },
    {
      "cell_type": "markdown",
      "source": [],
      "metadata": {
        "id": "epBYJUkgpR8d"
      }
    },
    {
      "cell_type": "code",
      "source": [
        "x1= int(input(\"enter the first point of x cordinate\"))\n",
        "x2 =int(input(\"enter the second point of x cordinate\"))\n",
        "y1 =int(input(\"enter the first point of Y cordinate\"))\n",
        "y2 =int(input(\"enter the Second point of Y cordinate\"))\n",
        "\n",
        "distance = math.sqrt((x2-x1)**2-(y2-y1)**2)\n",
        "print(f\"The cartesian distance between two point is {distance}\")"
      ],
      "metadata": {
        "colab": {
          "base_uri": "https://localhost:8080/"
        },
        "id": "pkFVKSRllMkB",
        "outputId": "0a5f6ff6-bcc4-40dd-82e3-9c2b2bce8bb7"
      },
      "execution_count": 17,
      "outputs": [
        {
          "output_type": "stream",
          "name": "stdout",
          "text": [
            "enter the first point of x cordinate9\n",
            "enter the second point of x cordinate2\n",
            "enter the first point of Y cordinate8\n",
            "enter the Second point of Y cordinate3\n",
            "The cartesian distance between two point is 4.898979485566356\n"
          ]
        }
      ]
    }
  ]
}